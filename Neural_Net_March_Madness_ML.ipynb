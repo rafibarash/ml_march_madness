{
  "nbformat": 4,
  "nbformat_minor": 0,
  "metadata": {
    "colab": {
      "name": "Neural Net March Madness ML",
      "version": "0.3.2",
      "provenance": [],
      "collapsed_sections": [
        "MOK_-6Ifb_mk",
        "79hBZ8E7ew2P"
      ]
    },
    "kernelspec": {
      "name": "python3",
      "display_name": "Python 3"
    }
  },
  "cells": [
    {
      "cell_type": "markdown",
      "metadata": {
        "id": "view-in-github",
        "colab_type": "text"
      },
      "source": [
        "[View in Colaboratory](https://colab.research.google.com/github/rafibarash/ml_march_madness/blob/master/Neural_Net_March_Madness_ML.ipynb)"
      ]
    },
    {
      "metadata": {
        "id": "jK4aXgYCVnXO",
        "colab_type": "text"
      },
      "cell_type": "markdown",
      "source": [
        "# Summary and Findings"
      ]
    },
    {
      "metadata": {
        "id": "MubsT864VrgW",
        "colab_type": "text"
      },
      "cell_type": "markdown",
      "source": [
        "A machine learning attempt to predict result of march madness matchups.\n",
        "\n",
        "**Findings**\n",
        "* Simple linear regression model with single \"Seed Difference\" feature has average RMSE of 0.43 on training, validation, and test data (BENCHMARK TO BEAT)\n",
        "* Linear regression model predicted near 100% chance of winning when seed difference is -15 (1 vs 16 seed) and near 0% chance of winning when seed difference is 15 (16 vs 1 seed)....as expected\n",
        "* Neural network model with single \"Seed Difference\" feature has similar RMSE, without overfitting\n",
        "* Trouble improving neural network model by adding regular season data along with \"Seed Difference\" feature\n",
        "\n",
        "*   List item\n",
        "*   List item\n",
        "\n",
        "\n",
        "* More complex neural network models tending to overfit to training data\n",
        "\n",
        "**Ideas to Improve Performance of Neural Network Model**\n",
        "* Bucketize each feature for number of seasons\n",
        "* Keep individual stats like assists or turnovers instead of using feature crosses\n",
        "* Keep track of defensive regular season stats\n",
        "* For each tournament matchup, make reg season stat column difference between Team A and Team B\n",
        "* Apply Dropout Regularization (maybe test around with L1 and L2 regularization)"
      ]
    },
    {
      "metadata": {
        "id": "MOK_-6Ifb_mk",
        "colab_type": "text"
      },
      "cell_type": "markdown",
      "source": [
        "# Essential Code"
      ]
    },
    {
      "metadata": {
        "id": "Gd2m_KyacY7B",
        "colab_type": "code",
        "colab": {}
      },
      "cell_type": "code",
      "source": [
        "import math\n",
        "\n",
        "from IPython import display\n",
        "from matplotlib import cm\n",
        "from matplotlib import gridspec\n",
        "from matplotlib import pyplot as plt\n",
        "import numpy as np\n",
        "import pandas as pd\n",
        "from sklearn import metrics\n",
        "from sklearn.utils import shuffle\n",
        "import tensorflow as tf\n",
        "from tensorflow.python.data import Dataset\n",
        "\n",
        "tf.logging.set_verbosity(tf.logging.ERROR)\n",
        "pd.options.display.max_rows = 10\n",
        "pd.options.display.float_format = '{:.1f}'.format"
      ],
      "execution_count": 0,
      "outputs": []
    },
    {
      "metadata": {
        "id": "ujWzzwj8uzFV",
        "colab_type": "code",
        "colab": {}
      },
      "cell_type": "code",
      "source": [
        "def preprocess_features(results_dataframe):\n",
        "  \"\"\"Prepares input features from tournament data set.\n",
        "\n",
        "  Args:\n",
        "    results_dataframe: A Pandas DataFrame expected to contain data\n",
        "      from the results of regular season and tournament NCAA games\n",
        "  Returns:\n",
        "    A DataFrame that contains the features to be used for the model, including\n",
        "    synthetic features.\n",
        "  \"\"\"\n",
        "  stats = STATS\n",
        "  selected_features = results_dataframe[stats]\n",
        "  processed_features = selected_features.copy()\n",
        " \n",
        "  return processed_features\n",
        "\n",
        "\n",
        "def preprocess_targets(results_dataframe):\n",
        "  \"\"\"Prepares target features (i.e., labels) from California housing data set.\n",
        "\n",
        "  Args:\n",
        "    full_results_dataframe: A Pandas DataFrame expected to contain data\n",
        "      from the results of regular season and tournament NCAA games\n",
        "  Returns:\n",
        "    A DataFrame that contains the target feature.\n",
        "  \"\"\"\n",
        "  output_targets = pd.DataFrame()\n",
        "  output_targets[\"Result\"] = results_dataframe[\"Result\"]\n",
        "  \n",
        "  return output_targets"
      ],
      "execution_count": 0,
      "outputs": []
    },
    {
      "metadata": {
        "id": "ojr-jq4ccIQ4",
        "colab_type": "code",
        "colab": {}
      },
      "cell_type": "code",
      "source": [
        "def construct_feature_columns(input_features):\n",
        "  \"\"\"Construct the TensorFlow Feature Columns.\n",
        "\n",
        "  Args:\n",
        "    input_features: The names of the numerical input features to use.\n",
        "  Returns:\n",
        "    A set of feature columns\n",
        "  \"\"\" \n",
        "  return set([tf.feature_column.numeric_column(my_feature)\n",
        "              for my_feature in input_features])"
      ],
      "execution_count": 0,
      "outputs": []
    },
    {
      "metadata": {
        "id": "BAWLayafcLS3",
        "colab_type": "code",
        "colab": {}
      },
      "cell_type": "code",
      "source": [
        "def my_input_fn(features, targets, batch_size=1, shuffle=True, num_epochs=None):\n",
        "    \"\"\"Trains a linear regression model.\n",
        "  \n",
        "    Args:\n",
        "      features: pandas DataFrame of features\n",
        "      targets: pandas DataFrame of targets\n",
        "      batch_size: Size of batches to be passed to the model\n",
        "      shuffle: True or False. Whether to shuffle the data.\n",
        "      num_epochs: Number of epochs for which data should be repeated. None = repeat indefinitely\n",
        "    Returns:\n",
        "      Tuple of (features, labels) for next data batch\n",
        "    \"\"\"\n",
        "    \n",
        "    # Convert pandas data into a dict of np arrays.\n",
        "    features = {key:np.array(value) for key,value in dict(features).items()}                                            \n",
        " \n",
        "    # Construct a dataset, and configure batching/repeating.\n",
        "    ds = Dataset.from_tensor_slices((features,targets)) # warning: 2GB limit\n",
        "    ds = ds.batch(batch_size).repeat(num_epochs)\n",
        "    \n",
        "    # Shuffle the data, if specified.\n",
        "    if shuffle:\n",
        "      ds = ds.shuffle(10000)\n",
        "    \n",
        "    # Return the next batch of data.\n",
        "    features, labels = ds.make_one_shot_iterator().get_next()\n",
        "    return features, labels"
      ],
      "execution_count": 0,
      "outputs": []
    },
    {
      "metadata": {
        "id": "d34THLNUcPE5",
        "colab_type": "code",
        "colab": {}
      },
      "cell_type": "code",
      "source": [
        "def linear_scale(series):\n",
        "  min_val = series.min()\n",
        "  max_val = series.max()\n",
        "  scale = (max_val - min_val) / 2.0\n",
        "  return series.apply(lambda x:((x - min_val) / scale) - 1.0)\n",
        "\n",
        "def log_normalize(series):\n",
        "  return series.apply(lambda x:math.log(x+1.0))\n",
        "\n",
        "def clip(series, clip_to_min, clip_to_max):\n",
        "  return series.apply(lambda x:(\n",
        "    min(max(x, clip_to_min), clip_to_max)))\n",
        "\n",
        "def z_score_normalize(series):\n",
        "  mean = series.mean()\n",
        "  std_dv = series.std()\n",
        "  return series.apply(lambda x:(x - mean) / std_dv)\n",
        "\n",
        "def binary_threshold(series, threshold):\n",
        "  return series.apply(lambda x:(1 if x > threshold else 0))"
      ],
      "execution_count": 0,
      "outputs": []
    },
    {
      "metadata": {
        "id": "ceCTn8AscR5J",
        "colab_type": "code",
        "colab": {}
      },
      "cell_type": "code",
      "source": [
        "def normalize_linear_scale(examples_dataframe):\n",
        "  \"\"\"Returns a version of the input `DataFrame` that has all its features normalized linearly.\"\"\"\n",
        "  normalized_features = pd.DataFrame()\n",
        "  for stat in STATS:\n",
        "    normalized_features[stat] = linear_scale(examples_dataframe[stat])\n",
        "  return normalized_features"
      ],
      "execution_count": 0,
      "outputs": []
    },
    {
      "metadata": {
        "id": "79hBZ8E7ew2P",
        "colab_type": "text"
      },
      "cell_type": "markdown",
      "source": [
        "# Linear Regression mapping \"Seed Difference\" to \"Result\" - Avg RMSE of 0.43, Avg MAE of 0.61"
      ]
    },
    {
      "metadata": {
        "id": "ouAwOJEBb9IZ",
        "colab_type": "code",
        "colab": {}
      },
      "cell_type": "code",
      "source": [
        "# Load datasets\n",
        "\n",
        "t_compact = pd.read_csv(\"https://storage.googleapis.com/march-madness-ml-2018/NCAATourneyCompactResults.csv\", sep=\",\")\n",
        "t_seeds = pd.read_csv(\"https://storage.googleapis.com/march-madness-ml-2018/NCAATourneySeeds.csv\", sep=\",\")"
      ],
      "execution_count": 0,
      "outputs": []
    },
    {
      "metadata": {
        "id": "kpTIrJv3co5U",
        "colab_type": "code",
        "colab": {}
      },
      "cell_type": "code",
      "source": [
        "# Clean Data\n",
        "t_seeds['Seed'] = t_seeds['Seed'].apply(lambda seed: int(seed[1:3]))\n",
        "t_wseeds = t_seeds.rename(columns={'TeamID':'WTeamID', 'Seed':'WSeed'})\n",
        "t_lseeds = t_seeds.rename(columns={'TeamID':'LTeamID', 'Seed':'LSeed'})\n",
        "t_compact = t_compact.drop(labels=[\"DayNum\", \"WScore\", \"LScore\", \"WLoc\", \"NumOT\"], axis=1)\n",
        "t_compact = t_compact.rename(columns={'WTeam': 'WTeamID', 'LTeam': 'LTeamID'})\n",
        "\n",
        "# Merge Seeds with Team ID\n",
        "t_dummy = pd.merge(left=t_compact, right=t_wseeds, how='left', on=['Season', 'WTeamID'])\n",
        "t_concat = pd.merge(left=t_dummy, right=t_lseeds, on=['Season', 'LTeamID'])\n",
        "t_concat['SeedDiff'] = t_concat['WSeed'] - t_concat['LSeed']\n",
        "\n",
        "# make DataFrame that summarizes SeedDiff and Result\n",
        "t_wins = pd.DataFrame()\n",
        "t_wins['SeedDiff'] = t_concat['SeedDiff']\n",
        "t_wins['Result'] = 1\n",
        "\n",
        "t_losses = pd.DataFrame()\n",
        "t_losses['SeedDiff'] = -t_concat['SeedDiff']\n",
        "t_losses['Result'] = 0\n",
        "\n",
        "# concat seediff with results into DataFrame to use for predictions\n",
        "full_results = pd.concat((t_wins, t_losses))\n",
        "full_results = full_results.reset_index(drop=True)\n",
        "full_results = full_results.reindex(\n",
        "    np.random.permutation(full_results.index))"
      ],
      "execution_count": 0,
      "outputs": []
    },
    {
      "metadata": {
        "id": "KCgHxKsDct1L",
        "colab_type": "code",
        "colab": {}
      },
      "cell_type": "code",
      "source": [
        "num_total_examples = len(full_results.index)\n",
        "num_training_examples = math.floor(num_total_examples*0.7)\n",
        "num_validation_examples = math.floor(num_total_examples*0.15)\n",
        "index_validation_examples = num_training_examples + num_validation_examples\n",
        "num_test_examples = math.floor(num_total_examples*0.15)\n",
        "index_test_examples = num_training_examples + num_validation_examples + num_test_examples\n",
        "\n",
        "# Choose the first 65% of examples for training.\n",
        "training_examples = preprocess_features(full_results.iloc[0:num_training_examples])\n",
        "training_targets = preprocess_targets(full_results.iloc[0:num_training_examples])\n",
        "\n",
        "# Choose 15% after training examples for validation\n",
        "validation_examples = preprocess_features(full_results.iloc[num_training_examples:index_validation_examples])\n",
        "validation_targets = preprocess_targets(full_results.iloc[num_training_examples:index_validation_examples])\n",
        "\n",
        "# Choose 15% after validation examples for testing\n",
        "test_examples = preprocess_features(full_results.iloc[index_validation_examples:index_test_examples])\n",
        "test_targets = preprocess_targets(full_results.iloc[index_validation_examples:index_test_examples])"
      ],
      "execution_count": 0,
      "outputs": []
    },
    {
      "metadata": {
        "id": "qi-560wfcuiV",
        "colab_type": "code",
        "colab": {}
      },
      "cell_type": "code",
      "source": [
        "# Double-check that we've done the right thing.\n",
        "\n",
        "# print(\"Training examples summary:\")\n",
        "# display.display(training_examples.describe())\n",
        "# print(\"Validation examples summary:\")\n",
        "# display.display(validation_examples.describe())\n",
        "# print(\"Test examples summary:\")\n",
        "# display.display(test_examples.describe())\n",
        "\n",
        "# print(\"Training targets summary:\") \n",
        "# display.display(training_targets.head())\n",
        "# print(\"Validation targets summary:\")\n",
        "# display.display(validation_targets.head())\n",
        "# print(\"Test targets summary:\")\n",
        "# display.display(test_targets.head())"
      ],
      "execution_count": 0,
      "outputs": []
    },
    {
      "metadata": {
        "id": "2haP5BCetHCX",
        "colab_type": "code",
        "colab": {}
      },
      "cell_type": "code",
      "source": [
        "def train_linear_model(\n",
        "    learning_rate,\n",
        "    steps,\n",
        "    batch_size,\n",
        "    training_examples,\n",
        "    training_targets,\n",
        "    validation_examples,\n",
        "    validation_targets,\n",
        "    test_examples,\n",
        "    test_targets):\n",
        "  \"\"\"Trains a linear regression model of one feature.\n",
        "  \n",
        "  Args:\n",
        "    learning_rate: A `float`, the learning rate.\n",
        "    steps: A non-zero `int`, the total number of training steps. A training step\n",
        "      consists of a forward and backward pass using a single batch.\n",
        "    batch_size: A non-zero `int`, the batch size.\n",
        "    input_feature: A `string` specifying a column from `california_housing_dataframe`\n",
        "      to use as input feature.\n",
        "  \"\"\"\n",
        "  \n",
        "  periods = 10\n",
        "  steps_per_period = steps / periods\n",
        "\n",
        "  my_feature = \"SeedDiff\"\n",
        "  my_label = \"Result\"\n",
        "\n",
        "  # Create feature columns.\n",
        "  feature_columns = [tf.feature_column.numeric_column(my_feature)]\n",
        "  \n",
        "  # Create input functions.\n",
        "  training_input_fn = lambda:my_input_fn(training_examples, training_targets, batch_size=batch_size)\n",
        "  predict_training_input_fn = lambda: my_input_fn(training_examples, training_targets, num_epochs=1, shuffle=False)\n",
        "  predict_validation_input_fn = lambda: my_input_fn(validation_examples, validation_targets, num_epochs=1, shuffle=False)\n",
        "  predict_test_input_fn = lambda: my_input_fn(test_examples, test_targets, num_epochs=1, shuffle=False)\n",
        "  \n",
        "  # Create a linear regressor object.\n",
        "  my_optimizer = tf.train.GradientDescentOptimizer(learning_rate=learning_rate)\n",
        "  my_optimizer = tf.contrib.estimator.clip_gradients_by_norm(my_optimizer, 5.0)\n",
        "  linear_regressor = tf.estimator.LinearRegressor(\n",
        "      feature_columns=feature_columns,\n",
        "      optimizer=my_optimizer\n",
        "  )\n",
        "\n",
        "  # Set up to plot the state of our model's line each period.\n",
        "  plt.figure(figsize=(15, 6))\n",
        "  plt.subplot(1, 2, 1)\n",
        "  plt.title(\"Learned Line by Period\")\n",
        "  plt.ylabel(my_label)\n",
        "  plt.xlabel(my_feature)\n",
        "  sample = full_results.sample(n=300)\n",
        "  plt.scatter(sample[my_feature], sample[my_label])\n",
        "  colors = [cm.coolwarm(x) for x in np.linspace(-1, 1, periods)]\n",
        "\n",
        "  # Train the model, but do so inside a loop so that we can periodically assess\n",
        "  # loss metrics.\n",
        "  print(\"Training linear regressor model...\")\n",
        "  print(\"RMSE (on training data):\")\n",
        "  training_rmse = []\n",
        "  validation_rmse = []\n",
        "  test_rmse = []\n",
        "  for period in range (0, periods):\n",
        "    # Train the model, starting from the prior state.\n",
        "    linear_regressor.train(\n",
        "        input_fn=training_input_fn,\n",
        "        steps=steps_per_period\n",
        "    )\n",
        "    # Take a break and compute predictions.\n",
        "    training_predictions = linear_regressor.predict(input_fn=predict_training_input_fn)\n",
        "    training_predictions = np.array([item['predictions'][0] for item in training_predictions])\n",
        "    \n",
        "    validation_predictions = linear_regressor.predict(input_fn=predict_validation_input_fn)\n",
        "    validation_predictions = np.array([item['predictions'][0] for item in validation_predictions])\n",
        "    \n",
        "    test_predictions = linear_regressor.predict(input_fn=predict_test_input_fn)\n",
        "    test_predictions = np.array([item['predictions'][0] for item in test_predictions])\n",
        "    \n",
        "    # Compute RMSE loss.\n",
        "    training_root_mean_squared_error = math.sqrt(\n",
        "        metrics.mean_squared_error(training_predictions, training_targets))\n",
        "    validation_root_mean_squared_error = math.sqrt(\n",
        "        metrics.mean_squared_error(validation_predictions, validation_targets))\n",
        "    test_root_mean_squared_error = math.sqrt(\n",
        "        metrics.mean_squared_error(test_predictions, test_targets))\n",
        "    \n",
        "    # Occasionally print the current loss.\n",
        "    print(\"  period %02d : %0.2f\" % (period, training_root_mean_squared_error))\n",
        "    # Add the loss metrics from this period to our list.\n",
        "    training_rmse.append(training_root_mean_squared_error)\n",
        "    validation_rmse.append(validation_root_mean_squared_error)\n",
        "    test_rmse.append(test_root_mean_squared_error)\n",
        "    # Finally, track the weights and biases over time.\n",
        "    # Apply some math to ensure that the data and line are plotted neatly.\n",
        "    y_extents = np.array([0, sample[my_label].max()])\n",
        "    \n",
        "    weight = linear_regressor.get_variable_value('linear/linear_model/%s/weights' % my_feature)[0]\n",
        "    bias = linear_regressor.get_variable_value('linear/linear_model/bias_weights')\n",
        "\n",
        "    x_extents = (y_extents - bias) / weight\n",
        "    x_extents = np.maximum(np.minimum(x_extents,\n",
        "                                      sample[my_feature].max()),\n",
        "                           sample[my_feature].min())\n",
        "    y_extents = weight * x_extents + bias\n",
        "    plt.plot(x_extents, y_extents, color=colors[period]) \n",
        "  print(\"Model training finished.\")\n",
        "  \n",
        "  # Output a graph of loss metrics over periods.\n",
        "  plt.subplot(1, 2, 2)\n",
        "  plt.ylabel(\"RMSE\")\n",
        "  plt.xlabel(\"Periods\")\n",
        "  plt.title(\"Root Mean Squared Error vs. Periods\")\n",
        "  plt.tight_layout()\n",
        "  plt.plot(training_rmse, label=\"training\")\n",
        "  plt.plot(validation_rmse, label=\"validation\")\n",
        "  plt.plot(test_rmse, label=\"test\")\n",
        "  plt.legend()\n",
        "\n",
        "  # Output a table with calibration data.\n",
        "#   calibration_data = pd.DataFrame()\n",
        "#   calibration_data[\"predictions\"] = pd.Series(training_predictions)\n",
        "#   calibration_data[\"targets\"] = pd.Series(training_targets)\n",
        "#   display.display(calibration_data.describe())\n",
        "\n",
        "  print(\"Final RMSE (on training data):   %0.2f\" % training_root_mean_squared_error)\n",
        "  print(\"Final RMSE (on validation data): %0.2f\" % validation_root_mean_squared_error)\n",
        "  print(\"Final RMSE (on test data): %0.2f\" % test_root_mean_squared_error)"
      ],
      "execution_count": 0,
      "outputs": []
    },
    {
      "metadata": {
        "id": "mo4Exwz5tHoZ",
        "colab_type": "code",
        "colab": {
          "base_uri": "https://localhost:8080/",
          "height": 709
        },
        "outputId": "1e34d855-e899-479c-b7f7-04f23184482b"
      },
      "cell_type": "code",
      "source": [
        "train_linear_model(\n",
        "    learning_rate=0.0003,\n",
        "    steps=1000,\n",
        "    batch_size=20,\n",
        "    training_examples=training_examples,\n",
        "    training_targets=training_targets,\n",
        "    validation_examples=validation_examples,\n",
        "    validation_targets=validation_targets,\n",
        "    test_examples=test_examples,\n",
        "    test_targets=test_targets\n",
        ")"
      ],
      "execution_count": 168,
      "outputs": [
        {
          "output_type": "stream",
          "text": [
            "Training linear regressor model...\n",
            "RMSE (on training data):\n",
            "  period 00 : 0.60\n",
            "  period 01 : 0.54\n",
            "  period 02 : 0.50\n",
            "  period 03 : 0.47\n",
            "  period 04 : 0.45\n",
            "  period 05 : 0.44\n",
            "  period 06 : 0.44\n",
            "  period 07 : 0.44\n",
            "  period 08 : 0.43\n",
            "  period 09 : 0.43\n",
            "Model training finished.\n",
            "Final RMSE (on training data):   0.43\n",
            "Final RMSE (on validation data): 0.44\n",
            "Final RMSE (on test data): 0.43\n"
          ],
          "name": "stdout"
        },
        {
          "output_type": "display_data",
          "data": {
            "image/png": "[encoded data removed]",
            "text/plain": [
              "<matplotlib.figure.Figure at 0x7f5fa7492240>"
            ]
          },
          "metadata": {
            "tags": []
          }
        }
      ]
    },
    {
      "metadata": {
        "id": "cLg2Ph0j2GzV",
        "colab_type": "code",
        "colab": {}
      },
      "cell_type": "code",
      "source": [
        "def train_nn_regression_model(\n",
        "    my_optimizer,\n",
        "    steps,\n",
        "    batch_size,\n",
        "    hidden_units,\n",
        "    training_examples,\n",
        "    training_targets,\n",
        "    validation_examples,\n",
        "    validation_targets,\n",
        "    test_examples,\n",
        "    test_targets):\n",
        "  \"\"\"Trains a neural network regression model.\n",
        "  \n",
        "  In addition to training, this function also prints training progress information,\n",
        "  as well as a plot of the training and validation loss over time.\n",
        "  \n",
        "  Args:\n",
        "    my_optimizer: An instance of `tf.train.Optimizer`, the optimizer to use.\n",
        "    steps: A non-zero `int`, the total number of training steps. A training step\n",
        "      consists of a forward and backward pass using a single batch.\n",
        "    batch_size: A non-zero `int`, the batch size.\n",
        "    hidden_units: A `list` of int values, specifying the number of neurons in each layer.\n",
        "    training_examples: A `DataFrame` containing one or more columns from\n",
        "      `california_housing_dataframe` to use as input features for training.\n",
        "    training_targets: A `DataFrame` containing exactly one column from\n",
        "      `california_housing_dataframe` to use as target for training.\n",
        "    validation_examples: A `DataFrame` containing one or more columns from\n",
        "      `california_housing_dataframe` to use as input features for validation.\n",
        "    validation_targets: A `DataFrame` containing exactly one column from\n",
        "      `california_housing_dataframe` to use as target for validation.\n",
        "      \n",
        "  Returns:\n",
        "    A tuple `(estimator, training_losses, validation_losses)`:\n",
        "      estimator: the trained `DNNRegressor` object.\n",
        "      training_losses: a `list` containing the training loss values taken during training.\n",
        "      validation_losses: a `list` containing the validation loss values taken during training.\n",
        "  \"\"\"\n",
        "\n",
        "  periods = 10\n",
        "  steps_per_period = steps / periods\n",
        "  \n",
        "  # Create a DNNRegressor object.\n",
        "  my_optimizer = tf.contrib.estimator.clip_gradients_by_norm(my_optimizer, 5.0)\n",
        "  dnn_regressor = tf.estimator.DNNRegressor(\n",
        "      feature_columns=construct_feature_columns(training_examples),\n",
        "      hidden_units=hidden_units,\n",
        "      optimizer=my_optimizer\n",
        "  )\n",
        "  \n",
        "  # Create input functions.\n",
        "  training_input_fn = lambda: my_input_fn(training_examples, \n",
        "                                          training_targets[\"Result\"], \n",
        "                                          batch_size=batch_size)\n",
        "  predict_training_input_fn = lambda: my_input_fn(training_examples, \n",
        "                                                  training_targets[\"Result\"], \n",
        "                                                  num_epochs=1, \n",
        "                                                  shuffle=False)\n",
        "  predict_validation_input_fn = lambda: my_input_fn(validation_examples, \n",
        "                                                    validation_targets[\"Result\"], \n",
        "                                                    num_epochs=1, \n",
        "                                                    shuffle=False)\n",
        "  predict_test_input_fn = lambda: my_input_fn(test_examples, \n",
        "                                                    test_targets[\"Result\"], \n",
        "                                                    num_epochs=1, \n",
        "                                                    shuffle=False)\n",
        "\n",
        "  # Train the model, but do so inside a loop so that we can periodically assess\n",
        "  # loss metrics.\n",
        "  print(\"Training neural network model...\")\n",
        "  print(\"RMSE (on training data):\")\n",
        "  training_rmse = []\n",
        "  validation_rmse = []\n",
        "  test_rmse = []\n",
        "  for period in range (0, periods):\n",
        "    # Train the model, starting from the prior state.\n",
        "    dnn_regressor.train(\n",
        "        input_fn=training_input_fn,\n",
        "        steps=steps_per_period\n",
        "    )\n",
        "    # Take a break and compute predictions.\n",
        "    training_predictions = dnn_regressor.predict(input_fn=predict_training_input_fn)\n",
        "    training_predictions = np.array([item['predictions'][0] for item in training_predictions])\n",
        "    \n",
        "    validation_predictions = dnn_regressor.predict(input_fn=predict_validation_input_fn)\n",
        "    validation_predictions = np.array([item['predictions'][0] for item in validation_predictions])\n",
        "    \n",
        "    test_predictions = dnn_regressor.predict(input_fn=predict_test_input_fn)\n",
        "    test_predictions = np.array([item['predictions'][0] for item in test_predictions])\n",
        "    \n",
        "    # Compute training and validation loss.\n",
        "    training_root_mean_squared_error = math.sqrt(\n",
        "        metrics.mean_squared_error(training_predictions, training_targets))\n",
        "    validation_root_mean_squared_error = math.sqrt(\n",
        "        metrics.mean_squared_error(validation_predictions, validation_targets))\n",
        "    test_root_mean_squared_error = math.sqrt(\n",
        "        metrics.mean_squared_error(test_predictions, test_targets))\n",
        "    # Occasionally print the current loss.\n",
        "    print(\"  period %02d : %0.2f\" % (period, training_root_mean_squared_error))\n",
        "    # Add the loss metrics from this period to our list.\n",
        "    training_rmse.append(training_root_mean_squared_error)\n",
        "    validation_rmse.append(validation_root_mean_squared_error)\n",
        "    test_rmse.append(test_root_mean_squared_error)\n",
        "  print(\"Model training finished.\")\n",
        "\n",
        "  # Output a graph of loss metrics over periods.\n",
        "  plt.ylabel(\"RMSE\")\n",
        "  plt.xlabel(\"Periods\")\n",
        "  plt.title(\"Root Mean Squared Error vs. Periods\")\n",
        "  plt.tight_layout()\n",
        "  plt.plot(training_rmse, label=\"training\")\n",
        "  plt.plot(validation_rmse, label=\"validation\")\n",
        "  plt.plot(test_rmse, label=\"test\")\n",
        "  plt.legend()\n",
        "\n",
        "  print(\"Final RMSE (on training data):   %0.2f\" % training_root_mean_squared_error)\n",
        "  print(\"Final RMSE (on validation data): %0.2f\" % validation_root_mean_squared_error)\n",
        "  print(\"Final RMSE (on test data): %0.2f\" % test_root_mean_squared_error)\n",
        "\n",
        "  return dnn_regressor, training_rmse, validation_rmse, test_rmse"
      ],
      "execution_count": 0,
      "outputs": []
    },
    {
      "metadata": {
        "id": "U66Rv60R2HzC",
        "colab_type": "code",
        "colab": {
          "base_uri": "https://localhost:8080/",
          "height": 673
        },
        "outputId": "06c57c57-866e-4af1-c944-e3200737c8c1"
      },
      "cell_type": "code",
      "source": [
        "_ = train_nn_regression_model(\n",
        "    my_optimizer=tf.train.GradientDescentOptimizer(learning_rate=0.0001),\n",
        "    steps=7000,\n",
        "    batch_size=60,\n",
        "    hidden_units=[10, 10],\n",
        "    training_examples=training_examples,\n",
        "    training_targets=training_targets,\n",
        "    validation_examples=validation_examples,\n",
        "    validation_targets=validation_targets,\n",
        "    test_examples=test_examples,\n",
        "    test_targets=test_targets)"
      ],
      "execution_count": 170,
      "outputs": [
        {
          "output_type": "stream",
          "text": [
            "Training neural network model...\n",
            "RMSE (on training data):\n",
            "  period 00 : 0.64\n",
            "  period 01 : 0.46\n",
            "  period 02 : 0.44\n",
            "  period 03 : 0.43\n",
            "  period 04 : 0.43\n",
            "  period 05 : 0.43\n",
            "  period 06 : 0.43\n",
            "  period 07 : 0.43\n",
            "  period 08 : 0.43\n",
            "  period 09 : 0.43\n",
            "Model training finished.\n",
            "Final RMSE (on training data):   0.43\n",
            "Final RMSE (on validation data): 0.44\n",
            "Final RMSE (on test data): 0.43\n"
          ],
          "name": "stdout"
        },
        {
          "output_type": "display_data",
          "data": {
            "image/png": "[encoded data removed]",
            "text/plain": [
              "<matplotlib.figure.Figure at 0x7f5fad1b1dd8>"
            ]
          },
          "metadata": {
            "tags": []
          }
        }
      ]
    },
    {
      "metadata": {
        "id": "_E1qntd5bt-2",
        "colab_type": "text"
      },
      "cell_type": "markdown",
      "source": [
        "# Neural Network Compact Results Model"
      ]
    },
    {
      "metadata": {
        "id": "AnkM5oC9e_Jy",
        "colab_type": "code",
        "colab": {}
      },
      "cell_type": "code",
      "source": [
        "# Load datasets\n",
        "\n",
        "reg_compact = pd.read_csv(\"https://storage.googleapis.com/march-madness-ml-2018/RegularSeasonCompactResults.csv\", sep=\",\")\n",
        "t_compact = pd.read_csv(\"https://storage.googleapis.com/march-madness-ml-2018/NCAATourneyCompactResults.csv\", sep=\",\")\n",
        "t_seeds = pd.read_csv(\"https://storage.googleapis.com/march-madness-ml-2018/NCAATourneySeeds.csv\", sep=\",\")"
      ],
      "execution_count": 0,
      "outputs": []
    },
    {
      "metadata": {
        "id": "ok2DgIoOfOAv",
        "colab_type": "code",
        "colab": {}
      },
      "cell_type": "code",
      "source": [
        "def make_reg_season_data(dataframe):\n",
        "  # For each season with regular season statistics, aggregate all of the game statistics for the winning and losing team,\n",
        "  # and their opponents stats for each game played.\n",
        "  dataframe = reg_compact.copy()\n",
        "  dataframe = dataframe.drop(labels=[\"NumOT\", \"DayNum\"], axis=1)\n",
        "  dataframe_w_team = dataframe.groupby(['WTeamID', 'Season']).agg({'WScore': [\"mean\", \"count\"]})\n",
        "  dataframe_l_team = dataframe.groupby(['LTeamID', 'Season']).agg({'LScore': [\"mean\", \"count\"]})\n",
        "  dataframe_w_opp = dataframe.groupby(['LTeamID', 'Season']).agg({'WScore': [\"mean\", \"count\"]})\n",
        "  dataframe_w_opp = dataframe_w_opp.rename(columns={'WScore':'OppWScore'})\n",
        "  dataframe_l_opp = dataframe.groupby(['WTeamID', 'Season']).agg({'LScore': [\"mean\", \"count\"]})\n",
        "  dataframe_l_opp = dataframe_l_opp.rename(columns={'LScore':'OppLScore'})\n",
        "\n",
        "  # Rename the index names so that they can be merged\n",
        "  dataframe_w_team.index.names = ['TeamID', 'Season']\n",
        "  dataframe_l_team.index.names = ['TeamID', 'Season']\n",
        "  dataframe_w_opp.index.names = ['TeamID', 'Season']\n",
        "  dataframe_l_opp.index.names = ['TeamID', 'Season']\n",
        "  \n",
        "  # Merge teams\n",
        "  dataframe_w = dataframe_w_team.join(dataframe_w_opp, how = 'outer')\n",
        "  dataframe_l = dataframe_l_team.join(dataframe_l_opp, how = 'outer')\n",
        "  dataframe = dataframe_w.join(dataframe_l, how = 'outer')\n",
        "  \n",
        "  # Include calculated win percentage. 'GamesPlayed' will be used to compute the weighted averages of the winning/losing game statistics for each team for each season.\n",
        "  dataframe['GamesPlayed'] = dataframe['WScore']['count'] + dataframe['LScore']['count']\n",
        "  dataframe['WinPercent'] = dataframe['WScore']['count']/dataframe['GamesPlayed']\n",
        "  \n",
        "  # Game statistics names for the combined list.\n",
        "  stats = ['Score']\n",
        "  # Combine winning/losing game stats into season stats for each team.\n",
        "  for stat in stats:\n",
        "      dataframe['Team' + stat] = (dataframe['W' + stat]['mean']*dataframe['W' + stat]['count'] + dataframe['L' + stat]['mean']*dataframe['L' + stat]['count'])/dataframe['GamesPlayed']\n",
        "      dataframe['Opp' + stat] = (dataframe['OppW' + stat]['mean']*dataframe['OppW' + stat]['count'] + dataframe['OppL' + stat]['mean']*dataframe['OppL' + stat]['count'])/dataframe['GamesPlayed']\n",
        "      del dataframe['W' + stat]\n",
        "      del dataframe['L' + stat]\n",
        "      del dataframe['OppW' + stat]\n",
        "      del dataframe['OppL' + stat]\n",
        "      \n",
        "  dataframe['PointDiff'] = dataframe['TeamScore'] - dataframe['OppScore']\n",
        "  dataframe = dataframe.reset_index(drop=True)\n",
        "  \n",
        "  return dataframe\n",
        "\n"
      ],
      "execution_count": 0,
      "outputs": []
    },
    {
      "metadata": {
        "id": "MyZz7rYafUTv",
        "colab_type": "code",
        "colab": {}
      },
      "cell_type": "code",
      "source": [
        "def make_tourney_data(t_seeds, t_compact):\n",
        "  # Clean Data\n",
        "  t_seeds['Seed'] = t_seeds['Seed'].apply(lambda seed: int(seed[1:3]))\n",
        "  t_wseeds = t_seeds.rename(columns={'TeamID':'WTeamID', 'Seed':'WSeed'})\n",
        "  t_lseeds = t_seeds.rename(columns={'TeamID':'LTeamID', 'Seed':'LSeed'})\n",
        "  t_compact = t_compact.drop(labels=[\"DayNum\", \"WScore\", \"LScore\", \"WLoc\", \"NumOT\"], axis=1)\n",
        "  t_compact = t_compact.rename(columns={'WTeam': 'WTeamID', 'LTeam': 'LTeamID'})\n",
        "\n",
        "  # Merge Seeds with Team ID\n",
        "  t_dummy = pd.merge(left=t_compact, right=t_wseeds, how='left', on=['Season', 'WTeamID'])\n",
        "  t_concat = pd.merge(left=t_dummy, right=t_lseeds, on=['Season', 'LTeamID'])\n",
        "  t_concat['SeedDiff'] = t_concat['WSeed'] - t_concat['LSeed']\n",
        "\n",
        "  # make DataFrame that summarizes SeedDiff and Result\n",
        "  t_wins = pd.DataFrame()\n",
        "  t_wins['SeedDiff'] = t_concat['SeedDiff']\n",
        "  t_wins['Result'] = 1\n",
        "\n",
        "  t_losses = pd.DataFrame()\n",
        "  t_losses['SeedDiff'] = -t_concat['SeedDiff']\n",
        "  t_losses['Result'] = 0\n",
        "\n",
        "  # concat seediff with results into DataFrame to use for predictions\n",
        "  full_results = pd.concat((t_wins, t_losses))\n",
        "  \n",
        "  stats = ['GamesPlayed','WinPercent','TeamScore', 'OppScore','PointDiff']\n",
        "  for stat in stats:\n",
        "    full_results[stat] = 0\n",
        "  full_results = full_results.apply(lambda ser: ser.astype('float64'))\n",
        "  \n",
        "  full_results = full_results.reset_index(drop=True)\n",
        "  full_results = full_results.reindex(\n",
        "      np.random.permutation(full_results.index))\n",
        "  \n",
        "  return full_results"
      ],
      "execution_count": 0,
      "outputs": []
    },
    {
      "metadata": {
        "id": "SAZFbz5Z5Vjk",
        "colab_type": "code",
        "colab": {}
      },
      "cell_type": "code",
      "source": [
        "reg_season = make_reg_season_data(reg_compact)\n",
        "t_results = make_tourney_data(t_seeds, t_compact)"
      ],
      "execution_count": 0,
      "outputs": []
    },
    {
      "metadata": {
        "id": "uC9WxCuU6Bnq",
        "colab_type": "code",
        "colab": {}
      },
      "cell_type": "code",
      "source": [
        "def change_example(example):\n",
        "  stats = ['GamesPlayed','WinPercent','TeamScore', 'OppScore','PointDiff']\n",
        "  season = example['Season']\n",
        "  team = example['TeamID']\n",
        "  reg_season_stats = reg_season.xs((team, season), level=('TeamID', 'Season'))\n",
        "  for stat in stats:\n",
        "    example[stat] = reg_season_stats[stat]\n",
        "  return example"
      ],
      "execution_count": 0,
      "outputs": []
    },
    {
      "metadata": {
        "id": "gkvqNjEH6rha",
        "colab_type": "code",
        "colab": {}
      },
      "cell_type": "code",
      "source": [
        "prediction_results = t_results.apply(change_example, axis=1)"
      ],
      "execution_count": 0,
      "outputs": []
    },
    {
      "metadata": {
        "id": "OO9TYxU0fmx6",
        "colab_type": "code",
        "colab": {
          "base_uri": "https://localhost:8080/",
          "height": 436
        },
        "outputId": "c427f803-7df3-4e3d-d19c-aa7ed05ce819"
      },
      "cell_type": "code",
      "source": [
        "display.display(reg_season.head())\n",
        "display.display(t_results.head())"
      ],
      "execution_count": 212,
      "outputs": [
        {
          "output_type": "display_data",
          "data": {
            "text/html": [
              "<div>\n",
              "<style scoped>\n",
              "    .dataframe tbody tr th:only-of-type {\n",
              "        vertical-align: middle;\n",
              "    }\n",
              "\n",
              "    .dataframe tbody tr th {\n",
              "        vertical-align: top;\n",
              "    }\n",
              "\n",
              "    .dataframe thead tr th {\n",
              "        text-align: left;\n",
              "    }\n",
              "\n",
              "    .dataframe thead tr:last-of-type th {\n",
              "        text-align: right;\n",
              "    }\n",
              "</style>\n",
              "<table border=\"1\" class=\"dataframe\">\n",
              "  <thead>\n",
              "    <tr>\n",
              "      <th></th>\n",
              "      <th></th>\n",
              "      <th>GamesPlayed</th>\n",
              "      <th>WinPercent</th>\n",
              "      <th>TeamScore</th>\n",
              "      <th>OppScore</th>\n",
              "      <th>PointDiff</th>\n",
              "    </tr>\n",
              "    <tr>\n",
              "      <th></th>\n",
              "      <th></th>\n",
              "      <th></th>\n",
              "      <th></th>\n",
              "      <th></th>\n",
              "      <th></th>\n",
              "      <th></th>\n",
              "    </tr>\n",
              "    <tr>\n",
              "      <th>TeamID</th>\n",
              "      <th>Season</th>\n",
              "      <th></th>\n",
              "      <th></th>\n",
              "      <th></th>\n",
              "      <th></th>\n",
              "      <th></th>\n",
              "    </tr>\n",
              "  </thead>\n",
              "  <tbody>\n",
              "    <tr>\n",
              "      <th rowspan=\"4\" valign=\"top\">1101</th>\n",
              "      <th>2014</th>\n",
              "      <td>21.0</td>\n",
              "      <td>0.1</td>\n",
              "      <td>63.1</td>\n",
              "      <td>78.6</td>\n",
              "      <td>-15.5</td>\n",
              "    </tr>\n",
              "    <tr>\n",
              "      <th>2015</th>\n",
              "      <td>28.0</td>\n",
              "      <td>0.2</td>\n",
              "      <td>61.0</td>\n",
              "      <td>71.9</td>\n",
              "      <td>-10.9</td>\n",
              "    </tr>\n",
              "    <tr>\n",
              "      <th>2016</th>\n",
              "      <td>27.0</td>\n",
              "      <td>0.3</td>\n",
              "      <td>69.9</td>\n",
              "      <td>76.3</td>\n",
              "      <td>-6.4</td>\n",
              "    </tr>\n",
              "    <tr>\n",
              "      <th>2017</th>\n",
              "      <td>25.0</td>\n",
              "      <td>0.4</td>\n",
              "      <td>67.9</td>\n",
              "      <td>72.6</td>\n",
              "      <td>-4.8</td>\n",
              "    </tr>\n",
              "    <tr>\n",
              "      <th>1102</th>\n",
              "      <th>1985</th>\n",
              "      <td>24.0</td>\n",
              "      <td>0.2</td>\n",
              "      <td>63.1</td>\n",
              "      <td>68.9</td>\n",
              "      <td>-5.8</td>\n",
              "    </tr>\n",
              "  </tbody>\n",
              "</table>\n",
              "</div>"
            ],
            "text/plain": [
              "              GamesPlayed WinPercent TeamScore OppScore PointDiff\n",
              "                                                                 \n",
              "TeamID Season                                                    \n",
              "1101   2014          21.0        0.1      63.1     78.6     -15.5\n",
              "       2015          28.0        0.2      61.0     71.9     -10.9\n",
              "       2016          27.0        0.3      69.9     76.3      -6.4\n",
              "       2017          25.0        0.4      67.9     72.6      -4.8\n",
              "1102   1985          24.0        0.2      63.1     68.9      -5.8"
            ]
          },
          "metadata": {
            "tags": []
          }
        },
        {
          "output_type": "display_data",
          "data": {
            "text/html": [
              "<div>\n",
              "<style scoped>\n",
              "    .dataframe tbody tr th:only-of-type {\n",
              "        vertical-align: middle;\n",
              "    }\n",
              "\n",
              "    .dataframe tbody tr th {\n",
              "        vertical-align: top;\n",
              "    }\n",
              "\n",
              "    .dataframe thead th {\n",
              "        text-align: right;\n",
              "    }\n",
              "</style>\n",
              "<table border=\"1\" class=\"dataframe\">\n",
              "  <thead>\n",
              "    <tr style=\"text-align: right;\">\n",
              "      <th></th>\n",
              "      <th>SeedDiff</th>\n",
              "      <th>Result</th>\n",
              "      <th>GamesPlayed</th>\n",
              "      <th>WinPercent</th>\n",
              "      <th>TeamScore</th>\n",
              "      <th>OppScore</th>\n",
              "      <th>PointDiff</th>\n",
              "    </tr>\n",
              "  </thead>\n",
              "  <tbody>\n",
              "    <tr>\n",
              "      <th>3843</th>\n",
              "      <td>9.0</td>\n",
              "      <td>0.0</td>\n",
              "      <td>0.0</td>\n",
              "      <td>0.0</td>\n",
              "      <td>0.0</td>\n",
              "      <td>0.0</td>\n",
              "      <td>0.0</td>\n",
              "    </tr>\n",
              "    <tr>\n",
              "      <th>1546</th>\n",
              "      <td>-1.0</td>\n",
              "      <td>1.0</td>\n",
              "      <td>0.0</td>\n",
              "      <td>0.0</td>\n",
              "      <td>0.0</td>\n",
              "      <td>0.0</td>\n",
              "      <td>0.0</td>\n",
              "    </tr>\n",
              "    <tr>\n",
              "      <th>1206</th>\n",
              "      <td>7.0</td>\n",
              "      <td>1.0</td>\n",
              "      <td>0.0</td>\n",
              "      <td>0.0</td>\n",
              "      <td>0.0</td>\n",
              "      <td>0.0</td>\n",
              "      <td>0.0</td>\n",
              "    </tr>\n",
              "    <tr>\n",
              "      <th>4140</th>\n",
              "      <td>8.0</td>\n",
              "      <td>0.0</td>\n",
              "      <td>0.0</td>\n",
              "      <td>0.0</td>\n",
              "      <td>0.0</td>\n",
              "      <td>0.0</td>\n",
              "      <td>0.0</td>\n",
              "    </tr>\n",
              "    <tr>\n",
              "      <th>694</th>\n",
              "      <td>-15.0</td>\n",
              "      <td>1.0</td>\n",
              "      <td>0.0</td>\n",
              "      <td>0.0</td>\n",
              "      <td>0.0</td>\n",
              "      <td>0.0</td>\n",
              "      <td>0.0</td>\n",
              "    </tr>\n",
              "  </tbody>\n",
              "</table>\n",
              "</div>"
            ],
            "text/plain": [
              "      SeedDiff  Result  GamesPlayed  WinPercent  TeamScore  OppScore  \\\n",
              "3843       9.0     0.0          0.0         0.0        0.0       0.0   \n",
              "1546      -1.0     1.0          0.0         0.0        0.0       0.0   \n",
              "1206       7.0     1.0          0.0         0.0        0.0       0.0   \n",
              "4140       8.0     0.0          0.0         0.0        0.0       0.0   \n",
              "694      -15.0     1.0          0.0         0.0        0.0       0.0   \n",
              "\n",
              "      PointDiff  \n",
              "3843        0.0  \n",
              "1546        0.0  \n",
              "1206        0.0  \n",
              "4140        0.0  \n",
              "694         0.0  "
            ]
          },
          "metadata": {
            "tags": []
          }
        }
      ]
    },
    {
      "metadata": {
        "id": "Y8RErN6A6Cch",
        "colab_type": "code",
        "colab": {}
      },
      "cell_type": "code",
      "source": [
        ""
      ],
      "execution_count": 0,
      "outputs": []
    },
    {
      "metadata": {
        "id": "gpjnpnDmbzxr",
        "colab_type": "text"
      },
      "cell_type": "markdown",
      "source": [
        "# Neural Network Detailed Results Model"
      ]
    },
    {
      "metadata": {
        "id": "Y34aV9KQ9XqW",
        "colab_type": "code",
        "colab": {}
      },
      "cell_type": "code",
      "source": [
        "# Load datasets\n",
        "\n",
        "# reg_compact = pd.read_csv(\"https://storage.googleapis.com/march-madness-ml-2018/RegularSeasonCompactResults.csv\", sep=\",\")\n",
        "# seasons = pd.read_csv(\"https://storage.googleapis.com/march_madness_ml_datasets/Seasons.csv\", sep=\",\")\n",
        "# teams = pd.read_csv(\"https://storage.googleapis.com/march_madness_ml_datasets/Teams.csv\", sep=\",\")\n",
        "# t_slots = pd.read_csv(\"https://storage.googleapis.com/march_madness_ml_datasets/TourneySlots.csv\", sep=\",\")\n",
        "# t_compact = pd.read_csv(\"https://storage.googleapis.com/march-madness-ml-2018/NCAATourneyCompactResults.csv\", sep=\",\")\n",
        "t_detailed = pd.read_csv(\"https://storage.googleapis.com/march-madness-ml-2018/NCAATourneyDetailedResults.csv\", sep=\",\")\n",
        "reg_detailed = pd.read_csv(\"https://storage.googleapis.com/march-madness-ml-2018/RegularSeasonDetailedResults.csv\", sep=\",\")\n",
        "t_seeds = pd.read_csv(\"https://storage.googleapis.com/march-madness-ml-2018/NCAATourneySeeds.csv\", sep=\",\")"
      ],
      "execution_count": 0,
      "outputs": []
    },
    {
      "metadata": {
        "id": "tYmGUs6_DuPd",
        "colab_type": "code",
        "colab": {}
      },
      "cell_type": "code",
      "source": [
        "\n",
        "# STATS = ['SeedDiff','WinPercent','Score', 'FG','FG3','FT', 'OR', 'DR', 'ast_to_ratio', 'Stl', 'Blk', 'PF']\n",
        "STATS = ['SeedDiff']"
      ],
      "execution_count": 0,
      "outputs": []
    },
    {
      "metadata": {
        "id": "tjv9hLLvhiTg",
        "colab_type": "code",
        "colab": {}
      },
      "cell_type": "code",
      "source": [
        "def make_detailed_data(dataframe):\n",
        "  # For each season with regular season statistics, aggregate all of the game statistics for the winning and losing team for each game played.\n",
        "  dataframe = dataframe.drop(labels=[\"WLoc\"], axis=1)\n",
        "  dataframe_w = dataframe.groupby(['WTeamID', 'Season']).agg({'WScore': [\"mean\", \"count\"], 'WFGM': [\"mean\", \"count\"], 'WFGA': [\"mean\", \"count\"], 'WFGM3': [\"mean\", \"count\"], 'WFGA3': [\"mean\", \"count\"], \n",
        "                                                         'WFTM': [\"mean\", \"count\"], 'WFTA': [\"mean\", \"count\"], 'WOR': [\"mean\", \"count\"], 'WDR': [\"mean\", \"count\"], 'WAst': [\"mean\", \"count\"],\n",
        "                                                        'WTO': [\"mean\", \"count\"], 'WStl': [\"mean\", \"count\"], 'WBlk': [\"mean\", \"count\"], 'WPF': [\"mean\", \"count\"]})\n",
        "  dataframe_l = dataframe.groupby(['LTeamID', 'Season']).agg({'LScore': [\"mean\", \"count\"], 'LFGM': [\"mean\", \"count\"], \n",
        "                                                        'LFGA': [\"mean\", \"count\"], 'LFGM3': [\"mean\", \"count\"], 'LFGA3': [\"mean\", \"count\"], \n",
        "                                                         'LFTM': [\"mean\", \"count\"], 'LFTA': [\"mean\", \"count\"], 'LOR': [\"mean\", \"count\"], 'LDR': [\"mean\", \"count\"], 'LAst': [\"mean\", \"count\"],\n",
        "                                                        'LTO': [\"mean\", \"count\"], 'LStl': [\"mean\", \"count\"], 'LBlk': [\"mean\", \"count\"], 'LPF': [\"mean\", \"count\"]})\n",
        "\n",
        "  # Rename the index names so that they can be merged\n",
        "  dataframe_w.index.names = ['TeamID', 'Season']\n",
        "  dataframe_l.index.names = ['TeamID', 'Season']\n",
        "  dataframe = dataframe_w.join(dataframe_l, how = 'outer')\n",
        "\n",
        "  # Include calculated win percentage. 'GamesPlayed' will be used to compute the weighted averages of the winning/losing game statistics for each team for each season.\n",
        "  dataframe['GamesPlayed'] = dataframe['WScore']['count'] + dataframe['LScore']['count']\n",
        "  dataframe['WinPercent'] = dataframe['WScore']['count']/dataframe['GamesPlayed']\n",
        "\n",
        "  # Game statistics names for the combined list.\n",
        "  Stats = ['Score', 'FGM', 'FGA', 'FGM3', 'FGA3', 'FTM', 'FTA', 'OR', 'DR', 'Ast', 'TO', 'Stl', 'Blk', 'PF']\n",
        "  # Combine winning/losing game stats into season stats for each team.\n",
        "  for stat in Stats:\n",
        "      dataframe[stat] = (dataframe['W' + stat]['mean']*dataframe['W' + stat]['count'] + dataframe['L' + stat]['mean']*dataframe['L' + stat]['count'])/dataframe['GamesPlayed']\n",
        "      del dataframe['W' + stat]\n",
        "      del dataframe['L' + stat]\n",
        "\n",
        "  # Make percentages for fg, ft, to/ast, stl/blk\n",
        "  dataframe['FG'] = dataframe['FGM']/dataframe['FGA']\n",
        "  del dataframe['FGM']\n",
        "  del dataframe['FGA']\n",
        "  dataframe['FG3'] = dataframe['FGM3']/dataframe['FGA3']\n",
        "  del dataframe['FGM3']\n",
        "  del dataframe['FGA3']\n",
        "  dataframe['FT'] = dataframe['FTM']/dataframe['FTA']\n",
        "  del dataframe['FTM']\n",
        "  del dataframe['FTA']\n",
        "  dataframe['ast_to_ratio'] = dataframe['Ast']/dataframe['TO']\n",
        "  del dataframe['Ast']\n",
        "  del dataframe['TO']\n",
        "  \n",
        "  return dataframe\n"
      ],
      "execution_count": 0,
      "outputs": []
    },
    {
      "metadata": {
        "id": "tlmUt9MHSpFm",
        "colab_type": "code",
        "colab": {}
      },
      "cell_type": "code",
      "source": [
        "def make_tourney_data(t_seeds, t_dataframe):\n",
        "  # Clean Data\n",
        "  t_dataframe = t_dataframe.drop(labels=[\"WLoc\"], axis=1)\n",
        "  t_seeds['Seed'] = t_seeds['Seed'].apply(lambda seed: int(seed[1:3]))\n",
        "  t_wseeds = t_seeds.rename(columns={'TeamID':'WTeamID', 'Seed':'WSeed'})\n",
        "  t_lseeds = t_seeds.rename(columns={'TeamID':'LTeamID', 'Seed':'LSeed'})\n",
        "#   cols = ['Season','WTeamID', 'LTeamID']\n",
        "#   t_dummy = pd.DataFrame()\n",
        "#   for col in cols:\n",
        "#     t_dummy[col] = t_dataframe[col]\n",
        "#   t_dataframe = t_dummy.copy()\n",
        "#   t_dataframe = t_dataframe.rename(columns={'WTeam': 'WTeamID', 'LTeam': 'LTeamID'})\n",
        "\n",
        "  # Merge Seeds with Team ID\n",
        "  t_dummy = pd.merge(left=t_dataframe, right=t_wseeds, how='left', on=['Season', 'WTeamID'])\n",
        "  t_concat = pd.merge(left=t_dummy, right=t_lseeds, on=['Season', 'LTeamID'])\n",
        "  t_concat['SeedDiff'] = t_concat['LSeed'] - t_concat['WSeed']\n",
        "\n",
        "  # make DataFrame that summarizes SeedDiff and Result\n",
        "  t_concat = t_concat.drop(labels=[\"WSeed\", \"LSeed\"], axis=1)\n",
        "  t_wins = t_concat.copy()\n",
        "  t_wins['Result'] = 1\n",
        "  t_wins = t_wins.drop(labels=[\"LTeamID\"], axis=1)\n",
        "  t_wins = t_wins.rename(columns={'WTeamID':'TeamID'})\n",
        "\n",
        "  t_losses = t_concat.copy()\n",
        "  t_losses['SeedDiff'] = -t_concat['SeedDiff']\n",
        "  t_losses['Result'] = 0\n",
        "  t_losses = t_losses.drop(labels=[\"WTeamID\"], axis=1)\n",
        "  t_losses = t_losses.rename(columns={'LTeamID':'TeamID'})\n",
        "\n",
        "  # concat seediff with results into DataFrame to use for predictions\n",
        "  full_results = pd.concat((t_wins, t_losses))\n",
        "  full_results = full_results.reset_index(drop=True)\n",
        "  Stats = ['GamesPlayed','WinPercent','Score', 'FG','FG3','FT', 'OR', 'DR', 'ast_to_ratio', 'Stl', 'Blk', 'PF']\n",
        "  for stat in Stats:\n",
        "    full_results[stat] = 0\n",
        "  full_results = full_results.apply(lambda ser: ser.astype('float64'))\n",
        "  \n",
        "  return full_results"
      ],
      "execution_count": 0,
      "outputs": []
    },
    {
      "metadata": {
        "id": "soA90tLff4ZF",
        "colab_type": "code",
        "colab": {}
      },
      "cell_type": "code",
      "source": [
        "def change_example(example):\n",
        "  stats = ['GamesPlayed','WinPercent','Score', 'FG','FG3','FT', 'OR', 'DR', 'ast_to_ratio', 'Stl', 'Blk', 'PF']\n",
        "  season = example['Season']\n",
        "  team = example['TeamID']\n",
        "  reg_season_stats = reg_season.xs((team, season), level=('TeamID', 'Season'))\n",
        "  for stat in stats:\n",
        "    example[stat] = reg_season_stats[stat]\n",
        "  return example"
      ],
      "execution_count": 0,
      "outputs": []
    },
    {
      "metadata": {
        "id": "rZj2cPWCiRKL",
        "colab_type": "code",
        "colab": {
          "base_uri": "https://localhost:8080/",
          "height": 1575
        },
        "outputId": "e6504ed2-c261-46cb-ebe4-b8743ccba884"
      },
      "cell_type": "code",
      "source": [
        "reg_season = make_detailed_data(reg_detailed)\n",
        "t_results = make_tourney_data(t_seeds, t_compact)\n",
        "# prediction_results = t_results.apply(change_example, axis=1)\n",
        "# prediction_results = prediction_results.dropna(axis=0, how='any')"
      ],
      "execution_count": 57,
      "outputs": [
        {
          "output_type": "error",
          "ename": "KeyError",
          "evalue": "ignored",
          "traceback": [
            "\u001b[0;31m---------------------------------------------------------------------------\u001b[0m",
            "\u001b[0;31mKeyError\u001b[0m                                  Traceback (most recent call last)",
            "\u001b[0;32m/usr/local/lib/python3.6/dist-packages/pandas/core/indexes/base.py\u001b[0m in \u001b[0;36mget_loc\u001b[0;34m(self, key, method, tolerance)\u001b[0m\n\u001b[1;32m   2524\u001b[0m             \u001b[0;32mtry\u001b[0m\u001b[0;34m:\u001b[0m\u001b[0;34m\u001b[0m\u001b[0m\n\u001b[0;32m-> 2525\u001b[0;31m                 \u001b[0;32mreturn\u001b[0m \u001b[0mself\u001b[0m\u001b[0;34m.\u001b[0m\u001b[0m_engine\u001b[0m\u001b[0;34m.\u001b[0m\u001b[0mget_loc\u001b[0m\u001b[0;34m(\u001b[0m\u001b[0mkey\u001b[0m\u001b[0;34m)\u001b[0m\u001b[0;34m\u001b[0m\u001b[0m\n\u001b[0m\u001b[1;32m   2526\u001b[0m             \u001b[0;32mexcept\u001b[0m \u001b[0mKeyError\u001b[0m\u001b[0;34m:\u001b[0m\u001b[0;34m\u001b[0m\u001b[0m\n",
            "\u001b[0;32mpandas/_libs/index.pyx\u001b[0m in \u001b[0;36mpandas._libs.index.IndexEngine.get_loc\u001b[0;34m()\u001b[0m\n",
            "\u001b[0;32mpandas/_libs/index.pyx\u001b[0m in \u001b[0;36mpandas._libs.index.IndexEngine.get_loc\u001b[0;34m()\u001b[0m\n",
            "\u001b[0;32mpandas/_libs/index_class_helper.pxi\u001b[0m in \u001b[0;36mpandas._libs.index.Int64Engine._check_type\u001b[0;34m()\u001b[0m\n",
            "\u001b[0;31mKeyError\u001b[0m: 1985.0",
            "\nDuring handling of the above exception, another exception occurred:\n",
            "\u001b[0;31mKeyError\u001b[0m                                  Traceback (most recent call last)",
            "\u001b[0;32m<ipython-input-57-9ceada84bb53>\u001b[0m in \u001b[0;36m<module>\u001b[0;34m()\u001b[0m\n\u001b[1;32m      1\u001b[0m \u001b[0mreg_season\u001b[0m \u001b[0;34m=\u001b[0m \u001b[0mmake_detailed_data\u001b[0m\u001b[0;34m(\u001b[0m\u001b[0mreg_detailed\u001b[0m\u001b[0;34m)\u001b[0m\u001b[0;34m\u001b[0m\u001b[0m\n\u001b[1;32m      2\u001b[0m \u001b[0mt_results\u001b[0m \u001b[0;34m=\u001b[0m \u001b[0mmake_tourney_data\u001b[0m\u001b[0;34m(\u001b[0m\u001b[0mt_seeds\u001b[0m\u001b[0;34m,\u001b[0m \u001b[0mt_compact\u001b[0m\u001b[0;34m)\u001b[0m\u001b[0;34m\u001b[0m\u001b[0m\n\u001b[0;32m----> 3\u001b[0;31m \u001b[0mprediction_results\u001b[0m \u001b[0;34m=\u001b[0m \u001b[0mt_results\u001b[0m\u001b[0;34m.\u001b[0m\u001b[0mapply\u001b[0m\u001b[0;34m(\u001b[0m\u001b[0mchange_example\u001b[0m\u001b[0;34m,\u001b[0m \u001b[0maxis\u001b[0m\u001b[0;34m=\u001b[0m\u001b[0;36m1\u001b[0m\u001b[0;34m)\u001b[0m\u001b[0;34m\u001b[0m\u001b[0m\n\u001b[0m\u001b[1;32m      4\u001b[0m \u001b[0;31m# prediction_results = prediction_results.dropna(axis=0, how='any')\u001b[0m\u001b[0;34m\u001b[0m\u001b[0;34m\u001b[0m\u001b[0m\n",
            "\u001b[0;32m/usr/local/lib/python3.6/dist-packages/pandas/core/frame.py\u001b[0m in \u001b[0;36mapply\u001b[0;34m(self, func, axis, broadcast, raw, reduce, args, **kwds)\u001b[0m\n\u001b[1;32m   4875\u001b[0m                         \u001b[0mf\u001b[0m\u001b[0;34m,\u001b[0m \u001b[0maxis\u001b[0m\u001b[0;34m,\u001b[0m\u001b[0;34m\u001b[0m\u001b[0m\n\u001b[1;32m   4876\u001b[0m                         \u001b[0mreduce\u001b[0m\u001b[0;34m=\u001b[0m\u001b[0mreduce\u001b[0m\u001b[0;34m,\u001b[0m\u001b[0;34m\u001b[0m\u001b[0m\n\u001b[0;32m-> 4877\u001b[0;31m                         ignore_failures=ignore_failures)\n\u001b[0m\u001b[1;32m   4878\u001b[0m             \u001b[0;32melse\u001b[0m\u001b[0;34m:\u001b[0m\u001b[0;34m\u001b[0m\u001b[0m\n\u001b[1;32m   4879\u001b[0m                 \u001b[0;32mreturn\u001b[0m \u001b[0mself\u001b[0m\u001b[0;34m.\u001b[0m\u001b[0m_apply_broadcast\u001b[0m\u001b[0;34m(\u001b[0m\u001b[0mf\u001b[0m\u001b[0;34m,\u001b[0m \u001b[0maxis\u001b[0m\u001b[0;34m)\u001b[0m\u001b[0;34m\u001b[0m\u001b[0m\n",
            "\u001b[0;32m/usr/local/lib/python3.6/dist-packages/pandas/core/frame.py\u001b[0m in \u001b[0;36m_apply_standard\u001b[0;34m(self, func, axis, ignore_failures, reduce)\u001b[0m\n\u001b[1;32m   4971\u001b[0m             \u001b[0;32mtry\u001b[0m\u001b[0;34m:\u001b[0m\u001b[0;34m\u001b[0m\u001b[0m\n\u001b[1;32m   4972\u001b[0m                 \u001b[0;32mfor\u001b[0m \u001b[0mi\u001b[0m\u001b[0;34m,\u001b[0m \u001b[0mv\u001b[0m \u001b[0;32min\u001b[0m \u001b[0menumerate\u001b[0m\u001b[0;34m(\u001b[0m\u001b[0mseries_gen\u001b[0m\u001b[0;34m)\u001b[0m\u001b[0;34m:\u001b[0m\u001b[0;34m\u001b[0m\u001b[0m\n\u001b[0;32m-> 4973\u001b[0;31m                     \u001b[0mresults\u001b[0m\u001b[0;34m[\u001b[0m\u001b[0mi\u001b[0m\u001b[0;34m]\u001b[0m \u001b[0;34m=\u001b[0m \u001b[0mfunc\u001b[0m\u001b[0;34m(\u001b[0m\u001b[0mv\u001b[0m\u001b[0;34m)\u001b[0m\u001b[0;34m\u001b[0m\u001b[0m\n\u001b[0m\u001b[1;32m   4974\u001b[0m                     \u001b[0mkeys\u001b[0m\u001b[0;34m.\u001b[0m\u001b[0mappend\u001b[0m\u001b[0;34m(\u001b[0m\u001b[0mv\u001b[0m\u001b[0;34m.\u001b[0m\u001b[0mname\u001b[0m\u001b[0;34m)\u001b[0m\u001b[0;34m\u001b[0m\u001b[0m\n\u001b[1;32m   4975\u001b[0m             \u001b[0;32mexcept\u001b[0m \u001b[0mException\u001b[0m \u001b[0;32mas\u001b[0m \u001b[0me\u001b[0m\u001b[0;34m:\u001b[0m\u001b[0;34m\u001b[0m\u001b[0m\n",
            "\u001b[0;32m<ipython-input-11-9aea9def0028>\u001b[0m in \u001b[0;36mchange_example\u001b[0;34m(example)\u001b[0m\n\u001b[1;32m      3\u001b[0m   \u001b[0mseason\u001b[0m \u001b[0;34m=\u001b[0m \u001b[0mexample\u001b[0m\u001b[0;34m[\u001b[0m\u001b[0;34m'Season'\u001b[0m\u001b[0;34m]\u001b[0m\u001b[0;34m\u001b[0m\u001b[0m\n\u001b[1;32m      4\u001b[0m   \u001b[0mteam\u001b[0m \u001b[0;34m=\u001b[0m \u001b[0mexample\u001b[0m\u001b[0;34m[\u001b[0m\u001b[0;34m'TeamID'\u001b[0m\u001b[0;34m]\u001b[0m\u001b[0;34m\u001b[0m\u001b[0m\n\u001b[0;32m----> 5\u001b[0;31m   \u001b[0mreg_season_stats\u001b[0m \u001b[0;34m=\u001b[0m \u001b[0mreg_season\u001b[0m\u001b[0;34m.\u001b[0m\u001b[0mxs\u001b[0m\u001b[0;34m(\u001b[0m\u001b[0;34m(\u001b[0m\u001b[0mteam\u001b[0m\u001b[0;34m,\u001b[0m \u001b[0mseason\u001b[0m\u001b[0;34m)\u001b[0m\u001b[0;34m,\u001b[0m \u001b[0mlevel\u001b[0m\u001b[0;34m=\u001b[0m\u001b[0;34m(\u001b[0m\u001b[0;34m'TeamID'\u001b[0m\u001b[0;34m,\u001b[0m \u001b[0;34m'Season'\u001b[0m\u001b[0;34m)\u001b[0m\u001b[0;34m)\u001b[0m\u001b[0;34m\u001b[0m\u001b[0m\n\u001b[0m\u001b[1;32m      6\u001b[0m   \u001b[0;32mfor\u001b[0m \u001b[0mstat\u001b[0m \u001b[0;32min\u001b[0m \u001b[0mstats\u001b[0m\u001b[0;34m:\u001b[0m\u001b[0;34m\u001b[0m\u001b[0m\n\u001b[1;32m      7\u001b[0m     \u001b[0mexample\u001b[0m\u001b[0;34m[\u001b[0m\u001b[0mstat\u001b[0m\u001b[0;34m]\u001b[0m \u001b[0;34m=\u001b[0m \u001b[0mreg_season_stats\u001b[0m\u001b[0;34m[\u001b[0m\u001b[0mstat\u001b[0m\u001b[0;34m]\u001b[0m\u001b[0;34m\u001b[0m\u001b[0m\n",
            "\u001b[0;32m/usr/local/lib/python3.6/dist-packages/pandas/core/generic.py\u001b[0m in \u001b[0;36mxs\u001b[0;34m(self, key, axis, level, drop_level)\u001b[0m\n\u001b[1;32m   2321\u001b[0m         \u001b[0;32mif\u001b[0m \u001b[0mlevel\u001b[0m \u001b[0;32mis\u001b[0m \u001b[0;32mnot\u001b[0m \u001b[0;32mNone\u001b[0m\u001b[0;34m:\u001b[0m\u001b[0;34m\u001b[0m\u001b[0m\n\u001b[1;32m   2322\u001b[0m             loc, new_ax = labels.get_loc_level(key, level=level,\n\u001b[0;32m-> 2323\u001b[0;31m                                                drop_level=drop_level)\n\u001b[0m\u001b[1;32m   2324\u001b[0m \u001b[0;34m\u001b[0m\u001b[0m\n\u001b[1;32m   2325\u001b[0m             \u001b[0;31m# create the tuple of the indexer\u001b[0m\u001b[0;34m\u001b[0m\u001b[0;34m\u001b[0m\u001b[0m\n",
            "\u001b[0;32m/usr/local/lib/python3.6/dist-packages/pandas/core/indexes/multi.py\u001b[0m in \u001b[0;36mget_loc_level\u001b[0;34m(self, key, level, drop_level)\u001b[0m\n\u001b[1;32m   2184\u001b[0m             \u001b[0mresult\u001b[0m \u001b[0;34m=\u001b[0m \u001b[0;32mNone\u001b[0m\u001b[0;34m\u001b[0m\u001b[0m\n\u001b[1;32m   2185\u001b[0m             \u001b[0;32mfor\u001b[0m \u001b[0mlev\u001b[0m\u001b[0;34m,\u001b[0m \u001b[0mk\u001b[0m \u001b[0;32min\u001b[0m \u001b[0mzip\u001b[0m\u001b[0;34m(\u001b[0m\u001b[0mlevel\u001b[0m\u001b[0;34m,\u001b[0m \u001b[0mkey\u001b[0m\u001b[0;34m)\u001b[0m\u001b[0;34m:\u001b[0m\u001b[0;34m\u001b[0m\u001b[0m\n\u001b[0;32m-> 2186\u001b[0;31m                 \u001b[0mloc\u001b[0m\u001b[0;34m,\u001b[0m \u001b[0mnew_index\u001b[0m \u001b[0;34m=\u001b[0m \u001b[0mself\u001b[0m\u001b[0;34m.\u001b[0m\u001b[0mget_loc_level\u001b[0m\u001b[0;34m(\u001b[0m\u001b[0mk\u001b[0m\u001b[0;34m,\u001b[0m \u001b[0mlevel\u001b[0m\u001b[0;34m=\u001b[0m\u001b[0mlev\u001b[0m\u001b[0;34m)\u001b[0m\u001b[0;34m\u001b[0m\u001b[0m\n\u001b[0m\u001b[1;32m   2187\u001b[0m                 \u001b[0;32mif\u001b[0m \u001b[0misinstance\u001b[0m\u001b[0;34m(\u001b[0m\u001b[0mloc\u001b[0m\u001b[0;34m,\u001b[0m \u001b[0mslice\u001b[0m\u001b[0;34m)\u001b[0m\u001b[0;34m:\u001b[0m\u001b[0;34m\u001b[0m\u001b[0m\n\u001b[1;32m   2188\u001b[0m                     \u001b[0mmask\u001b[0m \u001b[0;34m=\u001b[0m \u001b[0mnp\u001b[0m\u001b[0;34m.\u001b[0m\u001b[0mzeros\u001b[0m\u001b[0;34m(\u001b[0m\u001b[0mlen\u001b[0m\u001b[0;34m(\u001b[0m\u001b[0mself\u001b[0m\u001b[0;34m)\u001b[0m\u001b[0;34m,\u001b[0m \u001b[0mdtype\u001b[0m\u001b[0;34m=\u001b[0m\u001b[0mbool\u001b[0m\u001b[0;34m)\u001b[0m\u001b[0;34m\u001b[0m\u001b[0m\n",
            "\u001b[0;32m/usr/local/lib/python3.6/dist-packages/pandas/core/indexes/multi.py\u001b[0m in \u001b[0;36mget_loc_level\u001b[0;34m(self, key, level, drop_level)\u001b[0m\n\u001b[1;32m   2280\u001b[0m                 \u001b[0;32mreturn\u001b[0m \u001b[0mindexer\u001b[0m\u001b[0;34m,\u001b[0m \u001b[0mmaybe_droplevels\u001b[0m\u001b[0;34m(\u001b[0m\u001b[0mindexer\u001b[0m\u001b[0;34m,\u001b[0m \u001b[0milevels\u001b[0m\u001b[0;34m,\u001b[0m \u001b[0mdrop_level\u001b[0m\u001b[0;34m)\u001b[0m\u001b[0;34m\u001b[0m\u001b[0m\n\u001b[1;32m   2281\u001b[0m         \u001b[0;32melse\u001b[0m\u001b[0;34m:\u001b[0m\u001b[0;34m\u001b[0m\u001b[0m\n\u001b[0;32m-> 2282\u001b[0;31m             \u001b[0mindexer\u001b[0m \u001b[0;34m=\u001b[0m \u001b[0mself\u001b[0m\u001b[0;34m.\u001b[0m\u001b[0m_get_level_indexer\u001b[0m\u001b[0;34m(\u001b[0m\u001b[0mkey\u001b[0m\u001b[0;34m,\u001b[0m \u001b[0mlevel\u001b[0m\u001b[0;34m=\u001b[0m\u001b[0mlevel\u001b[0m\u001b[0;34m)\u001b[0m\u001b[0;34m\u001b[0m\u001b[0m\n\u001b[0m\u001b[1;32m   2283\u001b[0m             \u001b[0;32mreturn\u001b[0m \u001b[0mindexer\u001b[0m\u001b[0;34m,\u001b[0m \u001b[0mmaybe_droplevels\u001b[0m\u001b[0;34m(\u001b[0m\u001b[0mindexer\u001b[0m\u001b[0;34m,\u001b[0m \u001b[0;34m[\u001b[0m\u001b[0mlevel\u001b[0m\u001b[0;34m]\u001b[0m\u001b[0;34m,\u001b[0m \u001b[0mdrop_level\u001b[0m\u001b[0;34m)\u001b[0m\u001b[0;34m\u001b[0m\u001b[0m\n\u001b[1;32m   2284\u001b[0m \u001b[0;34m\u001b[0m\u001b[0m\n",
            "\u001b[0;32m/usr/local/lib/python3.6/dist-packages/pandas/core/indexes/multi.py\u001b[0m in \u001b[0;36m_get_level_indexer\u001b[0;34m(self, key, level, indexer)\u001b[0m\n\u001b[1;32m   2360\u001b[0m         \u001b[0;32melse\u001b[0m\u001b[0;34m:\u001b[0m\u001b[0;34m\u001b[0m\u001b[0m\n\u001b[1;32m   2361\u001b[0m \u001b[0;34m\u001b[0m\u001b[0m\n\u001b[0;32m-> 2362\u001b[0;31m             \u001b[0mloc\u001b[0m \u001b[0;34m=\u001b[0m \u001b[0mlevel_index\u001b[0m\u001b[0;34m.\u001b[0m\u001b[0mget_loc\u001b[0m\u001b[0;34m(\u001b[0m\u001b[0mkey\u001b[0m\u001b[0;34m)\u001b[0m\u001b[0;34m\u001b[0m\u001b[0m\n\u001b[0m\u001b[1;32m   2363\u001b[0m             \u001b[0;32mif\u001b[0m \u001b[0misinstance\u001b[0m\u001b[0;34m(\u001b[0m\u001b[0mloc\u001b[0m\u001b[0;34m,\u001b[0m \u001b[0mslice\u001b[0m\u001b[0;34m)\u001b[0m\u001b[0;34m:\u001b[0m\u001b[0;34m\u001b[0m\u001b[0m\n\u001b[1;32m   2364\u001b[0m                 \u001b[0;32mreturn\u001b[0m \u001b[0mloc\u001b[0m\u001b[0;34m\u001b[0m\u001b[0m\n",
            "\u001b[0;32m/usr/local/lib/python3.6/dist-packages/pandas/core/indexes/base.py\u001b[0m in \u001b[0;36mget_loc\u001b[0;34m(self, key, method, tolerance)\u001b[0m\n\u001b[1;32m   2525\u001b[0m                 \u001b[0;32mreturn\u001b[0m \u001b[0mself\u001b[0m\u001b[0;34m.\u001b[0m\u001b[0m_engine\u001b[0m\u001b[0;34m.\u001b[0m\u001b[0mget_loc\u001b[0m\u001b[0;34m(\u001b[0m\u001b[0mkey\u001b[0m\u001b[0;34m)\u001b[0m\u001b[0;34m\u001b[0m\u001b[0m\n\u001b[1;32m   2526\u001b[0m             \u001b[0;32mexcept\u001b[0m \u001b[0mKeyError\u001b[0m\u001b[0;34m:\u001b[0m\u001b[0;34m\u001b[0m\u001b[0m\n\u001b[0;32m-> 2527\u001b[0;31m                 \u001b[0;32mreturn\u001b[0m \u001b[0mself\u001b[0m\u001b[0;34m.\u001b[0m\u001b[0m_engine\u001b[0m\u001b[0;34m.\u001b[0m\u001b[0mget_loc\u001b[0m\u001b[0;34m(\u001b[0m\u001b[0mself\u001b[0m\u001b[0;34m.\u001b[0m\u001b[0m_maybe_cast_indexer\u001b[0m\u001b[0;34m(\u001b[0m\u001b[0mkey\u001b[0m\u001b[0;34m)\u001b[0m\u001b[0;34m)\u001b[0m\u001b[0;34m\u001b[0m\u001b[0m\n\u001b[0m\u001b[1;32m   2528\u001b[0m \u001b[0;34m\u001b[0m\u001b[0m\n\u001b[1;32m   2529\u001b[0m         \u001b[0mindexer\u001b[0m \u001b[0;34m=\u001b[0m \u001b[0mself\u001b[0m\u001b[0;34m.\u001b[0m\u001b[0mget_indexer\u001b[0m\u001b[0;34m(\u001b[0m\u001b[0;34m[\u001b[0m\u001b[0mkey\u001b[0m\u001b[0;34m]\u001b[0m\u001b[0;34m,\u001b[0m \u001b[0mmethod\u001b[0m\u001b[0;34m=\u001b[0m\u001b[0mmethod\u001b[0m\u001b[0;34m,\u001b[0m \u001b[0mtolerance\u001b[0m\u001b[0;34m=\u001b[0m\u001b[0mtolerance\u001b[0m\u001b[0;34m)\u001b[0m\u001b[0;34m\u001b[0m\u001b[0m\n",
            "\u001b[0;32mpandas/_libs/index.pyx\u001b[0m in \u001b[0;36mpandas._libs.index.IndexEngine.get_loc\u001b[0;34m()\u001b[0m\n",
            "\u001b[0;32mpandas/_libs/index.pyx\u001b[0m in \u001b[0;36mpandas._libs.index.IndexEngine.get_loc\u001b[0;34m()\u001b[0m\n",
            "\u001b[0;32mpandas/_libs/hashtable_class_helper.pxi\u001b[0m in \u001b[0;36mpandas._libs.hashtable.Int64HashTable.get_item\u001b[0;34m()\u001b[0m\n",
            "\u001b[0;32mpandas/_libs/hashtable_class_helper.pxi\u001b[0m in \u001b[0;36mpandas._libs.hashtable.Int64HashTable.get_item\u001b[0;34m()\u001b[0m\n",
            "\u001b[0;31mKeyError\u001b[0m: (1985, 'occurred at index 0')"
          ]
        }
      ]
    },
    {
      "metadata": {
        "id": "zfvsHobJBWOt",
        "colab_type": "code",
        "colab": {}
      },
      "cell_type": "code",
      "source": [
        ""
      ],
      "execution_count": 0,
      "outputs": []
    },
    {
      "metadata": {
        "id": "Q1pL910Nvp5I",
        "colab_type": "code",
        "colab": {}
      },
      "cell_type": "code",
      "source": [
        "# concat seediff with results into DataFrame to use for predictions\n",
        "prediction_results = prediction_results.reindex(\n",
        "    np.random.permutation(prediction_results.index))\n",
        "\n",
        "# Calculate indices for training, validation, testing\n",
        "num_total_examples = len(prediction_results.index)\n",
        "num_training_examples = math.floor(num_total_examples*0.7)\n",
        "num_validation_examples = math.floor(num_total_examples*0.15)\n",
        "index_validation_examples = num_training_examples + num_validation_examples\n",
        "num_test_examples = math.floor(num_total_examples*0.15)\n",
        "index_test_examples = num_training_examples + num_validation_examples + num_test_examples\n",
        "\n",
        "# Choose the first 65% of examples for training  and normalize.\n",
        "training_examples = normalize_linear_scale(preprocess_features(prediction_results.iloc[0:num_training_examples]))\n",
        "training_targets = preprocess_targets(prediction_results.iloc[0:num_training_examples])\n",
        "\n",
        "# Choose 15% after training examples for validation  and normalize\n",
        "validation_examples = normalize_linear_scale(preprocess_features(prediction_results.iloc[num_training_examples:index_validation_examples]))\n",
        "validation_targets = preprocess_targets(prediction_results.iloc[num_training_examples:index_validation_examples])\n",
        "\n",
        "# Choose 15% after validation examples for testing  and normalize\n",
        "test_examples = normalize_linear_scale(preprocess_features(prediction_results.iloc[index_validation_examples:index_test_examples]))\n",
        "test_targets = preprocess_targets(prediction_results.iloc[index_validation_examples:index_test_examples])"
      ],
      "execution_count": 0,
      "outputs": []
    },
    {
      "metadata": {
        "id": "8gGe0XHnFwkF",
        "colab_type": "code",
        "colab": {}
      },
      "cell_type": "code",
      "source": [
        "_ = training_examples.hist(bins=20, figsize=(18, 12), xlabelsize=10)"
      ],
      "execution_count": 0,
      "outputs": []
    },
    {
      "metadata": {
        "id": "f-kxwoC1vrOd",
        "colab_type": "code",
        "colab": {
          "base_uri": "https://localhost:8080/",
          "height": 959
        },
        "outputId": "e9ff5fed-31e3-4007-b4a3-feba502992a7"
      },
      "cell_type": "code",
      "source": [
        "# Double-check that we've done the right thing.\n",
        "print(\"Training examples summary:\")\n",
        "display.display(training_examples.describe())\n",
        "display.display(training_examples.isnull().values.any())\n",
        "print(\"Validation examples summary:\")\n",
        "display.display(validation_examples.describe())\n",
        "display.display(validation_examples.isnull().values.any())\n",
        "print(\"Test examples summary:\")\n",
        "display.display(test_examples.describe())\n",
        "display.display(test_examples.isnull().values.any())\n",
        "\n",
        "# print(\"Training targets summary:\") \n",
        "# display.display(training_targets.describe())\n",
        "# display.display(training_targets.isnull().values.any())\n",
        "# print(\"Validation targets summary:\")\n",
        "# display.display(validation_targets.describe())\n",
        "# display.display(validation_targets.isnull().values.any())\n",
        "# print(\"Test targets summary:\")\n",
        "# display.display(test_targets.describe())\n",
        "# display.display(test_targets.isnull().values.any())"
      ],
      "execution_count": 59,
      "outputs": [
        {
          "output_type": "stream",
          "text": [
            "Training examples summary:\n"
          ],
          "name": "stdout"
        },
        {
          "output_type": "display_data",
          "data": {
            "text/html": [
              "<div>\n",
              "<style scoped>\n",
              "    .dataframe tbody tr th:only-of-type {\n",
              "        vertical-align: middle;\n",
              "    }\n",
              "\n",
              "    .dataframe tbody tr th {\n",
              "        vertical-align: top;\n",
              "    }\n",
              "\n",
              "    .dataframe thead th {\n",
              "        text-align: right;\n",
              "    }\n",
              "</style>\n",
              "<table border=\"1\" class=\"dataframe\">\n",
              "  <thead>\n",
              "    <tr style=\"text-align: right;\">\n",
              "      <th></th>\n",
              "      <th>SeedDiff</th>\n",
              "    </tr>\n",
              "  </thead>\n",
              "  <tbody>\n",
              "    <tr>\n",
              "      <th>count</th>\n",
              "      <td>1373.0</td>\n",
              "    </tr>\n",
              "    <tr>\n",
              "      <th>mean</th>\n",
              "      <td>0.0</td>\n",
              "    </tr>\n",
              "    <tr>\n",
              "      <th>std</th>\n",
              "      <td>0.5</td>\n",
              "    </tr>\n",
              "    <tr>\n",
              "      <th>min</th>\n",
              "      <td>-1.0</td>\n",
              "    </tr>\n",
              "    <tr>\n",
              "      <th>25%</th>\n",
              "      <td>-0.4</td>\n",
              "    </tr>\n",
              "    <tr>\n",
              "      <th>50%</th>\n",
              "      <td>0.0</td>\n",
              "    </tr>\n",
              "    <tr>\n",
              "      <th>75%</th>\n",
              "      <td>0.3</td>\n",
              "    </tr>\n",
              "    <tr>\n",
              "      <th>max</th>\n",
              "      <td>1.0</td>\n",
              "    </tr>\n",
              "  </tbody>\n",
              "</table>\n",
              "</div>"
            ],
            "text/plain": [
              "       SeedDiff\n",
              "count    1373.0\n",
              "mean        0.0\n",
              "std         0.5\n",
              "min        -1.0\n",
              "25%        -0.4\n",
              "50%         0.0\n",
              "75%         0.3\n",
              "max         1.0"
            ]
          },
          "metadata": {
            "tags": []
          }
        },
        {
          "output_type": "display_data",
          "data": {
            "text/plain": [
              "False"
            ]
          },
          "metadata": {
            "tags": []
          }
        },
        {
          "output_type": "stream",
          "text": [
            "Validation examples summary:\n"
          ],
          "name": "stdout"
        },
        {
          "output_type": "display_data",
          "data": {
            "text/html": [
              "<div>\n",
              "<style scoped>\n",
              "    .dataframe tbody tr th:only-of-type {\n",
              "        vertical-align: middle;\n",
              "    }\n",
              "\n",
              "    .dataframe tbody tr th {\n",
              "        vertical-align: top;\n",
              "    }\n",
              "\n",
              "    .dataframe thead th {\n",
              "        text-align: right;\n",
              "    }\n",
              "</style>\n",
              "<table border=\"1\" class=\"dataframe\">\n",
              "  <thead>\n",
              "    <tr style=\"text-align: right;\">\n",
              "      <th></th>\n",
              "      <th>SeedDiff</th>\n",
              "    </tr>\n",
              "  </thead>\n",
              "  <tbody>\n",
              "    <tr>\n",
              "      <th>count</th>\n",
              "      <td>294.0</td>\n",
              "    </tr>\n",
              "    <tr>\n",
              "      <th>mean</th>\n",
              "      <td>-0.0</td>\n",
              "    </tr>\n",
              "    <tr>\n",
              "      <th>std</th>\n",
              "      <td>0.5</td>\n",
              "    </tr>\n",
              "    <tr>\n",
              "      <th>min</th>\n",
              "      <td>-1.0</td>\n",
              "    </tr>\n",
              "    <tr>\n",
              "      <th>25%</th>\n",
              "      <td>-0.3</td>\n",
              "    </tr>\n",
              "    <tr>\n",
              "      <th>50%</th>\n",
              "      <td>0.0</td>\n",
              "    </tr>\n",
              "    <tr>\n",
              "      <th>75%</th>\n",
              "      <td>0.3</td>\n",
              "    </tr>\n",
              "    <tr>\n",
              "      <th>max</th>\n",
              "      <td>1.0</td>\n",
              "    </tr>\n",
              "  </tbody>\n",
              "</table>\n",
              "</div>"
            ],
            "text/plain": [
              "       SeedDiff\n",
              "count     294.0\n",
              "mean       -0.0\n",
              "std         0.5\n",
              "min        -1.0\n",
              "25%        -0.3\n",
              "50%         0.0\n",
              "75%         0.3\n",
              "max         1.0"
            ]
          },
          "metadata": {
            "tags": []
          }
        },
        {
          "output_type": "display_data",
          "data": {
            "text/plain": [
              "False"
            ]
          },
          "metadata": {
            "tags": []
          }
        },
        {
          "output_type": "stream",
          "text": [
            "Test examples summary:\n"
          ],
          "name": "stdout"
        },
        {
          "output_type": "display_data",
          "data": {
            "text/html": [
              "<div>\n",
              "<style scoped>\n",
              "    .dataframe tbody tr th:only-of-type {\n",
              "        vertical-align: middle;\n",
              "    }\n",
              "\n",
              "    .dataframe tbody tr th {\n",
              "        vertical-align: top;\n",
              "    }\n",
              "\n",
              "    .dataframe thead th {\n",
              "        text-align: right;\n",
              "    }\n",
              "</style>\n",
              "<table border=\"1\" class=\"dataframe\">\n",
              "  <thead>\n",
              "    <tr style=\"text-align: right;\">\n",
              "      <th></th>\n",
              "      <th>SeedDiff</th>\n",
              "    </tr>\n",
              "  </thead>\n",
              "  <tbody>\n",
              "    <tr>\n",
              "      <th>count</th>\n",
              "      <td>294.0</td>\n",
              "    </tr>\n",
              "    <tr>\n",
              "      <th>mean</th>\n",
              "      <td>-0.0</td>\n",
              "    </tr>\n",
              "    <tr>\n",
              "      <th>std</th>\n",
              "      <td>0.5</td>\n",
              "    </tr>\n",
              "    <tr>\n",
              "      <th>min</th>\n",
              "      <td>-1.0</td>\n",
              "    </tr>\n",
              "    <tr>\n",
              "      <th>25%</th>\n",
              "      <td>-0.3</td>\n",
              "    </tr>\n",
              "    <tr>\n",
              "      <th>50%</th>\n",
              "      <td>-0.1</td>\n",
              "    </tr>\n",
              "    <tr>\n",
              "      <th>75%</th>\n",
              "      <td>0.3</td>\n",
              "    </tr>\n",
              "    <tr>\n",
              "      <th>max</th>\n",
              "      <td>1.0</td>\n",
              "    </tr>\n",
              "  </tbody>\n",
              "</table>\n",
              "</div>"
            ],
            "text/plain": [
              "       SeedDiff\n",
              "count     294.0\n",
              "mean       -0.0\n",
              "std         0.5\n",
              "min        -1.0\n",
              "25%        -0.3\n",
              "50%        -0.1\n",
              "75%         0.3\n",
              "max         1.0"
            ]
          },
          "metadata": {
            "tags": []
          }
        },
        {
          "output_type": "display_data",
          "data": {
            "text/plain": [
              "False"
            ]
          },
          "metadata": {
            "tags": []
          }
        }
      ]
    },
    {
      "metadata": {
        "id": "Mk-mWr0W9_Zs",
        "colab_type": "code",
        "colab": {}
      },
      "cell_type": "code",
      "source": [
        "def train_nn_regression_model(\n",
        "    my_optimizer,\n",
        "    steps,\n",
        "    batch_size,\n",
        "    hidden_units,\n",
        "    training_examples,\n",
        "    training_targets,\n",
        "    validation_examples,\n",
        "    validation_targets,\n",
        "    test_examples,\n",
        "    test_targets):\n",
        "  \"\"\"Trains a neural network regression model.\n",
        "  \n",
        "  In addition to training, this function also prints training progress information,\n",
        "  as well as a plot of the training and validation loss over time.\n",
        "  \n",
        "  Args:\n",
        "    my_optimizer: An instance of `tf.train.Optimizer`, the optimizer to use.\n",
        "    steps: A non-zero `int`, the total number of training steps. A training step\n",
        "      consists of a forward and backward pass using a single batch.\n",
        "    batch_size: A non-zero `int`, the batch size.\n",
        "    hidden_units: A `list` of int values, specifying the number of neurons in each layer.\n",
        "    training_examples: A `DataFrame` containing one or more columns from\n",
        "      `california_housing_dataframe` to use as input features for training.\n",
        "    training_targets: A `DataFrame` containing exactly one column from\n",
        "      `california_housing_dataframe` to use as target for training.\n",
        "    validation_examples: A `DataFrame` containing one or more columns from\n",
        "      `california_housing_dataframe` to use as input features for validation.\n",
        "    validation_targets: A `DataFrame` containing exactly one column from\n",
        "      `california_housing_dataframe` to use as target for validation.\n",
        "      \n",
        "  Returns:\n",
        "    A tuple `(estimator, training_losses, validation_losses)`:\n",
        "      estimator: the trained `DNNRegressor` object.\n",
        "      training_losses: a `list` containing the training loss values taken during training.\n",
        "      validation_losses: a `list` containing the validation loss values taken during training.\n",
        "  \"\"\"\n",
        "\n",
        "  periods = 10\n",
        "  steps_per_period = steps / periods\n",
        "  \n",
        "  # Create a DNNRegressor object.\n",
        "  my_optimizer = tf.contrib.estimator.clip_gradients_by_norm(my_optimizer, 5.0)\n",
        "  dnn_regressor = tf.estimator.DNNRegressor(\n",
        "      feature_columns=construct_feature_columns(training_examples),\n",
        "      hidden_units=hidden_units,\n",
        "      optimizer=my_optimizer\n",
        "  )\n",
        "  \n",
        "  # Create input functions.\n",
        "  training_input_fn = lambda: my_input_fn(training_examples, \n",
        "                                          training_targets[\"Result\"], \n",
        "                                          batch_size=batch_size)\n",
        "  predict_training_input_fn = lambda: my_input_fn(training_examples, \n",
        "                                                  training_targets[\"Result\"], \n",
        "                                                  num_epochs=1, \n",
        "                                                  shuffle=False)\n",
        "  predict_validation_input_fn = lambda: my_input_fn(validation_examples, \n",
        "                                                    validation_targets[\"Result\"], \n",
        "                                                    num_epochs=1, \n",
        "                                                    shuffle=False)\n",
        "  predict_test_input_fn = lambda: my_input_fn(test_examples, \n",
        "                                                    test_targets[\"Result\"], \n",
        "                                                    num_epochs=1, \n",
        "                                                    shuffle=False)\n",
        "\n",
        "  # Train the model, but do so inside a loop so that we can periodically assess\n",
        "  # loss metrics.\n",
        "  print(\"Training neural network model...\")\n",
        "  print(\"RMSE (on training data):\")\n",
        "  training_rmse = []\n",
        "  validation_rmse = []\n",
        "  test_rmse = []\n",
        "  for period in range (0, periods):\n",
        "    # Train the model, starting from the prior state.\n",
        "    dnn_regressor.train(\n",
        "        input_fn=training_input_fn,\n",
        "        steps=steps_per_period\n",
        "    )\n",
        "    # Take a break and compute predictions.\n",
        "    training_predictions = dnn_regressor.predict(input_fn=predict_training_input_fn)\n",
        "    training_predictions = np.array([item['predictions'][0] for item in training_predictions])\n",
        "    \n",
        "    validation_predictions = dnn_regressor.predict(input_fn=predict_validation_input_fn)\n",
        "    validation_predictions = np.array([item['predictions'][0] for item in validation_predictions])\n",
        "    \n",
        "    test_predictions = dnn_regressor.predict(input_fn=predict_test_input_fn)\n",
        "    test_predictions = np.array([item['predictions'][0] for item in test_predictions])\n",
        "    \n",
        "    # Compute training and validation loss.\n",
        "    training_root_mean_squared_error = math.sqrt(\n",
        "        metrics.mean_squared_error(training_predictions, training_targets))\n",
        "    validation_root_mean_squared_error = math.sqrt(\n",
        "        metrics.mean_squared_error(validation_predictions, validation_targets))\n",
        "    test_root_mean_squared_error = math.sqrt(\n",
        "        metrics.mean_squared_error(test_predictions, test_targets))\n",
        "    # Occasionally print the current loss.\n",
        "    print(\"  period %02d : %0.2f\" % (period, training_root_mean_squared_error))\n",
        "    # Add the loss metrics from this period to our list.\n",
        "    training_rmse.append(training_root_mean_squared_error)\n",
        "    validation_rmse.append(validation_root_mean_squared_error)\n",
        "    test_rmse.append(test_root_mean_squared_error)\n",
        "  print(\"Model training finished.\")\n",
        "\n",
        "  # Output a graph of loss metrics over periods.\n",
        "  plt.ylabel(\"RMSE\")\n",
        "  plt.xlabel(\"Periods\")\n",
        "  plt.title(\"Root Mean Squared Error vs. Periods\")\n",
        "  plt.tight_layout()\n",
        "  plt.plot(training_rmse, label=\"training\")\n",
        "  plt.plot(validation_rmse, label=\"validation\")\n",
        "  plt.plot(test_rmse, label=\"test\")\n",
        "  plt.legend()\n",
        "\n",
        "  print(\"Final RMSE (on training data):   %0.2f\" % training_root_mean_squared_error)\n",
        "  print(\"Final RMSE (on validation data): %0.2f\" % validation_root_mean_squared_error)\n",
        "  print(\"Final RMSE (on test data): %0.2f\" % test_root_mean_squared_error)\n",
        "\n",
        "  return dnn_regressor, training_rmse, validation_rmse, test_rmse"
      ],
      "execution_count": 0,
      "outputs": []
    },
    {
      "metadata": {
        "id": "w1Ie4h8ZA7-x",
        "colab_type": "code",
        "colab": {
          "base_uri": "https://localhost:8080/",
          "height": 826
        },
        "outputId": "f5c5f569-bf61-4615-9311-617bd4b4fb67"
      },
      "cell_type": "code",
      "source": [
        "_ = train_nn_regression_model(\n",
        "    my_optimizer=tf.train.GradientDescentOptimizer(learning_rate=0.0001),\n",
        "    steps=7000,\n",
        "    batch_size=60,\n",
        "    hidden_units=[10, 10],\n",
        "    training_examples=training_examples,\n",
        "    training_targets=training_targets,\n",
        "    validation_examples=validation_examples,\n",
        "    validation_targets=validation_targets,\n",
        "    test_examples=test_examples,\n",
        "    test_targets=test_targets)"
      ],
      "execution_count": 46,
      "outputs": [
        {
          "output_type": "stream",
          "text": [
            "Training model...\n",
            "RMSE (on training data):\n",
            "  period 00 : 0.46\n",
            "  period 01 : 0.44\n",
            "  period 02 : 0.44\n",
            "  period 03 : 0.44\n",
            "  period 04 : 0.43\n",
            "  period 05 : 0.43\n",
            "  period 06 : 0.43\n",
            "  period 07 : 0.43\n",
            "  period 08 : 0.43\n",
            "  period 09 : 0.43\n",
            "  period 10 : 0.43\n",
            "  period 11 : 0.43\n",
            "  period 12 : 0.43\n",
            "  period 13 : 0.43\n",
            "  period 14 : 0.43\n",
            "  period 15 : 0.43\n",
            "  period 16 : 0.43\n",
            "  period 17 : 0.43\n",
            "  period 18 : 0.43\n",
            "  period 19 : 0.43\n",
            "Model training finished.\n",
            "Final RMSE (on training data):   0.43\n",
            "Final RMSE (on validation data): 0.45\n"
          ],
          "name": "stdout"
        },
        {
          "output_type": "display_data",
          "data": {
            "image/png": "[encoded data removed]",
            "text/plain": [
              "<matplotlib.figure.Figure at 0x7f5faccb3198>"
            ]
          },
          "metadata": {
            "tags": []
          }
        }
      ]
    },
    {
      "metadata": {
        "id": "A96AEJP9-aZU",
        "colab_type": "code",
        "colab": {
          "base_uri": "https://localhost:8080/",
          "height": 656
        },
        "outputId": "48a79adf-d7e7-4167-d0ab-ac15368eb71c"
      },
      "cell_type": "code",
      "source": [
        "_, adagrad_training_losses, adagrad_validation_losses = train_nn_regression_model(\n",
        "    my_optimizer=tf.train.AdagradOptimizer(learning_rate=0.001),\n",
        "    steps=5000,\n",
        "    batch_size=70,\n",
        "    hidden_units=[10, 10],\n",
        "    training_examples=training_examples,\n",
        "    training_targets=training_targets,\n",
        "    validation_examples=validation_examples,\n",
        "    validation_targets=validation_targets)"
      ],
      "execution_count": 481,
      "outputs": [
        {
          "output_type": "stream",
          "text": [
            "Training model...\n",
            "RMSE (on training data):\n",
            "  period 00 : 0.53\n",
            "  period 01 : 0.49\n",
            "  period 02 : 0.48\n",
            "  period 03 : 0.47\n",
            "  period 04 : 0.46\n",
            "  period 05 : 0.46\n",
            "  period 06 : 0.45\n",
            "  period 07 : 0.45\n",
            "  period 08 : 0.45\n",
            "  period 09 : 0.45\n",
            "Model training finished.\n",
            "Final RMSE (on training data):   0.45\n",
            "Final RMSE (on validation data): 0.47\n"
          ],
          "name": "stdout"
        },
        {
          "output_type": "display_data",
          "data": {
            "image/png": "[encoded data removed]",
            "text/plain": [
              "<matplotlib.figure.Figure at 0x7f01572adb00>"
            ]
          },
          "metadata": {
            "tags": []
          }
        }
      ]
    },
    {
      "metadata": {
        "id": "UoAxDLtAAWyH",
        "colab_type": "code",
        "colab": {
          "base_uri": "https://localhost:8080/",
          "height": 826
        },
        "outputId": "c349a042-fc11-4a37-cff9-3b12372afb01"
      },
      "cell_type": "code",
      "source": [
        "_, adam_training_losses, adam_validation_losses = train_nn_regression_model(\n",
        "    my_optimizer=tf.train.AdamOptimizer(learning_rate=0.0001),\n",
        "    steps=5000,\n",
        "    batch_size=70,\n",
        "    hidden_units=[20, 20],\n",
        "    training_examples=training_examples,\n",
        "    training_targets=training_targets,\n",
        "    validation_examples=validation_examples,\n",
        "    validation_targets=validation_targets)"
      ],
      "execution_count": 35,
      "outputs": [
        {
          "output_type": "stream",
          "text": [
            "Training model...\n",
            "RMSE (on training data):\n",
            "  period 00 : 0.58\n",
            "  period 01 : 0.46\n",
            "  period 02 : 0.44\n",
            "  period 03 : 0.44\n",
            "  period 04 : 0.43\n",
            "  period 05 : 0.43\n",
            "  period 06 : 0.43\n",
            "  period 07 : 0.43\n",
            "  period 08 : 0.42\n",
            "  period 09 : 0.42\n",
            "  period 10 : 0.42\n",
            "  period 11 : 0.42\n",
            "  period 12 : 0.42\n",
            "  period 13 : 0.42\n",
            "  period 14 : 0.42\n",
            "  period 15 : 0.42\n",
            "  period 16 : 0.42\n",
            "  period 17 : 0.42\n",
            "  period 18 : 0.42\n",
            "  period 19 : 0.42\n",
            "Model training finished.\n",
            "Final RMSE (on training data):   0.42\n",
            "Final RMSE (on validation data): 0.45\n"
          ],
          "name": "stdout"
        },
        {
          "output_type": "display_data",
          "data": {
            "image/png": "[encoded data removed]",
            "text/plain": [
              "<matplotlib.figure.Figure at 0x7fd9d8ca3240>"
            ]
          },
          "metadata": {
            "tags": []
          }
        }
      ]
    },
    {
      "metadata": {
        "id": "ynKhUpkzQvv3",
        "colab_type": "code",
        "colab": {}
      },
      "cell_type": "code",
      "source": [
        "def train_linear_classifier_model(\n",
        "    learning_rate,\n",
        "    steps,\n",
        "    batch_size,\n",
        "    training_examples,\n",
        "    training_targets,\n",
        "    validation_examples,\n",
        "    validation_targets):\n",
        "  \"\"\"Trains a linear classification model.\n",
        "  \n",
        "  In addition to training, this function also prints training progress information,\n",
        "  as well as a plot of the training and validation loss over time.\n",
        "  \n",
        "  Args:\n",
        "    learning_rate: A `float`, the learning rate.\n",
        "    steps: A non-zero `int`, the total number of training steps. A training step\n",
        "      consists of a forward and backward pass using a single batch.\n",
        "    batch_size: A non-zero `int`, the batch size.\n",
        "    training_examples: A `DataFrame` containing one or more columns from\n",
        "      `california_housing_dataframe` to use as input features for training.\n",
        "    training_targets: A `DataFrame` containing exactly one column from\n",
        "      `california_housing_dataframe` to use as target for training.\n",
        "    validation_examples: A `DataFrame` containing one or more columns from\n",
        "      `california_housing_dataframe` to use as input features for validation.\n",
        "    validation_targets: A `DataFrame` containing exactly one column from\n",
        "      `california_housing_dataframe` to use as target for validation.\n",
        "      \n",
        "  Returns:\n",
        "    A `LinearClassifier` object trained on the training data.\n",
        "  \"\"\"\n",
        "\n",
        "  periods = 10\n",
        "  steps_per_period = steps / periods\n",
        "  \n",
        "  # Create a linear classifier object.\n",
        "  my_optimizer = tf.train.GradientDescentOptimizer(learning_rate=learning_rate)\n",
        "  my_optimizer = tf.contrib.estimator.clip_gradients_by_norm(my_optimizer, 5.0)  \n",
        "  linear_classifier = tf.estimator.LinearClassifier(\n",
        "      feature_columns=construct_feature_columns(training_examples),\n",
        "      optimizer=my_optimizer\n",
        "  )\n",
        "  \n",
        "  # Create input functions.\n",
        "  training_input_fn = lambda: my_input_fn(training_examples, \n",
        "                                          training_targets[\"Result\"], \n",
        "                                          batch_size=batch_size)\n",
        "  predict_training_input_fn = lambda: my_input_fn(training_examples, \n",
        "                                                  training_targets[\"Result\"], \n",
        "                                                  num_epochs=1, \n",
        "                                                  shuffle=False)\n",
        "  predict_validation_input_fn = lambda: my_input_fn(validation_examples, \n",
        "                                                    validation_targets[\"Result\"], \n",
        "                                                    num_epochs=1, \n",
        "                                                    shuffle=False)\n",
        "  \n",
        "  # Train the model, but do so inside a loop so that we can periodically assess\n",
        "  # loss metrics.\n",
        "  print(\"Training model...\")\n",
        "  print(\"LogLoss (on training data):\")\n",
        "  training_log_losses = []\n",
        "  validation_log_losses = []\n",
        "  for period in range (0, periods):\n",
        "    # Train the model, starting from the prior state.\n",
        "    linear_classifier.train(\n",
        "        input_fn=training_input_fn,\n",
        "        steps=steps_per_period\n",
        "    )\n",
        "    # Take a break and compute predictions.    \n",
        "    training_probabilities = linear_classifier.predict(input_fn=predict_training_input_fn)\n",
        "    training_probabilities = np.array([item['probabilities'] for item in training_probabilities])\n",
        "    \n",
        "    validation_probabilities = linear_classifier.predict(input_fn=predict_validation_input_fn)\n",
        "    validation_probabilities = np.array([item['probabilities'] for item in validation_probabilities])\n",
        "    \n",
        "    training_log_loss = metrics.log_loss(training_targets, training_probabilities)\n",
        "    validation_log_loss = metrics.log_loss(validation_targets, validation_probabilities)\n",
        "    # Occasionally print the current loss.\n",
        "    print(\"  period %02d : %0.2f\" % (period, training_log_loss))\n",
        "    # Add the loss metrics from this period to our list.\n",
        "    training_log_losses.append(training_log_loss)\n",
        "    validation_log_losses.append(validation_log_loss)\n",
        "  print(\"Model training finished.\")\n",
        "  \n",
        "  # Output a graph of loss metrics over periods.\n",
        "  plt.ylabel(\"LogLoss\")\n",
        "  plt.xlabel(\"Periods\")\n",
        "  plt.title(\"LogLoss vs. Periods\")\n",
        "  plt.tight_layout()\n",
        "  plt.plot(training_log_losses, label=\"training\")\n",
        "  plt.plot(validation_log_losses, label=\"validation\")\n",
        "  plt.legend()\n",
        "\n",
        "  return linear_classifier"
      ],
      "execution_count": 0,
      "outputs": []
    },
    {
      "metadata": {
        "id": "b4C_r2CTWyjE",
        "colab_type": "code",
        "colab": {}
      },
      "cell_type": "code",
      "source": [
        "predict_validation_input_fn = lambda: my_input_fn(validation_examples, \n",
        "                                                  validation_targets[\"Result\"], \n",
        "                                                  num_epochs=1, \n",
        "                                                  shuffle=False)"
      ],
      "execution_count": 0,
      "outputs": []
    },
    {
      "metadata": {
        "id": "66PyihxSWDqu",
        "colab_type": "code",
        "colab": {
          "base_uri": "https://localhost:8080/",
          "height": 656
        },
        "outputId": "211f04c5-403a-40e9-b12a-1d3f3bf2fbad"
      },
      "cell_type": "code",
      "source": [
        "linear_classifier = train_linear_classifier_model(\n",
        "    learning_rate=0.0002,\n",
        "    steps=5000,\n",
        "    batch_size=50,\n",
        "    training_examples=training_examples,\n",
        "    training_targets=training_targets,\n",
        "    validation_examples=validation_examples,\n",
        "    validation_targets=validation_targets)\n",
        "\n",
        "evaluation_metrics = linear_classifier.evaluate(input_fn=predict_validation_input_fn)\n",
        "\n",
        "print(\"AUC on the validation set: %0.2f\" % evaluation_metrics['auc'])\n",
        "print(\"Accuracy on the validation set: %0.2f\" % evaluation_metrics['accuracy'])"
      ],
      "execution_count": 76,
      "outputs": [
        {
          "output_type": "stream",
          "text": [
            "Training model...\n",
            "LogLoss (on training data):\n",
            "  period 00 : 0.64\n",
            "  period 01 : 0.61\n",
            "  period 02 : 0.59\n",
            "  period 03 : 0.57\n",
            "  period 04 : 0.57\n",
            "  period 05 : 0.56\n",
            "  period 06 : 0.56\n",
            "  period 07 : 0.55\n",
            "  period 08 : 0.55\n",
            "  period 09 : 0.55\n",
            "Model training finished.\n",
            "AUC on the validation set: 0.77\n",
            "Accuracy on the validation set: 0.70\n"
          ],
          "name": "stdout"
        },
        {
          "output_type": "display_data",
          "data": {
            "image/png": "[encoded data removed]",
            "text/plain": [
              "<matplotlib.figure.Figure at 0x7fd9e03a4eb8>"
            ]
          },
          "metadata": {
            "tags": []
          }
        }
      ]
    },
    {
      "metadata": {
        "id": "F9EhQP2UWISD",
        "colab_type": "code",
        "colab": {
          "base_uri": "https://localhost:8080/",
          "height": 347
        },
        "outputId": "d3ce166d-c163-411e-b2a2-51a3e0453b0b"
      },
      "cell_type": "code",
      "source": [
        "validation_probabilities = linear_classifier.predict(input_fn=predict_validation_input_fn)\n",
        "# Get just the probabilities for the positive class.\n",
        "validation_probabilities = np.array([item['probabilities'][1] for item in validation_probabilities])\n",
        "\n",
        "false_positive_rate, true_positive_rate, thresholds = metrics.roc_curve(\n",
        "    validation_targets, validation_probabilities)\n",
        "plt.plot(false_positive_rate, true_positive_rate, label=\"our model\")\n",
        "plt.plot([0, 1], [0, 1], label=\"random classifier\")\n",
        "_ = plt.legend(loc=2)"
      ],
      "execution_count": 77,
      "outputs": [
        {
          "output_type": "display_data",
          "data": {
            "image/png": "[encoded data removed]",
            "text/plain": [
              "<matplotlib.figure.Figure at 0x7fd9d8e1b278>"
            ]
          },
          "metadata": {
            "tags": []
          }
        }
      ]
    },
    {
      "metadata": {
        "id": "h7dmgQlhWi9I",
        "colab_type": "code",
        "colab": {}
      },
      "cell_type": "code",
      "source": [
        ""
      ],
      "execution_count": 0,
      "outputs": []
    }
  ]
}