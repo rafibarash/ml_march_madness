{
  "nbformat": 4,
  "nbformat_minor": 0,
  "metadata": {
    "colab": {
      "name": "Neural Net March Madness ML",
      "version": "0.3.2",
      "provenance": [],
      "collapsed_sections": [
        "MOK_-6Ifb_mk",
        "79hBZ8E7ew2P"
      ]
    },
    "kernelspec": {
      "name": "python3",
      "display_name": "Python 3"
    }
  },
  "cells": [
    {
      "cell_type": "markdown",
      "metadata": {
        "id": "view-in-github",
        "colab_type": "text"
      },
      "source": [
        "[View in Colaboratory](https://colab.research.google.com/github/rafibarash/ml_march_madness/blob/master/Neural_Net_March_Madness_ML.ipynb)"
      ]
    },
    {
      "metadata": {
        "id": "jK4aXgYCVnXO",
        "colab_type": "text"
      },
      "cell_type": "markdown",
      "source": [
        "# Summary and Findings"
      ]
    },
    {
      "metadata": {
        "id": "MubsT864VrgW",
        "colab_type": "text"
      },
      "cell_type": "markdown",
      "source": [
        "A machine learning attempt to predict result of march madness matchups.\n",
        "\n",
        "### Findings\n",
        "**Linear Regression/Classification**\n",
        "* Simple linear regression model with single \"Seed Difference\" feature has average RMSE of 0.43 on training, validation, and test data (BENCHMARK TO BEAT)\n",
        "* Linear regression model predicted near 100% chance of winning when seed difference is -15 (1 vs 16 seed) and near 0% chance of winning when seed difference is 15 (16 vs 1 seed)....as expected\n",
        "\n",
        "**Neural Network on Compact Data**\n",
        "* First model was only fed regular season data from one tournament team and predicted outcome\n",
        "* First Model overfit badly and had comparable classification accuracy, log loss, and rmse to simple linear regression on seed difference\n",
        "* Second model fed regular season data from both tournament teams\n",
        "* Second model predicted tournament outcomes with 73.5% accuracy, log loss of 0.45, and rmse of 0.40\n",
        "* Second model did not overfit too much\n",
        "\n",
        "**Neural Network on Detailed Data**\n",
        "* First model was only fed regular season data from one tournament team and predicted outcome\n",
        "* First model also overfit badly and had comparable classification accuracy, log loss, and rmse to simple linear regression on seed difference\n",
        "* Will update on second model after fixing a bug in the data cleaning pipeline\n",
        "\n",
        "**Ideas to Improve Performance of Neural Network Models**\n",
        "* Bucketize each feature for number of seasons\n",
        "* Keep individual stats like assists or turnovers instead of using feature crosses\n",
        "* Keep track of defensive regular season stats\n",
        "* For each tournament matchup, make reg season stat column difference between Team A and Team B\n",
        "* Apply Dropout Regularization (maybe test around with L1 and L2 regularization)"
      ]
    },
    {
      "metadata": {
        "id": "MOK_-6Ifb_mk",
        "colab_type": "text"
      },
      "cell_type": "markdown",
      "source": [
        "# Code Used Throughout Project"
      ]
    },
    {
      "metadata": {
        "id": "Gd2m_KyacY7B",
        "colab_type": "code",
        "colab": {}
      },
      "cell_type": "code",
      "source": [
        "import math\n",
        "\n",
        "from IPython import display\n",
        "from matplotlib import cm\n",
        "from matplotlib import gridspec\n",
        "from matplotlib import pyplot as plt\n",
        "import numpy as np\n",
        "import pandas as pd\n",
        "from sklearn import metrics\n",
        "from sklearn.utils import shuffle\n",
        "import tensorflow as tf\n",
        "from tensorflow.python.data import Dataset\n",
        "\n",
        "tf.logging.set_verbosity(tf.logging.ERROR)\n",
        "pd.options.display.max_rows = 10\n",
        "pd.options.display.float_format = '{:.1f}'.format"
      ],
      "execution_count": 0,
      "outputs": []
    },
    {
      "metadata": {
        "id": "ujWzzwj8uzFV",
        "colab_type": "code",
        "colab": {}
      },
      "cell_type": "code",
      "source": [
        "def preprocess_features(results_dataframe):\n",
        "  \"\"\"Prepares input features from tournament data set.\n",
        "\n",
        "  Args:\n",
        "    results_dataframe: A Pandas DataFrame expected to contain data\n",
        "      from the results of regular season and tournament NCAA games\n",
        "  Returns:\n",
        "    A DataFrame that contains the features to be used for the model, including\n",
        "    synthetic features.\n",
        "  \"\"\"\n",
        "  stats = STATS\n",
        "  selected_features = results_dataframe[stats]\n",
        "  processed_features = selected_features.copy()\n",
        " \n",
        "  return processed_features\n",
        "\n",
        "\n",
        "def preprocess_targets(results_dataframe):\n",
        "  \"\"\"Prepares target features (i.e., labels) from tournament data set.\n",
        "\n",
        "  Args:\n",
        "    results_dataframe: A Pandas DataFrame expected to contain data\n",
        "      from the results of regular season and tournament NCAA games\n",
        "  Returns:\n",
        "    A DataFrame that contains the target feature.\n",
        "  \"\"\"\n",
        "  output_targets = pd.DataFrame()\n",
        "  output_targets[\"Result\"] = results_dataframe[\"Result\"]\n",
        "  \n",
        "  return output_targets"
      ],
      "execution_count": 0,
      "outputs": []
    },
    {
      "metadata": {
        "id": "ojr-jq4ccIQ4",
        "colab_type": "code",
        "colab": {}
      },
      "cell_type": "code",
      "source": [
        "def construct_feature_columns(input_features):\n",
        "  \"\"\"Construct the TensorFlow Feature Columns.\n",
        "\n",
        "  Args:\n",
        "    input_features: The names of the numerical input features to use.\n",
        "  Returns:\n",
        "    A set of feature columns\n",
        "  \"\"\" \n",
        "  return set([tf.feature_column.numeric_column(my_feature)\n",
        "              for my_feature in input_features])"
      ],
      "execution_count": 0,
      "outputs": []
    },
    {
      "metadata": {
        "id": "BAWLayafcLS3",
        "colab_type": "code",
        "colab": {}
      },
      "cell_type": "code",
      "source": [
        "def my_input_fn(features, targets, batch_size=1, shuffle=True, num_epochs=None):\n",
        "    \"\"\"Trains a linear regression model.\n",
        "  \n",
        "    Args:\n",
        "      features: pandas DataFrame of features\n",
        "      targets: pandas DataFrame of targets\n",
        "      batch_size: Size of batches to be passed to the model\n",
        "      shuffle: True or False. Whether to shuffle the data.\n",
        "      num_epochs: Number of epochs for which data should be repeated. None = repeat indefinitely\n",
        "    Returns:\n",
        "      Tuple of (features, labels) for next data batch\n",
        "    \"\"\"\n",
        "    \n",
        "    # Convert pandas data into a dict of np arrays.\n",
        "    features = {key:np.array(value) for key,value in dict(features).items()}                                            \n",
        " \n",
        "    # Construct a dataset, and configure batching/repeating.\n",
        "    ds = Dataset.from_tensor_slices((features,targets)) # warning: 2GB limit\n",
        "    ds = ds.batch(batch_size).repeat(num_epochs)\n",
        "    \n",
        "    # Shuffle the data, if specified.\n",
        "    if shuffle:\n",
        "      ds = ds.shuffle(10000)\n",
        "    \n",
        "    # Return the next batch of data.\n",
        "    features, labels = ds.make_one_shot_iterator().get_next()\n",
        "    return features, labels"
      ],
      "execution_count": 0,
      "outputs": []
    },
    {
      "metadata": {
        "id": "d34THLNUcPE5",
        "colab_type": "code",
        "colab": {}
      },
      "cell_type": "code",
      "source": [
        "def linear_scale(series):\n",
        "  min_val = series.min()\n",
        "  max_val = series.max()\n",
        "  scale = (max_val - min_val) / 2.0\n",
        "  return series.apply(lambda x:((x - min_val) / scale) - 1.0)\n",
        "\n",
        "def log_normalize(series):\n",
        "  return series.apply(lambda x:math.log(x+1.0))\n",
        "\n",
        "def clip(series, clip_to_min, clip_to_max):\n",
        "  return series.apply(lambda x:(\n",
        "    min(max(x, clip_to_min), clip_to_max)))\n",
        "\n",
        "def z_score_normalize(series):\n",
        "  mean = series.mean()\n",
        "  std_dv = series.std()\n",
        "  return series.apply(lambda x:(x - mean) / std_dv)\n",
        "\n",
        "def binary_threshold(series, threshold):\n",
        "  return series.apply(lambda x:(1 if x > threshold else 0))"
      ],
      "execution_count": 0,
      "outputs": []
    },
    {
      "metadata": {
        "id": "ceCTn8AscR5J",
        "colab_type": "code",
        "colab": {}
      },
      "cell_type": "code",
      "source": [
        "def normalize_linear_scale(examples_dataframe):\n",
        "  \"\"\"Returns a version of the input `DataFrame` that has all its features normalized linearly.\"\"\"\n",
        "  normalized_features = pd.DataFrame()\n",
        "  for stat in STATS:\n",
        "    normalized_features[stat] = linear_scale(examples_dataframe[stat])\n",
        "  return normalized_features"
      ],
      "execution_count": 0,
      "outputs": []
    },
    {
      "metadata": {
        "id": "3j8TGYbwUgwq",
        "colab_type": "code",
        "colab": {}
      },
      "cell_type": "code",
      "source": [
        "def train_nn_regression_model(\n",
        "    my_optimizer,\n",
        "    steps,\n",
        "    batch_size,\n",
        "    hidden_units,\n",
        "    training_examples,\n",
        "    training_targets,\n",
        "    validation_examples,\n",
        "    validation_targets,\n",
        "    test_examples,\n",
        "    test_targets):\n",
        "  \"\"\"Trains a neural network regression model.\"\"\"\n",
        "\n",
        "  periods = 10\n",
        "  steps_per_period = steps / periods\n",
        "  \n",
        "  # Create a DNNRegressor object.\n",
        "  my_optimizer = tf.contrib.estimator.clip_gradients_by_norm(my_optimizer, 5.0)\n",
        "  dnn_regressor = tf.estimator.DNNRegressor(\n",
        "      feature_columns=construct_feature_columns(training_examples),\n",
        "      hidden_units=hidden_units,\n",
        "      optimizer=my_optimizer\n",
        "  )\n",
        "  \n",
        "  # Create input functions.\n",
        "  training_input_fn = lambda: my_input_fn(training_examples, \n",
        "                                          training_targets[\"Result\"], \n",
        "                                          batch_size=batch_size)\n",
        "  predict_training_input_fn = lambda: my_input_fn(training_examples, \n",
        "                                                  training_targets[\"Result\"], \n",
        "                                                  num_epochs=1, \n",
        "                                                  shuffle=False)\n",
        "  predict_validation_input_fn = lambda: my_input_fn(validation_examples, \n",
        "                                                    validation_targets[\"Result\"], \n",
        "                                                    num_epochs=1, \n",
        "                                                    shuffle=False)\n",
        "  predict_test_input_fn = lambda: my_input_fn(test_examples, \n",
        "                                                    test_targets[\"Result\"], \n",
        "                                                    num_epochs=1, \n",
        "                                                    shuffle=False)\n",
        "\n",
        "  # Train the model, but do so inside a loop so that we can periodically assess\n",
        "  # loss metrics.\n",
        "  print(\"Training neural network model...\")\n",
        "  print(\"RMSE (on training data):\")\n",
        "  training_rmse = []\n",
        "  validation_rmse = []\n",
        "  test_rmse = []\n",
        "  for period in range (0, periods):\n",
        "    # Train the model, starting from the prior state.\n",
        "    dnn_regressor.train(\n",
        "        input_fn=training_input_fn,\n",
        "        steps=steps_per_period\n",
        "    )\n",
        "    # Take a break and compute predictions.\n",
        "    training_predictions = dnn_regressor.predict(input_fn=predict_training_input_fn)\n",
        "    training_predictions = np.array([item['predictions'][0] for item in training_predictions])\n",
        "    \n",
        "    validation_predictions = dnn_regressor.predict(input_fn=predict_validation_input_fn)\n",
        "    validation_predictions = np.array([item['predictions'][0] for item in validation_predictions])\n",
        "    \n",
        "    test_predictions = dnn_regressor.predict(input_fn=predict_test_input_fn)\n",
        "    test_predictions = np.array([item['predictions'][0] for item in test_predictions])\n",
        "    \n",
        "    # Compute training and validation loss.\n",
        "    training_root_mean_squared_error = math.sqrt(\n",
        "        metrics.mean_squared_error(training_predictions, training_targets))\n",
        "    validation_root_mean_squared_error = math.sqrt(\n",
        "        metrics.mean_squared_error(validation_predictions, validation_targets))\n",
        "    test_root_mean_squared_error = math.sqrt(\n",
        "        metrics.mean_squared_error(test_predictions, test_targets))\n",
        "    # Occasionally print the current loss.\n",
        "    print(\"  period %02d : %0.2f\" % (period, training_root_mean_squared_error))\n",
        "    # Add the loss metrics from this period to our list.\n",
        "    training_rmse.append(training_root_mean_squared_error)\n",
        "    validation_rmse.append(validation_root_mean_squared_error)\n",
        "    test_rmse.append(test_root_mean_squared_error)\n",
        "  print(\"Model training finished.\")\n",
        "\n",
        "  # Output a graph of loss metrics over periods.\n",
        "  plt.ylabel(\"RMSE\")\n",
        "  plt.xlabel(\"Periods\")\n",
        "  plt.title(\"Root Mean Squared Error vs. Periods\")\n",
        "  plt.tight_layout()\n",
        "  plt.plot(training_rmse, label=\"training\")\n",
        "  plt.plot(validation_rmse, label=\"validation\")\n",
        "  plt.plot(test_rmse, label=\"test\")\n",
        "  plt.legend()\n",
        "\n",
        "  print(\"Final RMSE (on training data):   %0.2f\" % training_root_mean_squared_error)\n",
        "  print(\"Final RMSE (on validation data): %0.2f\" % validation_root_mean_squared_error)\n",
        "  print(\"Final RMSE (on test data): %0.2f\" % test_root_mean_squared_error)\n",
        "\n",
        "  return dnn_regressor, training_rmse, validation_rmse, test_rmse"
      ],
      "execution_count": 0,
      "outputs": []
    },
    {
      "metadata": {
        "id": "A1Hu8l3fUba2",
        "colab_type": "code",
        "colab": {}
      },
      "cell_type": "code",
      "source": [
        "def train_nn_classifier_model(\n",
        "    learning_rate,\n",
        "    steps,\n",
        "    batch_size,\n",
        "    hidden_units,\n",
        "    training_examples,\n",
        "    training_targets,\n",
        "    validation_examples,\n",
        "    validation_targets,\n",
        "    test_examples,\n",
        "    test_targets):\n",
        "  \"\"\"Trains a neural network classification model.\"\"\"\n",
        "\n",
        "  periods = 10\n",
        "  steps_per_period = steps / periods\n",
        "  \n",
        "  # Create a linear classifier object.\n",
        "  my_optimizer = tf.train.GradientDescentOptimizer(learning_rate=learning_rate)\n",
        "  my_optimizer = tf.contrib.estimator.clip_gradients_by_norm(my_optimizer, 5.0)  \n",
        "  nn_classifier = tf.estimator.DNNClassifier(\n",
        "      feature_columns=construct_feature_columns(training_examples),\n",
        "      optimizer=my_optimizer,\n",
        "      hidden_units=hidden_units,\n",
        "  )\n",
        "  \n",
        "  # Create input functions.\n",
        "  training_input_fn = lambda: my_input_fn(training_examples, \n",
        "                                          training_targets[\"Result\"], \n",
        "                                          batch_size=batch_size)\n",
        "  predict_training_input_fn = lambda: my_input_fn(training_examples, \n",
        "                                                  training_targets[\"Result\"], \n",
        "                                                  num_epochs=1, \n",
        "                                                  shuffle=False)\n",
        "  predict_validation_input_fn = lambda: my_input_fn(validation_examples, \n",
        "                                                    validation_targets[\"Result\"], \n",
        "                                                    num_epochs=1, \n",
        "                                                    shuffle=False)\n",
        "  predict_test_input_fn = lambda: my_input_fn(test_examples, \n",
        "                                                    test_targets[\"Result\"], \n",
        "                                                    num_epochs=1, \n",
        "                                                    shuffle=False)\n",
        "  \n",
        "  # Train the model, but do so inside a loop so that we can periodically assess\n",
        "  # loss metrics.\n",
        "  print(\"Training nn classifier model...\")\n",
        "  print(\"LogLoss (on training data):\")\n",
        "  training_log_losses = []\n",
        "  validation_log_losses = []\n",
        "  test_log_losses = []\n",
        "  for period in range (0, periods):\n",
        "    # Train the model, starting from the prior state.\n",
        "    nn_classifier.train(\n",
        "        input_fn=training_input_fn,\n",
        "        steps=steps_per_period\n",
        "    )\n",
        "    # Take a break and compute predictions.    \n",
        "    training_probabilities = nn_classifier.predict(input_fn=predict_training_input_fn)\n",
        "    training_probabilities = np.array([item['probabilities'] for item in training_probabilities])\n",
        "    \n",
        "    validation_probabilities = nn_classifier.predict(input_fn=predict_validation_input_fn)\n",
        "    validation_probabilities = np.array([item['probabilities'] for item in validation_probabilities])\n",
        "    \n",
        "    test_probabilities = nn_classifier.predict(input_fn=predict_test_input_fn)\n",
        "    test_probabilities = np.array([item['probabilities'] for item in test_probabilities])\n",
        "    \n",
        "    training_log_loss = metrics.log_loss(training_targets, training_probabilities)\n",
        "    validation_log_loss = metrics.log_loss(validation_targets, validation_probabilities)\n",
        "    test_log_loss = metrics.log_loss(test_targets, test_probabilities)\n",
        "    # Occasionally print the current loss.\n",
        "    print(\"  period %02d : %0.2f\" % (period, training_log_loss))\n",
        "    # Add the loss metrics from this period to our list.\n",
        "    training_log_losses.append(training_log_loss)\n",
        "    validation_log_losses.append(validation_log_loss)\n",
        "    test_log_losses.append(test_log_loss)\n",
        "  print(\"Model training finished.\")\n",
        "  \n",
        "  # Output a graph of loss metrics over periods.\n",
        "  plt.ylabel(\"LogLoss\")\n",
        "  plt.xlabel(\"Periods\")\n",
        "  plt.title(\"LogLoss vs. Periods\")\n",
        "  plt.tight_layout()\n",
        "  plt.plot(training_log_losses, label=\"training\")\n",
        "  plt.plot(validation_log_losses, label=\"validation\")\n",
        "  plt.plot(test_log_losses, label=\"test\")\n",
        "  plt.legend()\n",
        "\n",
        "  return nn_classifier"
      ],
      "execution_count": 0,
      "outputs": []
    },
    {
      "metadata": {
        "id": "iD8OKnhyUcFH",
        "colab_type": "code",
        "colab": {}
      },
      "cell_type": "code",
      "source": [
        "predict_validation_input_fn = lambda: my_input_fn(validation_examples, \n",
        "                                                  validation_targets[\"Result\"], \n",
        "                                                  num_epochs=1, \n",
        "                                                  shuffle=False)"
      ],
      "execution_count": 0,
      "outputs": []
    },
    {
      "metadata": {
        "id": "79hBZ8E7ew2P",
        "colab_type": "text"
      },
      "cell_type": "markdown",
      "source": [
        "# Linear Regression Mapping \"Seed Difference\" to \"Result\" - Avg RMSE of 0.43, Avg MAE of 0.61"
      ]
    },
    {
      "metadata": {
        "id": "ouAwOJEBb9IZ",
        "colab_type": "code",
        "colab": {}
      },
      "cell_type": "code",
      "source": [
        "# Load datasets\n",
        "\n",
        "t_compact = pd.read_csv(\"https://storage.googleapis.com/march-madness-ml-2018/NCAATourneyCompactResults.csv\", sep=\",\")\n",
        "t_seeds = pd.read_csv(\"https://storage.googleapis.com/march-madness-ml-2018/NCAATourneySeeds.csv\", sep=\",\")"
      ],
      "execution_count": 0,
      "outputs": []
    },
    {
      "metadata": {
        "id": "CRewA4gItSGe",
        "colab_type": "code",
        "colab": {}
      },
      "cell_type": "code",
      "source": [
        "STATS = ['SeedDiff']"
      ],
      "execution_count": 0,
      "outputs": []
    },
    {
      "metadata": {
        "id": "l9jzXHzdg2gx",
        "colab_type": "text"
      },
      "cell_type": "markdown",
      "source": [
        "### Run data through pipeline to make usable"
      ]
    },
    {
      "metadata": {
        "id": "kpTIrJv3co5U",
        "colab_type": "code",
        "colab": {}
      },
      "cell_type": "code",
      "source": [
        "# Clean Data\n",
        "t_seeds['Seed'] = t_seeds['Seed'].apply(lambda seed: int(seed[1:3]))\n",
        "t_wseeds = t_seeds.rename(columns={'TeamID':'WTeamID', 'Seed':'WSeed'})\n",
        "t_lseeds = t_seeds.rename(columns={'TeamID':'LTeamID', 'Seed':'LSeed'})\n",
        "t_compact = t_compact.drop(labels=[\"DayNum\", \"WScore\", \"LScore\", \"WLoc\", \"NumOT\"], axis=1)\n",
        "t_compact = t_compact.rename(columns={'WTeam': 'WTeamID', 'LTeam': 'LTeamID'})\n",
        "\n",
        "# Merge Seeds with Team ID\n",
        "t_dummy = pd.merge(left=t_compact, right=t_wseeds, how='left', on=['Season', 'WTeamID'])\n",
        "t_concat = pd.merge(left=t_dummy, right=t_lseeds, on=['Season', 'LTeamID'])\n",
        "t_concat['SeedDiff'] = t_concat['WSeed'] - t_concat['LSeed']\n",
        "\n",
        "# make DataFrame that summarizes SeedDiff and Result\n",
        "t_wins = pd.DataFrame()\n",
        "t_wins['SeedDiff'] = t_concat['SeedDiff']\n",
        "t_wins['Result'] = 1\n",
        "\n",
        "t_losses = pd.DataFrame()\n",
        "t_losses['SeedDiff'] = -t_concat['SeedDiff']\n",
        "t_losses['Result'] = 0\n",
        "\n",
        "# concat seediff with results into DataFrame to use for predictions\n",
        "full_results = pd.concat((t_wins, t_losses))\n",
        "full_results = full_results.reset_index(drop=True)\n",
        "full_results = full_results.reindex(\n",
        "    np.random.permutation(full_results.index))"
      ],
      "execution_count": 0,
      "outputs": []
    },
    {
      "metadata": {
        "id": "5DpKHg3KgsKf",
        "colab_type": "text"
      },
      "cell_type": "markdown",
      "source": [
        "### Partition into training, validation, and test dataframes"
      ]
    },
    {
      "metadata": {
        "id": "KCgHxKsDct1L",
        "colab_type": "code",
        "colab": {}
      },
      "cell_type": "code",
      "source": [
        "num_total_examples = len(full_results.index)\n",
        "num_training_examples = math.floor(num_total_examples*0.7)\n",
        "num_validation_examples = math.floor(num_total_examples*0.15)\n",
        "index_validation_examples = num_training_examples + num_validation_examples\n",
        "num_test_examples = math.floor(num_total_examples*0.15)\n",
        "index_test_examples = num_training_examples + num_validation_examples + num_test_examples\n",
        "\n",
        "# Choose the first 65% of examples for training.\n",
        "training_examples = preprocess_features(full_results.iloc[0:num_training_examples])\n",
        "training_targets = preprocess_targets(full_results.iloc[0:num_training_examples])\n",
        "\n",
        "# Choose 15% after training examples for validation\n",
        "validation_examples = preprocess_features(full_results.iloc[num_training_examples:index_validation_examples])\n",
        "validation_targets = preprocess_targets(full_results.iloc[num_training_examples:index_validation_examples])\n",
        "\n",
        "# Choose 15% after validation examples for testing\n",
        "test_examples = preprocess_features(full_results.iloc[index_validation_examples:index_test_examples])\n",
        "test_targets = preprocess_targets(full_results.iloc[index_validation_examples:index_test_examples])"
      ],
      "execution_count": 0,
      "outputs": []
    },
    {
      "metadata": {
        "id": "qi-560wfcuiV",
        "colab_type": "code",
        "colab": {}
      },
      "cell_type": "code",
      "source": [
        "# Double-check that we've done the right thing.\n",
        "\n",
        "print(\"Training examples summary:\")\n",
        "display.display(training_examples.describe())\n",
        "print(\"Validation examples summary:\")\n",
        "display.display(validation_examples.describe())\n",
        "print(\"Test examples summary:\")\n",
        "display.display(test_examples.describe())\n",
        "\n",
        "# print(\"Training targets summary:\") \n",
        "display.display(training_targets.head())\n",
        "print(\"Validation targets summary:\")\n",
        "display.display(validation_targets.head())\n",
        "print(\"Test targets summary:\")\n",
        "display.display(test_targets.head())"
      ],
      "execution_count": 0,
      "outputs": []
    },
    {
      "metadata": {
        "id": "Rom966aXhAyg",
        "colab_type": "text"
      },
      "cell_type": "markdown",
      "source": [
        "### Train linear regressor"
      ]
    },
    {
      "metadata": {
        "id": "2haP5BCetHCX",
        "colab_type": "code",
        "colab": {}
      },
      "cell_type": "code",
      "source": [
        "def train_linear_model(\n",
        "    learning_rate,\n",
        "    steps,\n",
        "    batch_size,\n",
        "    training_examples,\n",
        "    training_targets,\n",
        "    validation_examples,\n",
        "    validation_targets,\n",
        "    test_examples,\n",
        "    test_targets):\n",
        "  \"\"\"Trains a linear regression model of one feature.\"\"\"\n",
        "  \n",
        "  periods = 10\n",
        "  steps_per_period = steps / periods\n",
        "\n",
        "  my_feature = \"SeedDiff\"\n",
        "  my_label = \"Result\"\n",
        "\n",
        "  # Create feature columns.\n",
        "  feature_columns = [tf.feature_column.numeric_column(my_feature)]\n",
        "  \n",
        "  # Create input functions.\n",
        "  training_input_fn = lambda:my_input_fn(training_examples, training_targets, batch_size=batch_size)\n",
        "  predict_training_input_fn = lambda: my_input_fn(training_examples, training_targets, num_epochs=1, shuffle=False)\n",
        "  predict_validation_input_fn = lambda: my_input_fn(validation_examples, validation_targets, num_epochs=1, shuffle=False)\n",
        "  predict_test_input_fn = lambda: my_input_fn(test_examples, test_targets, num_epochs=1, shuffle=False)\n",
        "  \n",
        "  # Create a linear regressor object.\n",
        "  my_optimizer = tf.train.GradientDescentOptimizer(learning_rate=learning_rate)\n",
        "  my_optimizer = tf.contrib.estimator.clip_gradients_by_norm(my_optimizer, 5.0)\n",
        "  linear_regressor = tf.estimator.LinearRegressor(\n",
        "      feature_columns=feature_columns,\n",
        "      optimizer=my_optimizer\n",
        "  )\n",
        "\n",
        "  # Set up to plot the state of our model's line each period.\n",
        "  plt.figure(figsize=(15, 6))\n",
        "  plt.subplot(1, 2, 1)\n",
        "  plt.title(\"Learned Line by Period\")\n",
        "  plt.ylabel(my_label)\n",
        "  plt.xlabel(my_feature)\n",
        "  sample = full_results.sample(n=300)\n",
        "  plt.scatter(sample[my_feature], sample[my_label])\n",
        "  colors = [cm.coolwarm(x) for x in np.linspace(-1, 1, periods)]\n",
        "\n",
        "  # Train the model, but do so inside a loop so that we can periodically assess\n",
        "  # loss metrics.\n",
        "  print(\"Training linear regressor model...\")\n",
        "  print(\"RMSE (on training data):\")\n",
        "  training_rmse = []\n",
        "  validation_rmse = []\n",
        "  test_rmse = []\n",
        "  for period in range (0, periods):\n",
        "    # Train the model, starting from the prior state.\n",
        "    linear_regressor.train(\n",
        "        input_fn=training_input_fn,\n",
        "        steps=steps_per_period\n",
        "    )\n",
        "    # Take a break and compute predictions.\n",
        "    training_predictions = linear_regressor.predict(input_fn=predict_training_input_fn)\n",
        "    training_predictions = np.array([item['predictions'][0] for item in training_predictions])\n",
        "    \n",
        "    validation_predictions = linear_regressor.predict(input_fn=predict_validation_input_fn)\n",
        "    validation_predictions = np.array([item['predictions'][0] for item in validation_predictions])\n",
        "    \n",
        "    test_predictions = linear_regressor.predict(input_fn=predict_test_input_fn)\n",
        "    test_predictions = np.array([item['predictions'][0] for item in test_predictions])\n",
        "    \n",
        "    # Compute RMSE loss.\n",
        "    training_root_mean_squared_error = math.sqrt(\n",
        "        metrics.mean_squared_error(training_predictions, training_targets))\n",
        "    validation_root_mean_squared_error = math.sqrt(\n",
        "        metrics.mean_squared_error(validation_predictions, validation_targets))\n",
        "    test_root_mean_squared_error = math.sqrt(\n",
        "        metrics.mean_squared_error(test_predictions, test_targets))\n",
        "    \n",
        "    # Occasionally print the current loss.\n",
        "    print(\"  period %02d : %0.2f\" % (period, training_root_mean_squared_error))\n",
        "    # Add the loss metrics from this period to our list.\n",
        "    training_rmse.append(training_root_mean_squared_error)\n",
        "    validation_rmse.append(validation_root_mean_squared_error)\n",
        "    test_rmse.append(test_root_mean_squared_error)\n",
        "    # Finally, track the weights and biases over time.\n",
        "    # Apply some math to ensure that the data and line are plotted neatly.\n",
        "    y_extents = np.array([0, sample[my_label].max()])\n",
        "    \n",
        "    weight = linear_regressor.get_variable_value('linear/linear_model/%s/weights' % my_feature)[0]\n",
        "    bias = linear_regressor.get_variable_value('linear/linear_model/bias_weights')\n",
        "\n",
        "    x_extents = (y_extents - bias) / weight\n",
        "    x_extents = np.maximum(np.minimum(x_extents,\n",
        "                                      sample[my_feature].max()),\n",
        "                           sample[my_feature].min())\n",
        "    y_extents = weight * x_extents + bias\n",
        "    plt.plot(x_extents, y_extents, color=colors[period]) \n",
        "  print(\"Model training finished.\")\n",
        "  \n",
        "  # Output a graph of loss metrics over periods.\n",
        "  plt.subplot(1, 2, 2)\n",
        "  plt.ylabel(\"RMSE\")\n",
        "  plt.xlabel(\"Periods\")\n",
        "  plt.title(\"Root Mean Squared Error vs. Periods\")\n",
        "  plt.tight_layout()\n",
        "  plt.plot(training_rmse, label=\"training\")\n",
        "  plt.plot(validation_rmse, label=\"validation\")\n",
        "  plt.plot(test_rmse, label=\"test\")\n",
        "  plt.legend()\n",
        "\n",
        "  # Output a table with calibration data.\n",
        "#   calibration_data = pd.DataFrame()\n",
        "#   calibration_data[\"predictions\"] = pd.Series(training_predictions)\n",
        "#   calibration_data[\"targets\"] = pd.Series(training_targets)\n",
        "#   display.display(calibration_data.describe())\n",
        "\n",
        "  print(\"Final RMSE (on training data):   %0.2f\" % training_root_mean_squared_error)\n",
        "  print(\"Final RMSE (on validation data): %0.2f\" % validation_root_mean_squared_error)\n",
        "  print(\"Final RMSE (on test data): %0.2f\" % test_root_mean_squared_error)"
      ],
      "execution_count": 0,
      "outputs": []
    },
    {
      "metadata": {
        "id": "mo4Exwz5tHoZ",
        "colab_type": "code",
        "colab": {
          "base_uri": "https://localhost:8080/",
          "height": 729
        },
        "outputId": "f1ababf5-c92e-4eef-8689-22e43cd125e7"
      },
      "cell_type": "code",
      "source": [
        "train_linear_model(\n",
        "    learning_rate=0.0003,\n",
        "    steps=1000,\n",
        "    batch_size=20,\n",
        "    training_examples=training_examples,\n",
        "    training_targets=training_targets,\n",
        "    validation_examples=validation_examples,\n",
        "    validation_targets=validation_targets,\n",
        "    test_examples=test_examples,\n",
        "    test_targets=test_targets\n",
        ")"
      ],
      "execution_count": 15,
      "outputs": [
        {
          "output_type": "stream",
          "text": [
            "Training linear regressor model...\n",
            "RMSE (on training data):\n",
            "  period 00 : 0.60\n",
            "  period 01 : 0.55\n",
            "  period 02 : 0.50\n",
            "  period 03 : 0.47\n",
            "  period 04 : 0.45\n",
            "  period 05 : 0.44\n",
            "  period 06 : 0.44\n",
            "  period 07 : 0.44\n",
            "  period 08 : 0.43\n",
            "  period 09 : 0.43\n",
            "Model training finished.\n",
            "Final RMSE (on training data):   0.43\n",
            "Final RMSE (on validation data): 0.43\n",
            "Final RMSE (on test data): 0.43\n"
          ],
          "name": "stdout"
        },
        {
          "output_type": "display_data",
          "data": {
            "image/png": "[encoded data removed]",
            "text/plain": [
              "<matplotlib.figure.Figure at 0x7f892c395b00>"
            ]
          },
          "metadata": {
            "tags": []
          }
        }
      ]
    },
    {
      "metadata": {
        "id": "fWm6RstfhUKx",
        "colab_type": "text"
      },
      "cell_type": "markdown",
      "source": [
        "### Train linear classifier"
      ]
    },
    {
      "metadata": {
        "id": "U66Rv60R2HzC",
        "colab_type": "code",
        "colab": {
          "base_uri": "https://localhost:8080/",
          "height": 673
        },
        "outputId": "10dd2efc-1b4a-4240-c408-17ef86b3e83a"
      },
      "cell_type": "code",
      "source": [
        "def train_linear_classifier_model(\n",
        "    learning_rate,\n",
        "    steps,\n",
        "    batch_size,\n",
        "    training_examples,\n",
        "    training_targets,\n",
        "    validation_examples,\n",
        "    validation_targets,\n",
        "    test_examples,\n",
        "    test_targets):\n",
        "  \"\"\"Trains a neural network classification model.\"\"\"\n",
        "\n",
        "  periods = 10\n",
        "  steps_per_period = steps / periods\n",
        "  \n",
        "  # Create a linear classifier object.\n",
        "  my_optimizer = tf.train.GradientDescentOptimizer(learning_rate=learning_rate)\n",
        "  my_optimizer = tf.contrib.estimator.clip_gradients_by_norm(my_optimizer, 5.0)  \n",
        "  linear_classifier = tf.estimator.LinearClassifier(\n",
        "      feature_columns=construct_feature_columns(training_examples),\n",
        "      optimizer=my_optimizer,\n",
        "  )\n",
        "  \n",
        "  # Create input functions.\n",
        "  training_input_fn = lambda: my_input_fn(training_examples, \n",
        "                                          training_targets[\"Result\"], \n",
        "                                          batch_size=batch_size)\n",
        "  predict_training_input_fn = lambda: my_input_fn(training_examples, \n",
        "                                                  training_targets[\"Result\"], \n",
        "                                                  num_epochs=1, \n",
        "                                                  shuffle=False)\n",
        "  predict_validation_input_fn = lambda: my_input_fn(validation_examples, \n",
        "                                                    validation_targets[\"Result\"], \n",
        "                                                    num_epochs=1, \n",
        "                                                    shuffle=False)\n",
        "  predict_test_input_fn = lambda: my_input_fn(test_examples, \n",
        "                                                    test_targets[\"Result\"], \n",
        "                                                    num_epochs=1, \n",
        "                                                    shuffle=False)\n",
        "  \n",
        "  # Train the model, but do so inside a loop so that we can periodically assess\n",
        "  # loss metrics.\n",
        "  print(\"Training nn classifier model...\")\n",
        "  print(\"LogLoss (on training data):\")\n",
        "  training_log_losses = []\n",
        "  validation_log_losses = []\n",
        "  test_log_losses = []\n",
        "  for period in range (0, periods):\n",
        "    # Train the model, starting from the prior state.\n",
        "    linear_classifier.train(\n",
        "        input_fn=training_input_fn,\n",
        "        steps=steps_per_period\n",
        "    )\n",
        "    # Take a break and compute predictions.    \n",
        "    training_probabilities = linear_classifier.predict(input_fn=predict_training_input_fn)\n",
        "    training_probabilities = np.array([item['probabilities'] for item in training_probabilities])\n",
        "    \n",
        "    validation_probabilities = linear_classifier.predict(input_fn=predict_validation_input_fn)\n",
        "    validation_probabilities = np.array([item['probabilities'] for item in validation_probabilities])\n",
        "    \n",
        "    test_probabilities = linear_classifier.predict(input_fn=predict_test_input_fn)\n",
        "    test_probabilities = np.array([item['probabilities'] for item in test_probabilities])\n",
        "    \n",
        "    training_log_loss = metrics.log_loss(training_targets, training_probabilities)\n",
        "    validation_log_loss = metrics.log_loss(validation_targets, validation_probabilities)\n",
        "    test_log_loss = metrics.log_loss(test_targets, test_probabilities)\n",
        "    # Occasionally print the current loss.\n",
        "    print(\"  period %02d : %0.2f\" % (period, training_log_loss))\n",
        "    # Add the loss metrics from this period to our list.\n",
        "    training_log_losses.append(training_log_loss)\n",
        "    validation_log_losses.append(validation_log_loss)\n",
        "    test_log_losses.append(test_log_loss)\n",
        "  print(\"Model training finished.\")\n",
        "  \n",
        "  # Output a graph of loss metrics over periods.\n",
        "  plt.ylabel(\"LogLoss\")\n",
        "  plt.xlabel(\"Periods\")\n",
        "  plt.title(\"LogLoss vs. Periods\")\n",
        "  plt.tight_layout()\n",
        "  plt.plot(training_log_losses, label=\"training\")\n",
        "  plt.plot(validation_log_losses, label=\"validation\")\n",
        "  plt.plot(test_log_losses, label=\"test\")\n",
        "  plt.legend()\n",
        "\n",
        "  return linear_classifier"
      ],
      "execution_count": 23,
      "outputs": [
        {
          "output_type": "stream",
          "text": [
            "Training neural network model...\n",
            "RMSE (on training data):\n",
            "  period 00 : 0.47\n",
            "  period 01 : 0.45\n",
            "  period 02 : 0.44\n",
            "  period 03 : 0.43\n",
            "  period 04 : 0.43\n",
            "  period 05 : 0.43\n",
            "  period 06 : 0.43\n",
            "  period 07 : 0.43\n",
            "  period 08 : 0.43\n",
            "  period 09 : 0.43\n",
            "Model training finished.\n",
            "Final RMSE (on training data):   0.43\n",
            "Final RMSE (on validation data): 0.43\n",
            "Final RMSE (on test data): 0.43\n"
          ],
          "name": "stdout"
        },
        {
          "output_type": "display_data",
          "data": {
            "image/png": "[encoded data removed]",
            "text/plain": [
              "<matplotlib.figure.Figure at 0x7f8928eb5be0>"
            ]
          },
          "metadata": {
            "tags": []
          }
        }
      ]
    },
    {
      "metadata": {
        "id": "5TpqisuLxaND",
        "colab_type": "code",
        "colab": {}
      },
      "cell_type": "code",
      "source": [
        "linear_classifier = train_linear_classifier_model(\n",
        "    learning_rate=0.001,\n",
        "    steps=5000,\n",
        "    batch_size=90,\n",
        "    training_examples=training_examples,\n",
        "    training_targets=training_targets,\n",
        "    validation_examples=validation_examples,\n",
        "    validation_targets=validation_targets,\n",
        "    test_examples=test_examples,\n",
        "    test_targets=test_targets)\n",
        "\n",
        "evaluation_metrics = nn_classifier.evaluate(input_fn=predict_validation_input_fn)\n",
        "\n",
        "print(\"AUC on the validation set: %0.3f\" % evaluation_metrics['auc'])\n",
        "print(\"Accuracy on the validation set: %0.3f\" % evaluation_metrics['accuracy'])"
      ],
      "execution_count": 0,
      "outputs": []
    },
    {
      "metadata": {
        "id": "LMUbqPNOxhKw",
        "colab_type": "code",
        "colab": {}
      },
      "cell_type": "code",
      "source": [
        "validation_probabilities = nn_classifier.predict(input_fn=predict_validation_input_fn)\n",
        "# Get just the probabilities for the positive class.\n",
        "validation_probabilities = np.array([item['probabilities'][1] for item in validation_probabilities])\n",
        "\n",
        "false_positive_rate, true_positive_rate, thresholds = metrics.roc_curve(\n",
        "    validation_targets, validation_probabilities)\n",
        "plt.plot(false_positive_rate, true_positive_rate, label=\"our model\")\n",
        "plt.plot([0, 1], [0, 1], label=\"random classifier\")\n",
        "_ = plt.legend(loc=2)"
      ],
      "execution_count": 0,
      "outputs": []
    },
    {
      "metadata": {
        "id": "_E1qntd5bt-2",
        "colab_type": "text"
      },
      "cell_type": "markdown",
      "source": [
        "# Neural Network Compact Results Model"
      ]
    },
    {
      "metadata": {
        "id": "2IMNIXI4hucK",
        "colab_type": "text"
      },
      "cell_type": "markdown",
      "source": [
        "### Load data and visualize"
      ]
    },
    {
      "metadata": {
        "id": "AnkM5oC9e_Jy",
        "colab_type": "code",
        "colab": {}
      },
      "cell_type": "code",
      "source": [
        "# Load datasets\n",
        "\n",
        "reg_compact = pd.read_csv(\"https://storage.googleapis.com/march-madness-ml-2018/RegularSeasonCompactResults.csv\", sep=\",\")\n",
        "t_compact = pd.read_csv(\"https://storage.googleapis.com/march-madness-ml-2018/NCAATourneyCompactResults.csv\", sep=\",\")\n",
        "t_seeds = pd.read_csv(\"https://storage.googleapis.com/march-madness-ml-2018/NCAATourneySeeds.csv\", sep=\",\")"
      ],
      "execution_count": 0,
      "outputs": []
    },
    {
      "metadata": {
        "id": "3YxyMIL_h41P",
        "colab_type": "code",
        "colab": {
          "base_uri": "https://localhost:8080/",
          "height": 578
        },
        "outputId": "524a860a-5f8a-4c8d-f013-8cdddb065e14"
      },
      "cell_type": "code",
      "source": [
        "display.display(reg_compact.head())\n",
        "display.display(t_compact.head())\n",
        "display.display(t_seeds.head())"
      ],
      "execution_count": 26,
      "outputs": [
        {
          "output_type": "display_data",
          "data": {
            "text/html": [
              "<div>\n",
              "<style scoped>\n",
              "    .dataframe tbody tr th:only-of-type {\n",
              "        vertical-align: middle;\n",
              "    }\n",
              "\n",
              "    .dataframe tbody tr th {\n",
              "        vertical-align: top;\n",
              "    }\n",
              "\n",
              "    .dataframe thead th {\n",
              "        text-align: right;\n",
              "    }\n",
              "</style>\n",
              "<table border=\"1\" class=\"dataframe\">\n",
              "  <thead>\n",
              "    <tr style=\"text-align: right;\">\n",
              "      <th></th>\n",
              "      <th>Season</th>\n",
              "      <th>DayNum</th>\n",
              "      <th>WTeamID</th>\n",
              "      <th>WScore</th>\n",
              "      <th>LTeamID</th>\n",
              "      <th>LScore</th>\n",
              "      <th>WLoc</th>\n",
              "      <th>NumOT</th>\n",
              "    </tr>\n",
              "  </thead>\n",
              "  <tbody>\n",
              "    <tr>\n",
              "      <th>0</th>\n",
              "      <td>1985</td>\n",
              "      <td>20</td>\n",
              "      <td>1228</td>\n",
              "      <td>81</td>\n",
              "      <td>1328</td>\n",
              "      <td>64</td>\n",
              "      <td>N</td>\n",
              "      <td>0</td>\n",
              "    </tr>\n",
              "    <tr>\n",
              "      <th>1</th>\n",
              "      <td>1985</td>\n",
              "      <td>25</td>\n",
              "      <td>1106</td>\n",
              "      <td>77</td>\n",
              "      <td>1354</td>\n",
              "      <td>70</td>\n",
              "      <td>H</td>\n",
              "      <td>0</td>\n",
              "    </tr>\n",
              "    <tr>\n",
              "      <th>2</th>\n",
              "      <td>1985</td>\n",
              "      <td>25</td>\n",
              "      <td>1112</td>\n",
              "      <td>63</td>\n",
              "      <td>1223</td>\n",
              "      <td>56</td>\n",
              "      <td>H</td>\n",
              "      <td>0</td>\n",
              "    </tr>\n",
              "    <tr>\n",
              "      <th>3</th>\n",
              "      <td>1985</td>\n",
              "      <td>25</td>\n",
              "      <td>1165</td>\n",
              "      <td>70</td>\n",
              "      <td>1432</td>\n",
              "      <td>54</td>\n",
              "      <td>H</td>\n",
              "      <td>0</td>\n",
              "    </tr>\n",
              "    <tr>\n",
              "      <th>4</th>\n",
              "      <td>1985</td>\n",
              "      <td>25</td>\n",
              "      <td>1192</td>\n",
              "      <td>86</td>\n",
              "      <td>1447</td>\n",
              "      <td>74</td>\n",
              "      <td>H</td>\n",
              "      <td>0</td>\n",
              "    </tr>\n",
              "  </tbody>\n",
              "</table>\n",
              "</div>"
            ],
            "text/plain": [
              "   Season  DayNum  WTeamID  WScore  LTeamID  LScore WLoc  NumOT\n",
              "0    1985      20     1228      81     1328      64    N      0\n",
              "1    1985      25     1106      77     1354      70    H      0\n",
              "2    1985      25     1112      63     1223      56    H      0\n",
              "3    1985      25     1165      70     1432      54    H      0\n",
              "4    1985      25     1192      86     1447      74    H      0"
            ]
          },
          "metadata": {
            "tags": []
          }
        },
        {
          "output_type": "display_data",
          "data": {
            "text/html": [
              "<div>\n",
              "<style scoped>\n",
              "    .dataframe tbody tr th:only-of-type {\n",
              "        vertical-align: middle;\n",
              "    }\n",
              "\n",
              "    .dataframe tbody tr th {\n",
              "        vertical-align: top;\n",
              "    }\n",
              "\n",
              "    .dataframe thead th {\n",
              "        text-align: right;\n",
              "    }\n",
              "</style>\n",
              "<table border=\"1\" class=\"dataframe\">\n",
              "  <thead>\n",
              "    <tr style=\"text-align: right;\">\n",
              "      <th></th>\n",
              "      <th>Season</th>\n",
              "      <th>DayNum</th>\n",
              "      <th>WTeamID</th>\n",
              "      <th>WScore</th>\n",
              "      <th>LTeamID</th>\n",
              "      <th>LScore</th>\n",
              "      <th>WLoc</th>\n",
              "      <th>NumOT</th>\n",
              "    </tr>\n",
              "  </thead>\n",
              "  <tbody>\n",
              "    <tr>\n",
              "      <th>0</th>\n",
              "      <td>1985</td>\n",
              "      <td>136</td>\n",
              "      <td>1116</td>\n",
              "      <td>63</td>\n",
              "      <td>1234</td>\n",
              "      <td>54</td>\n",
              "      <td>N</td>\n",
              "      <td>0</td>\n",
              "    </tr>\n",
              "    <tr>\n",
              "      <th>1</th>\n",
              "      <td>1985</td>\n",
              "      <td>136</td>\n",
              "      <td>1120</td>\n",
              "      <td>59</td>\n",
              "      <td>1345</td>\n",
              "      <td>58</td>\n",
              "      <td>N</td>\n",
              "      <td>0</td>\n",
              "    </tr>\n",
              "    <tr>\n",
              "      <th>2</th>\n",
              "      <td>1985</td>\n",
              "      <td>136</td>\n",
              "      <td>1207</td>\n",
              "      <td>68</td>\n",
              "      <td>1250</td>\n",
              "      <td>43</td>\n",
              "      <td>N</td>\n",
              "      <td>0</td>\n",
              "    </tr>\n",
              "    <tr>\n",
              "      <th>3</th>\n",
              "      <td>1985</td>\n",
              "      <td>136</td>\n",
              "      <td>1229</td>\n",
              "      <td>58</td>\n",
              "      <td>1425</td>\n",
              "      <td>55</td>\n",
              "      <td>N</td>\n",
              "      <td>0</td>\n",
              "    </tr>\n",
              "    <tr>\n",
              "      <th>4</th>\n",
              "      <td>1985</td>\n",
              "      <td>136</td>\n",
              "      <td>1242</td>\n",
              "      <td>49</td>\n",
              "      <td>1325</td>\n",
              "      <td>38</td>\n",
              "      <td>N</td>\n",
              "      <td>0</td>\n",
              "    </tr>\n",
              "  </tbody>\n",
              "</table>\n",
              "</div>"
            ],
            "text/plain": [
              "   Season  DayNum  WTeamID  WScore  LTeamID  LScore WLoc  NumOT\n",
              "0    1985     136     1116      63     1234      54    N      0\n",
              "1    1985     136     1120      59     1345      58    N      0\n",
              "2    1985     136     1207      68     1250      43    N      0\n",
              "3    1985     136     1229      58     1425      55    N      0\n",
              "4    1985     136     1242      49     1325      38    N      0"
            ]
          },
          "metadata": {
            "tags": []
          }
        },
        {
          "output_type": "display_data",
          "data": {
            "text/html": [
              "<div>\n",
              "<style scoped>\n",
              "    .dataframe tbody tr th:only-of-type {\n",
              "        vertical-align: middle;\n",
              "    }\n",
              "\n",
              "    .dataframe tbody tr th {\n",
              "        vertical-align: top;\n",
              "    }\n",
              "\n",
              "    .dataframe thead th {\n",
              "        text-align: right;\n",
              "    }\n",
              "</style>\n",
              "<table border=\"1\" class=\"dataframe\">\n",
              "  <thead>\n",
              "    <tr style=\"text-align: right;\">\n",
              "      <th></th>\n",
              "      <th>Season</th>\n",
              "      <th>Seed</th>\n",
              "      <th>TeamID</th>\n",
              "    </tr>\n",
              "  </thead>\n",
              "  <tbody>\n",
              "    <tr>\n",
              "      <th>0</th>\n",
              "      <td>1985</td>\n",
              "      <td>W01</td>\n",
              "      <td>1207</td>\n",
              "    </tr>\n",
              "    <tr>\n",
              "      <th>1</th>\n",
              "      <td>1985</td>\n",
              "      <td>W02</td>\n",
              "      <td>1210</td>\n",
              "    </tr>\n",
              "    <tr>\n",
              "      <th>2</th>\n",
              "      <td>1985</td>\n",
              "      <td>W03</td>\n",
              "      <td>1228</td>\n",
              "    </tr>\n",
              "    <tr>\n",
              "      <th>3</th>\n",
              "      <td>1985</td>\n",
              "      <td>W04</td>\n",
              "      <td>1260</td>\n",
              "    </tr>\n",
              "    <tr>\n",
              "      <th>4</th>\n",
              "      <td>1985</td>\n",
              "      <td>W05</td>\n",
              "      <td>1374</td>\n",
              "    </tr>\n",
              "  </tbody>\n",
              "</table>\n",
              "</div>"
            ],
            "text/plain": [
              "   Season Seed  TeamID\n",
              "0    1985  W01    1207\n",
              "1    1985  W02    1210\n",
              "2    1985  W03    1228\n",
              "3    1985  W04    1260\n",
              "4    1985  W05    1374"
            ]
          },
          "metadata": {
            "tags": []
          }
        }
      ]
    },
    {
      "metadata": {
        "id": "wrQPr7Km5y-m",
        "colab_type": "text"
      },
      "cell_type": "markdown",
      "source": [
        "### Essential functions"
      ]
    },
    {
      "metadata": {
        "id": "ok2DgIoOfOAv",
        "colab_type": "code",
        "colab": {}
      },
      "cell_type": "code",
      "source": [
        "def make_reg_season_data(reg_compact_data):\n",
        "  # For each season with regular season statistics, aggregate all of the game statistics for the winning and losing team,\n",
        "  # and their opponents stats for each game played.\n",
        "  dataframe = reg_compact_data.copy()\n",
        "  dataframe = dataframe.drop(labels=[\"NumOT\", \"DayNum\"], axis=1)\n",
        "  dataframe_w_team = dataframe.groupby(['WTeamID', 'Season']).agg({'WScore': [\"mean\", \"count\"]})\n",
        "  dataframe_l_team = dataframe.groupby(['LTeamID', 'Season']).agg({'LScore': [\"mean\", \"count\"]})\n",
        "  dataframe_w_opp = dataframe.groupby(['LTeamID', 'Season']).agg({'WScore': [\"mean\", \"count\"]})\n",
        "  dataframe_w_opp = dataframe_w_opp.rename(columns={'WScore':'OppWScore'})\n",
        "  dataframe_l_opp = dataframe.groupby(['WTeamID', 'Season']).agg({'LScore': [\"mean\", \"count\"]})\n",
        "  dataframe_l_opp = dataframe_l_opp.rename(columns={'LScore':'OppLScore'})\n",
        "\n",
        "  # Rename the index names so that they can be merged\n",
        "  dataframe_w_team.index.names = ['TeamID', 'Season']\n",
        "  dataframe_l_team.index.names = ['TeamID', 'Season']\n",
        "  dataframe_w_opp.index.names = ['TeamID', 'Season']\n",
        "  dataframe_l_opp.index.names = ['TeamID', 'Season']\n",
        "  \n",
        "  # Merge teams\n",
        "  dataframe_w = dataframe_w_team.join(dataframe_w_opp, how = 'outer')\n",
        "  dataframe_l = dataframe_l_team.join(dataframe_l_opp, how = 'outer')\n",
        "  dataframe = dataframe_w.join(dataframe_l, how = 'outer')\n",
        "  \n",
        "  # Include calculated win percentage. 'GamesPlayed' will be used to compute the weighted averages of the winning/losing game statistics for each team for each season.\n",
        "  dataframe['GamesPlayed'] = dataframe['WScore']['count'] + dataframe['LScore']['count']\n",
        "  dataframe['WinPercent'] = dataframe['WScore']['count']/dataframe['GamesPlayed']\n",
        "  \n",
        "  # Game statistics names for the combined list.\n",
        "  stats = ['Score']\n",
        "  # Combine winning/losing game stats into season stats for each team.\n",
        "  for stat in stats:\n",
        "      dataframe['Team' + stat] = (dataframe['W' + stat]['mean']*dataframe['W' + stat]['count'] + dataframe['L' + stat]['mean']*dataframe['L' + stat]['count'])/dataframe['GamesPlayed']\n",
        "      dataframe['Opp' + stat] = (dataframe['OppW' + stat]['mean']*dataframe['OppW' + stat]['count'] + dataframe['OppL' + stat]['mean']*dataframe['OppL' + stat]['count'])/dataframe['GamesPlayed']\n",
        "      del dataframe['W' + stat]\n",
        "      del dataframe['L' + stat]\n",
        "      del dataframe['OppW' + stat]\n",
        "      del dataframe['OppL' + stat]\n",
        "      \n",
        "  dataframe['PointDiff'] = dataframe['TeamScore'] - dataframe['OppScore']\n",
        "  \n",
        "  return dataframe"
      ],
      "execution_count": 0,
      "outputs": []
    },
    {
      "metadata": {
        "id": "xnRxDnQk6_Af",
        "colab_type": "code",
        "colab": {}
      },
      "cell_type": "code",
      "source": [
        "def make_tourney_data(t_seeds, t_compact):\n",
        "  # Clean Data\n",
        "  local_t_seeds = t_seeds.copy()\n",
        "  local_t_seeds['Seed'] = local_t_seeds['Seed'].apply(lambda seed: int(seed[1:3]))\n",
        "  t_wseeds = local_t_seeds.rename(columns={'TeamID':'WTeamID', 'Seed':'WSeed'})\n",
        "  t_lseeds = local_t_seeds.rename(columns={'TeamID':'LTeamID', 'Seed':'LSeed'})\n",
        "  t_compact = t_compact.drop(labels=[\"DayNum\", \"WScore\", \"LScore\", \"WLoc\", \"NumOT\"], axis=1)\n",
        "  t_compact = t_compact.rename(columns={'WTeam': 'WTeamID', 'LTeam': 'LTeamID'})\n",
        "\n",
        "  # Merge Seeds with Team ID\n",
        "  t_dummy = pd.merge(left=t_compact, right=t_wseeds, how='left', on=['Season', 'WTeamID'])\n",
        "  t_concat = pd.merge(left=t_dummy, right=t_lseeds, on=['Season', 'LTeamID'])\n",
        "  t_concat['SeedDiff'] = t_concat['WSeed'] - t_concat['LSeed']\n",
        "\n",
        "  # make DataFrame that summarizes SeedDiff and Result\n",
        "  t_concat = t_concat.drop(labels=[\"WSeed\", \"LSeed\"], axis=1)\n",
        "  t_wins = t_concat.copy()\n",
        "  t_wins['Result'] = 1\n",
        "\n",
        "  t_losses = t_concat.copy()\n",
        "  t_losses['SeedDiff'] = -t_concat['SeedDiff']\n",
        "  t_losses['Result'] = 0\n",
        "\n",
        "  # concat seediff with results into DataFrame to use for predictions\n",
        "  full_results = pd.concat((t_wins, t_losses))\n",
        "  \n",
        "  stats = ['GamesPlayed','WinPercent','TeamScore', 'OppScore','PointDiff']\n",
        "  for stat in stats:\n",
        "    full_results['W' + stat] = 0\n",
        "  for stat in stats:\n",
        "    full_results['L' + stat] = 0\n",
        "  full_results = full_results.apply(lambda ser: ser.astype('float64'))\n",
        "  \n",
        "  full_results = full_results.reset_index(drop=True)\n",
        "  full_results = full_results.reindex(\n",
        "      np.random.permutation(full_results.index))\n",
        "  \n",
        "  return full_results"
      ],
      "execution_count": 0,
      "outputs": []
    },
    {
      "metadata": {
        "id": "lHk7G4iC7BAg",
        "colab_type": "code",
        "colab": {}
      },
      "cell_type": "code",
      "source": [
        "def lookup_reg_season(tourney_series):\n",
        "  '''Used as lambda function to add reg_season results to t_results series'''\n",
        "  stats = ['GamesPlayed','WinPercent','TeamScore', 'OppScore','PointDiff']\n",
        "  season = tourney_series['Season']\n",
        "  wteam = tourney_series['WTeamID']\n",
        "  lteam = tourney_series['LTeamID']\n",
        "  w_reg_season_stats = reg_season.xs((wteam, season), level=('TeamID', 'Season'))\n",
        "  l_reg_season_stats = reg_season.xs((lteam, season), level=('TeamID', 'Season'))\n",
        "  for stat in stats:\n",
        "    tourney_series['W' + stat] = w_reg_season_stats[stat]\n",
        "  for stat in stats:\n",
        "    tourney_series['L' + stat] = l_reg_season_stats[stat]\n",
        "  return tourney_series"
      ],
      "execution_count": 0,
      "outputs": []
    },
    {
      "metadata": {
        "id": "jOHUzsI36py_",
        "colab_type": "text"
      },
      "cell_type": "markdown",
      "source": [
        "### Run data through pipeline to make it usable"
      ]
    },
    {
      "metadata": {
        "id": "SAZFbz5Z5Vjk",
        "colab_type": "code",
        "colab": {}
      },
      "cell_type": "code",
      "source": [
        "reg_season = make_reg_season_data(reg_compact)\n",
        "t_results = make_tourney_data(t_seeds, t_compact)\n",
        "prediction_results = (t_results.apply(lookup_reg_season, axis=1)).dropna(axis=0, how='any')"
      ],
      "execution_count": 0,
      "outputs": []
    },
    {
      "metadata": {
        "id": "O84F8_o3i2CT",
        "colab_type": "code",
        "colab": {
          "base_uri": "https://localhost:8080/",
          "height": 456
        },
        "outputId": "11e2b9fd-b81b-40d8-ba7f-56f141c9fac0"
      },
      "cell_type": "code",
      "source": [
        "display.display(reg_season.head())\n",
        "display.display(prediction_results.head())"
      ],
      "execution_count": 57,
      "outputs": [
        {
          "output_type": "display_data",
          "data": {
            "text/html": [
              "<div>\n",
              "<style scoped>\n",
              "    .dataframe tbody tr th:only-of-type {\n",
              "        vertical-align: middle;\n",
              "    }\n",
              "\n",
              "    .dataframe tbody tr th {\n",
              "        vertical-align: top;\n",
              "    }\n",
              "\n",
              "    .dataframe thead tr th {\n",
              "        text-align: left;\n",
              "    }\n",
              "\n",
              "    .dataframe thead tr:last-of-type th {\n",
              "        text-align: right;\n",
              "    }\n",
              "</style>\n",
              "<table border=\"1\" class=\"dataframe\">\n",
              "  <thead>\n",
              "    <tr>\n",
              "      <th></th>\n",
              "      <th></th>\n",
              "      <th>GamesPlayed</th>\n",
              "      <th>WinPercent</th>\n",
              "      <th>TeamScore</th>\n",
              "      <th>OppScore</th>\n",
              "      <th>PointDiff</th>\n",
              "    </tr>\n",
              "    <tr>\n",
              "      <th></th>\n",
              "      <th></th>\n",
              "      <th></th>\n",
              "      <th></th>\n",
              "      <th></th>\n",
              "      <th></th>\n",
              "      <th></th>\n",
              "    </tr>\n",
              "    <tr>\n",
              "      <th>TeamID</th>\n",
              "      <th>Season</th>\n",
              "      <th></th>\n",
              "      <th></th>\n",
              "      <th></th>\n",
              "      <th></th>\n",
              "      <th></th>\n",
              "    </tr>\n",
              "  </thead>\n",
              "  <tbody>\n",
              "    <tr>\n",
              "      <th rowspan=\"4\" valign=\"top\">1101</th>\n",
              "      <th>2014</th>\n",
              "      <td>21.0</td>\n",
              "      <td>0.1</td>\n",
              "      <td>63.1</td>\n",
              "      <td>78.6</td>\n",
              "      <td>-15.5</td>\n",
              "    </tr>\n",
              "    <tr>\n",
              "      <th>2015</th>\n",
              "      <td>28.0</td>\n",
              "      <td>0.2</td>\n",
              "      <td>61.0</td>\n",
              "      <td>71.9</td>\n",
              "      <td>-10.9</td>\n",
              "    </tr>\n",
              "    <tr>\n",
              "      <th>2016</th>\n",
              "      <td>27.0</td>\n",
              "      <td>0.3</td>\n",
              "      <td>69.9</td>\n",
              "      <td>76.3</td>\n",
              "      <td>-6.4</td>\n",
              "    </tr>\n",
              "    <tr>\n",
              "      <th>2017</th>\n",
              "      <td>25.0</td>\n",
              "      <td>0.4</td>\n",
              "      <td>67.9</td>\n",
              "      <td>72.6</td>\n",
              "      <td>-4.8</td>\n",
              "    </tr>\n",
              "    <tr>\n",
              "      <th>1102</th>\n",
              "      <th>1985</th>\n",
              "      <td>24.0</td>\n",
              "      <td>0.2</td>\n",
              "      <td>63.1</td>\n",
              "      <td>68.9</td>\n",
              "      <td>-5.8</td>\n",
              "    </tr>\n",
              "  </tbody>\n",
              "</table>\n",
              "</div>"
            ],
            "text/plain": [
              "              GamesPlayed WinPercent TeamScore OppScore PointDiff\n",
              "                                                                 \n",
              "TeamID Season                                                    \n",
              "1101   2014          21.0        0.1      63.1     78.6     -15.5\n",
              "       2015          28.0        0.2      61.0     71.9     -10.9\n",
              "       2016          27.0        0.3      69.9     76.3      -6.4\n",
              "       2017          25.0        0.4      67.9     72.6      -4.8\n",
              "1102   1985          24.0        0.2      63.1     68.9      -5.8"
            ]
          },
          "metadata": {
            "tags": []
          }
        },
        {
          "output_type": "display_data",
          "data": {
            "text/html": [
              "<div>\n",
              "<style scoped>\n",
              "    .dataframe tbody tr th:only-of-type {\n",
              "        vertical-align: middle;\n",
              "    }\n",
              "\n",
              "    .dataframe tbody tr th {\n",
              "        vertical-align: top;\n",
              "    }\n",
              "\n",
              "    .dataframe thead th {\n",
              "        text-align: right;\n",
              "    }\n",
              "</style>\n",
              "<table border=\"1\" class=\"dataframe\">\n",
              "  <thead>\n",
              "    <tr style=\"text-align: right;\">\n",
              "      <th></th>\n",
              "      <th>Season</th>\n",
              "      <th>WTeamID</th>\n",
              "      <th>LTeamID</th>\n",
              "      <th>SeedDiff</th>\n",
              "      <th>Result</th>\n",
              "      <th>WGamesPlayed</th>\n",
              "      <th>WWinPercent</th>\n",
              "      <th>WTeamScore</th>\n",
              "      <th>WOppScore</th>\n",
              "      <th>WPointDiff</th>\n",
              "      <th>LGamesPlayed</th>\n",
              "      <th>LWinPercent</th>\n",
              "      <th>LTeamScore</th>\n",
              "      <th>LOppScore</th>\n",
              "      <th>LPointDiff</th>\n",
              "    </tr>\n",
              "  </thead>\n",
              "  <tbody>\n",
              "    <tr>\n",
              "      <th>3277</th>\n",
              "      <td>2003.0</td>\n",
              "      <td>1277.0</td>\n",
              "      <td>1160.0</td>\n",
              "      <td>3.0</td>\n",
              "      <td>0.0</td>\n",
              "      <td>31.0</td>\n",
              "      <td>0.6</td>\n",
              "      <td>67.2</td>\n",
              "      <td>61.0</td>\n",
              "      <td>6.3</td>\n",
              "      <td>31.0</td>\n",
              "      <td>0.6</td>\n",
              "      <td>75.5</td>\n",
              "      <td>70.1</td>\n",
              "      <td>5.5</td>\n",
              "    </tr>\n",
              "    <tr>\n",
              "      <th>4186</th>\n",
              "      <td>2017.0</td>\n",
              "      <td>1462.0</td>\n",
              "      <td>1268.0</td>\n",
              "      <td>-5.0</td>\n",
              "      <td>0.0</td>\n",
              "      <td>34.0</td>\n",
              "      <td>0.6</td>\n",
              "      <td>74.6</td>\n",
              "      <td>71.4</td>\n",
              "      <td>3.3</td>\n",
              "      <td>31.0</td>\n",
              "      <td>0.7</td>\n",
              "      <td>73.5</td>\n",
              "      <td>68.5</td>\n",
              "      <td>5.0</td>\n",
              "    </tr>\n",
              "    <tr>\n",
              "      <th>781</th>\n",
              "      <td>1997.0</td>\n",
              "      <td>1344.0</td>\n",
              "      <td>1266.0</td>\n",
              "      <td>3.0</td>\n",
              "      <td>1.0</td>\n",
              "      <td>31.0</td>\n",
              "      <td>0.6</td>\n",
              "      <td>74.7</td>\n",
              "      <td>69.2</td>\n",
              "      <td>5.5</td>\n",
              "      <td>30.0</td>\n",
              "      <td>0.7</td>\n",
              "      <td>68.3</td>\n",
              "      <td>57.0</td>\n",
              "      <td>11.3</td>\n",
              "    </tr>\n",
              "    <tr>\n",
              "      <th>2758</th>\n",
              "      <td>1995.0</td>\n",
              "      <td>1400.0</td>\n",
              "      <td>1332.0</td>\n",
              "      <td>-5.0</td>\n",
              "      <td>0.0</td>\n",
              "      <td>28.0</td>\n",
              "      <td>0.8</td>\n",
              "      <td>93.9</td>\n",
              "      <td>81.1</td>\n",
              "      <td>12.8</td>\n",
              "      <td>25.0</td>\n",
              "      <td>0.7</td>\n",
              "      <td>84.9</td>\n",
              "      <td>80.0</td>\n",
              "      <td>4.8</td>\n",
              "    </tr>\n",
              "    <tr>\n",
              "      <th>2479</th>\n",
              "      <td>1990.0</td>\n",
              "      <td>1462.0</td>\n",
              "      <td>1207.0</td>\n",
              "      <td>-3.0</td>\n",
              "      <td>0.0</td>\n",
              "      <td>29.0</td>\n",
              "      <td>0.9</td>\n",
              "      <td>83.3</td>\n",
              "      <td>72.6</td>\n",
              "      <td>10.7</td>\n",
              "      <td>25.0</td>\n",
              "      <td>0.8</td>\n",
              "      <td>79.8</td>\n",
              "      <td>67.2</td>\n",
              "      <td>12.6</td>\n",
              "    </tr>\n",
              "  </tbody>\n",
              "</table>\n",
              "</div>"
            ],
            "text/plain": [
              "      Season  WTeamID  LTeamID  SeedDiff  Result  WGamesPlayed  WWinPercent  \\\n",
              "3277  2003.0   1277.0   1160.0       3.0     0.0          31.0          0.6   \n",
              "4186  2017.0   1462.0   1268.0      -5.0     0.0          34.0          0.6   \n",
              "781   1997.0   1344.0   1266.0       3.0     1.0          31.0          0.6   \n",
              "2758  1995.0   1400.0   1332.0      -5.0     0.0          28.0          0.8   \n",
              "2479  1990.0   1462.0   1207.0      -3.0     0.0          29.0          0.9   \n",
              "\n",
              "      WTeamScore  WOppScore  WPointDiff  LGamesPlayed  LWinPercent  \\\n",
              "3277        67.2       61.0         6.3          31.0          0.6   \n",
              "4186        74.6       71.4         3.3          31.0          0.7   \n",
              "781         74.7       69.2         5.5          30.0          0.7   \n",
              "2758        93.9       81.1        12.8          25.0          0.7   \n",
              "2479        83.3       72.6        10.7          25.0          0.8   \n",
              "\n",
              "      LTeamScore  LOppScore  LPointDiff  \n",
              "3277        75.5       70.1         5.5  \n",
              "4186        73.5       68.5         5.0  \n",
              "781         68.3       57.0        11.3  \n",
              "2758        84.9       80.0         4.8  \n",
              "2479        79.8       67.2        12.6  "
            ]
          },
          "metadata": {
            "tags": []
          }
        }
      ]
    },
    {
      "metadata": {
        "id": "jZy_y1qK590L",
        "colab_type": "text"
      },
      "cell_type": "markdown",
      "source": [
        "### Partition data into training, validation, and test dataframes"
      ]
    },
    {
      "metadata": {
        "id": "BhhKKDQdLaiI",
        "colab_type": "code",
        "colab": {}
      },
      "cell_type": "code",
      "source": [
        "STATS = ['SeedDiff', 'WSeason', 'LSeason', 'WGamesPlayed', 'LGamesPlayed','WWinPercent', 'LWinPercent', 'WTeamScore', 'LTeamScore', 'WOppScore', 'LOppScore', 'WPointDiff', 'LPointDiff']\n",
        "# STATS = ['SeedDiff', 'WPointDiff', 'LPointDiff', 'WWinPercent', 'LWinPercent', 'WGamesPlayed', 'LGamesPlayed']"
      ],
      "execution_count": 0,
      "outputs": []
    },
    {
      "metadata": {
        "id": "8mqnV_6s6TGX",
        "colab_type": "code",
        "colab": {}
      },
      "cell_type": "code",
      "source": [
        "# concat seediff with results into DataFrame to use for predictions\n",
        "prediction_results = prediction_results.reindex(\n",
        "    np.random.permutation(prediction_results.index))\n",
        "\n",
        "# Calculate indices for training, validation, testing\n",
        "num_total_examples = len(prediction_results.index)\n",
        "num_training_examples = math.floor(num_total_examples*0.7)\n",
        "num_validation_examples = math.floor(num_total_examples*0.15)\n",
        "index_validation_examples = num_training_examples + num_validation_examples\n",
        "num_test_examples = math.floor(num_total_examples*0.15)\n",
        "index_test_examples = num_training_examples + num_validation_examples + num_test_examples\n",
        "\n",
        "# Choose the first 65% of examples for training  and normalize.\n",
        "training_examples = normalize_linear_scale(preprocess_features(prediction_results.iloc[0:num_training_examples]))\n",
        "training_targets = preprocess_targets(prediction_results.iloc[0:num_training_examples])\n",
        "\n",
        "# Choose 15% after training examples for validation  and normalize\n",
        "validation_examples = normalize_linear_scale(preprocess_features(prediction_results.iloc[num_training_examples:index_validation_examples]))\n",
        "validation_targets = preprocess_targets(prediction_results.iloc[num_training_examples:index_validation_examples])\n",
        "\n",
        "# Choose 15% after validation examples for testing  and normalize\n",
        "test_examples = normalize_linear_scale(preprocess_features(prediction_results.iloc[index_validation_examples:index_test_examples]))\n",
        "test_targets = preprocess_targets(prediction_results.iloc[index_validation_examples:index_test_examples])"
      ],
      "execution_count": 0,
      "outputs": []
    },
    {
      "metadata": {
        "id": "rFJxoiqp2BTc",
        "colab_type": "code",
        "colab": {}
      },
      "cell_type": "code",
      "source": [
        "# Double-check that we've done the right thing.\n",
        "\n",
        "print(\"Training examples summary:\")\n",
        "display.display(training_examples.describe())\n",
        "display.display(training_examples.isnull().values.any())\n",
        "print(\"Validation examples summary:\")\n",
        "display.display(validation_examples.describe())\n",
        "display.display(validation_examples.isnull().values.any())\n",
        "print(\"Test examples summary:\")\n",
        "display.display(test_examples.describe())\n",
        "display.display(test_examples.isnull().values.any())\n",
        "\n",
        "print(\"Training examples head:\")\n",
        "display.display(training_examples.head())\n",
        "print(\"Validation examples head:\")\n",
        "display.display(validation_examples.head())\n",
        "print(\"Test examples head:\")\n",
        "display.display(test_examples.head())\n",
        "\n",
        "# print(\"Training targets summary:\") \n",
        "# display.display(training_targets.describe())\n",
        "# display.display(training_targets.isnull().values.any())\n",
        "# print(\"Validation targets summary:\")\n",
        "# display.display(validation_targets.describe())\n",
        "# display.display(validation_targets.isnull().values.any())\n",
        "# print(\"Test targets summary:\")\n",
        "# display.display(test_targets.describe())\n",
        "# display.display(test_targets.isnull().values.any())"
      ],
      "execution_count": 0,
      "outputs": []
    },
    {
      "metadata": {
        "id": "pWRyDBXN6GiT",
        "colab_type": "text"
      },
      "cell_type": "markdown",
      "source": [
        "### Test out neural network regressor"
      ]
    },
    {
      "metadata": {
        "id": "tV5SvA7x2Nlx",
        "colab_type": "code",
        "colab": {
          "base_uri": "https://localhost:8080/",
          "height": 673
        },
        "outputId": "bc219e29-e851-4d22-c739-c10f1f0c8afe"
      },
      "cell_type": "code",
      "source": [
        "_ = train_nn_regression_model(\n",
        "    my_optimizer=tf.train.GradientDescentOptimizer(learning_rate=0.0001),\n",
        "    steps=9000,\n",
        "    batch_size=90,\n",
        "    hidden_units=[10, 10, 10, 5, 5],\n",
        "    training_examples=training_examples,\n",
        "    training_targets=training_targets,\n",
        "    validation_examples=validation_examples,\n",
        "    validation_targets=validation_targets,\n",
        "    test_examples=test_examples,\n",
        "    test_targets=test_targets)"
      ],
      "execution_count": 90,
      "outputs": [
        {
          "output_type": "stream",
          "text": [
            "Training neural network model...\n",
            "RMSE (on training data):\n",
            "  period 00 : 0.49\n",
            "  period 01 : 0.48\n",
            "  period 02 : 0.46\n",
            "  period 03 : 0.43\n",
            "  period 04 : 0.42\n",
            "  period 05 : 0.41\n",
            "  period 06 : 0.41\n",
            "  period 07 : 0.40\n",
            "  period 08 : 0.40\n",
            "  period 09 : 0.40\n",
            "Model training finished.\n",
            "Final RMSE (on training data):   0.40\n",
            "Final RMSE (on validation data): 0.40\n",
            "Final RMSE (on test data): 0.41\n"
          ],
          "name": "stdout"
        },
        {
          "output_type": "display_data",
          "data": {
            "image/png": "[encoded data removed]",
            "text/plain": [
              "<matplotlib.figure.Figure at 0x7f4440fdf080>"
            ]
          },
          "metadata": {
            "tags": []
          }
        }
      ]
    },
    {
      "metadata": {
        "id": "npVRrlLo8c7v",
        "colab_type": "text"
      },
      "cell_type": "markdown",
      "source": [
        "### Test out neural network classifier"
      ]
    },
    {
      "metadata": {
        "id": "wZ1T8DbO8fqe",
        "colab_type": "code",
        "colab": {
          "base_uri": "https://localhost:8080/",
          "height": 656
        },
        "outputId": "93efa02b-ca9e-44c0-a7c1-c5502f653178"
      },
      "cell_type": "code",
      "source": [
        "nn_classifier = train_nn_classifier_model(\n",
        "    learning_rate=0.00015,\n",
        "    steps=9000,\n",
        "    batch_size=90,\n",
        "    hidden_units=[10, 10, 10, 5, 5],\n",
        "    training_examples=training_examples,\n",
        "    training_targets=training_targets,\n",
        "    validation_examples=validation_examples,\n",
        "    validation_targets=validation_targets,\n",
        "    test_examples=test_examples,\n",
        "    test_targets=test_targets)\n",
        "\n",
        "evaluation_metrics = nn_classifier.evaluate(input_fn=predict_validation_input_fn)\n",
        "\n",
        "print(\"AUC on the validation set: %0.3f\" % evaluation_metrics['auc'])\n",
        "print(\"Accuracy on the validation set: %0.3f\" % evaluation_metrics['accuracy'])"
      ],
      "execution_count": 93,
      "outputs": [
        {
          "output_type": "stream",
          "text": [
            "Training nn classifier model...\n",
            "LogLoss (on training data):\n",
            "  period 00 : 0.63\n",
            "  period 01 : 0.56\n",
            "  period 02 : 0.52\n",
            "  period 03 : 0.50\n",
            "  period 04 : 0.48\n",
            "  period 05 : 0.47\n",
            "  period 06 : 0.46\n",
            "  period 07 : 0.46\n",
            "  period 08 : 0.45\n",
            "  period 09 : 0.45\n",
            "Model training finished.\n",
            "AUC on the validation set: 0.851\n",
            "Accuracy on the validation set: 0.735\n"
          ],
          "name": "stdout"
        },
        {
          "output_type": "display_data",
          "data": {
            "image/png": "[encoded data removed]",
            "text/plain": [
              "<matplotlib.figure.Figure at 0x7f44325691d0>"
            ]
          },
          "metadata": {
            "tags": []
          }
        }
      ]
    },
    {
      "metadata": {
        "id": "viz-hM8984EF",
        "colab_type": "code",
        "colab": {
          "base_uri": "https://localhost:8080/",
          "height": 347
        },
        "outputId": "93bab6da-fab4-4263-ca1e-4c19337600b2"
      },
      "cell_type": "code",
      "source": [
        "validation_probabilities = nn_classifier.predict(input_fn=predict_validation_input_fn)\n",
        "# Get just the probabilities for the positive class.\n",
        "validation_probabilities = np.array([item['probabilities'][1] for item in validation_probabilities])\n",
        "\n",
        "false_positive_rate, true_positive_rate, thresholds = metrics.roc_curve(\n",
        "    validation_targets, validation_probabilities)\n",
        "plt.plot(false_positive_rate, true_positive_rate, label=\"our model\")\n",
        "plt.plot([0, 1], [0, 1], label=\"random classifier\")\n",
        "_ = plt.legend(loc=2)"
      ],
      "execution_count": 94,
      "outputs": [
        {
          "output_type": "display_data",
          "data": {
            "image/png": "[encoded data removed]",
            "text/plain": [
              "<matplotlib.figure.Figure at 0x7f444183fb00>"
            ]
          },
          "metadata": {
            "tags": []
          }
        }
      ]
    },
    {
      "metadata": {
        "id": "gpjnpnDmbzxr",
        "colab_type": "text"
      },
      "cell_type": "markdown",
      "source": [
        "# Neural Network Detailed Results Model"
      ]
    },
    {
      "metadata": {
        "id": "Y34aV9KQ9XqW",
        "colab_type": "code",
        "colab": {}
      },
      "cell_type": "code",
      "source": [
        "# Load datasets\n",
        "\n",
        "# reg_compact = pd.read_csv(\"https://storage.googleapis.com/march-madness-ml-2018/RegularSeasonCompactResults.csv\", sep=\",\")\n",
        "# seasons = pd.read_csv(\"https://storage.googleapis.com/march_madness_ml_datasets/Seasons.csv\", sep=\",\")\n",
        "# teams = pd.read_csv(\"https://storage.googleapis.com/march_madness_ml_datasets/Teams.csv\", sep=\",\")\n",
        "# t_slots = pd.read_csv(\"https://storage.googleapis.com/march_madness_ml_datasets/TourneySlots.csv\", sep=\",\")\n",
        "# t_compact = pd.read_csv(\"https://storage.googleapis.com/march-madness-ml-2018/NCAATourneyCompactResults.csv\", sep=\",\")\n",
        "t_detailed = pd.read_csv(\"https://storage.googleapis.com/march-madness-ml-2018/NCAATourneyDetailedResults.csv\", sep=\",\")\n",
        "reg_detailed = pd.read_csv(\"https://storage.googleapis.com/march-madness-ml-2018/RegularSeasonDetailedResults.csv\", sep=\",\")\n",
        "t_seeds = pd.read_csv(\"https://storage.googleapis.com/march-madness-ml-2018/NCAATourneySeeds.csv\", sep=\",\")"
      ],
      "execution_count": 0,
      "outputs": []
    },
    {
      "metadata": {
        "id": "IeavCNVSUIZf",
        "colab_type": "text"
      },
      "cell_type": "markdown",
      "source": [
        "### Essential Functions"
      ]
    },
    {
      "metadata": {
        "id": "hhH5eDl2HWtH",
        "colab_type": "code",
        "colab": {}
      },
      "cell_type": "code",
      "source": [
        "def make_reg_season_data(reg_detailed_data):\n",
        "  # For each season with regular season statistics, aggregate all of the game statistics for the winning and losing team,\n",
        "  # and their opponents stats for each game played.\n",
        "  dataframe = reg_detailed_data.copy()\n",
        "  dataframe = dataframe.drop(labels=[\"NumOT\", \"DayNum\", 'WLoc'], axis=1)\n",
        "  \n",
        "  dataframe_w_team = dataframe.groupby(['WTeamID', 'Season']).agg({'WScore': [\"mean\", \"count\"], 'WFGM': [\"mean\", \"count\"], 'WFGA': [\"mean\", \"count\"], 'WFGM3': [\"mean\", \"count\"], 'WFGA3': [\"mean\", \"count\"], \n",
        "                                                         'WFTM': [\"mean\", \"count\"], 'WFTA': [\"mean\", \"count\"], 'WOR': [\"mean\", \"count\"], 'WDR': [\"mean\", \"count\"], 'WAst': [\"mean\", \"count\"],\n",
        "                                                        'WTO': [\"mean\", \"count\"], 'WStl': [\"mean\", \"count\"], 'WBlk': [\"mean\", \"count\"], 'WPF': [\"mean\", \"count\"]})\n",
        "  dataframe_l_team = dataframe.groupby(['LTeamID', 'Season']).agg({'LScore': [\"mean\", \"count\"], 'LFGM': [\"mean\", \"count\"], \n",
        "                                                        'LFGA': [\"mean\", \"count\"], 'LFGM3': [\"mean\", \"count\"], 'LFGA3': [\"mean\", \"count\"], \n",
        "                                                         'LFTM': [\"mean\", \"count\"], 'LFTA': [\"mean\", \"count\"], 'LOR': [\"mean\", \"count\"], 'LDR': [\"mean\", \"count\"], 'LAst': [\"mean\", \"count\"],\n",
        "                                                        'LTO': [\"mean\", \"count\"], 'LStl': [\"mean\", \"count\"], 'LBlk': [\"mean\", \"count\"], 'LPF': [\"mean\", \"count\"]})\n",
        "  dataframe_w_opp = dataframe.groupby(['LTeamID', 'Season']).agg({'WScore': [\"mean\", \"count\"], 'WFGM': [\"mean\", \"count\"], 'WFGA': [\"mean\", \"count\"], 'WFGM3': [\"mean\", \"count\"], 'WFGA3': [\"mean\", \"count\"], \n",
        "                                                         'WFTM': [\"mean\", \"count\"], 'WFTA': [\"mean\", \"count\"], 'WOR': [\"mean\", \"count\"], 'WDR': [\"mean\", \"count\"], 'WAst': [\"mean\", \"count\"],\n",
        "                                                        'WTO': [\"mean\", \"count\"], 'WStl': [\"mean\", \"count\"], 'WBlk': [\"mean\", \"count\"], 'WPF': [\"mean\", \"count\"]})\n",
        "  dataframe_w_opp = dataframe_w_opp.rename(columns={'WScore':'OppWScore', 'WFGM':'OppWFGM', 'WFGA':'OppWFGA', 'WFGM3':'OppWFGM3', 'WFGA3':'OppWFGA3', 'WFTM':'OppWFTM',\n",
        "                                                        'WFTA':'OppWFTA', 'WOR':'OppWOR', 'WDR':'OppWDR', 'WAst':'OppWAst', 'WTO':'OppWTO', 'WStl':'OppWStl', 'WBlk':'OppWBlk',\n",
        "                                                        'WPF':'OppWPF'})\n",
        "  dataframe_l_opp = dataframe.groupby(['WTeamID', 'Season']).agg({'LScore': [\"mean\", \"count\"], 'LFGM': [\"mean\", \"count\"], \n",
        "                                                        'LFGA': [\"mean\", \"count\"], 'LFGM3': [\"mean\", \"count\"], 'LFGA3': [\"mean\", \"count\"], \n",
        "                                                         'LFTM': [\"mean\", \"count\"], 'LFTA': [\"mean\", \"count\"], 'LOR': [\"mean\", \"count\"], 'LDR': [\"mean\", \"count\"], 'LAst': [\"mean\", \"count\"],\n",
        "                                                        'LTO': [\"mean\", \"count\"], 'LStl': [\"mean\", \"count\"], 'LBlk': [\"mean\", \"count\"], 'LPF': [\"mean\", \"count\"]})\n",
        "  dataframe_l_opp = dataframe_l_opp.rename(columns={'LScore':'OppLScore', 'LFGM':'OppLFGM', 'LFGA':'OppLFGA', 'LFGM3':'OppLFGM3', 'LFGA3':'OppLFGA3', 'LFTM':'OppLFTM',\n",
        "                                                        'LFTA':'OppLFTA', 'LOR':'OppLOR', 'LDR':'OppLDR', 'LAst':'OppLAst', 'LTO':'OppLTO', 'LStl':'OppLStl', 'LBlk':'OppLBlk',\n",
        "                                                        'LPF':'OppLPF'})\n",
        "\n",
        "  # Rename the index names so that they can be merged\n",
        "  dataframe_w_team.index.names = ['TeamID', 'Season']\n",
        "  dataframe_l_team.index.names = ['TeamID', 'Season']\n",
        "  dataframe_w_opp.index.names = ['TeamID', 'Season']\n",
        "  dataframe_l_opp.index.names = ['TeamID', 'Season']\n",
        "  \n",
        "  # Merge teams\n",
        "  dataframe_w = dataframe_w_team.join(dataframe_w_opp, how = 'outer')\n",
        "  dataframe_l = dataframe_l_team.join(dataframe_l_opp, how = 'outer')\n",
        "  dataframe = dataframe_w.join(dataframe_l, how = 'outer')\n",
        "  \n",
        "  # Include calculated win percentage. 'GamesPlayed' will be used to compute the weighted averages of the winning/losing game statistics for each team for each season.\n",
        "  dataframe['GamesPlayed'] = dataframe['WScore']['count'] + dataframe['LScore']['count']\n",
        "  dataframe['WinPercent'] = dataframe['WScore']['count']/dataframe['GamesPlayed']\n",
        "  \n",
        "  # Game statistics names for the combined list.\n",
        "  stats = ['Score', 'FGM', 'FGA', 'FGM3', 'FGA3', 'FTM', 'FTA', 'OR', 'DR', 'Ast', 'TO', 'Stl', 'Blk', 'PF']\n",
        "  # Combine winning/losing game stats into season stats for each team.\n",
        "  for stat in stats:\n",
        "      dataframe['Team' + stat] = (dataframe['W' + stat]['mean']*dataframe['W' + stat]['count'] + dataframe['L' + stat]['mean']*dataframe['L' + stat]['count'])/dataframe['GamesPlayed']\n",
        "      dataframe['Opp' + stat] = (dataframe['OppW' + stat]['mean']*dataframe['OppW' + stat]['count'] + dataframe['OppL' + stat]['mean']*dataframe['OppL' + stat]['count'])/dataframe['GamesPlayed']\n",
        "      del dataframe['W' + stat]\n",
        "      del dataframe['L' + stat]\n",
        "      del dataframe['OppW' + stat]\n",
        "      del dataframe['OppL' + stat]\n",
        "      \n",
        "  dataframe['PointDiff'] = dataframe['TeamScore'] - dataframe['OppScore']\n",
        "  \n",
        "  # Make percentages for TEAM fg, ft, to/ast, stl/blk\n",
        "  dataframe['TeamFG'] = dataframe['TeamFGM']/dataframe['TeamFGA']\n",
        "  del dataframe['TeamFGM']\n",
        "  del dataframe['TeamFGA']\n",
        "  dataframe['TeamFG3'] = dataframe['TeamFGM3']/dataframe['TeamFGA3']\n",
        "  del dataframe['TeamFGM3']\n",
        "  del dataframe['TeamFGA3']\n",
        "  dataframe['TeamFT'] = dataframe['TeamFTM']/dataframe['TeamFTA']\n",
        "  del dataframe['TeamFTM']\n",
        "  del dataframe['TeamFTA']\n",
        "  dataframe['TeamAst_TO_Ratio'] = dataframe['TeamAst']/dataframe['TeamTO']\n",
        "  del dataframe['TeamAst']\n",
        "  del dataframe['TeamTO']\n",
        "  \n",
        "  # Make percentages for OPP fg, ft, to/ast, stl/blk\n",
        "  dataframe['OppFG'] = dataframe['OppFGM']/dataframe['OppFGA']\n",
        "  del dataframe['OppFGM']\n",
        "  del dataframe['OppFGA']\n",
        "  dataframe['OppFG3'] = dataframe['OppFGM3']/dataframe['OppFGA3']\n",
        "  del dataframe['OppFGM3']\n",
        "  del dataframe['OppFGA3']\n",
        "  dataframe['OppFT'] = dataframe['OppFTM']/dataframe['OppFTA']\n",
        "  del dataframe['OppFTM']\n",
        "  del dataframe['OppFTA']\n",
        "  dataframe['OppAst_TO_Ratio'] = dataframe['OppAst']/dataframe['OppTO']\n",
        "  del dataframe['OppAst']\n",
        "  del dataframe['OppTO']\n",
        "      \n",
        "      \n",
        "  return dataframe"
      ],
      "execution_count": 0,
      "outputs": []
    },
    {
      "metadata": {
        "id": "y_QVBp0gJIVP",
        "colab_type": "code",
        "colab": {}
      },
      "cell_type": "code",
      "source": [
        "def make_tourney_data(t_seeds, t_compact):\n",
        "  # Clean Data\n",
        "  local_t_seeds = t_seeds.copy()\n",
        "  local_t_seeds['Seed'] = local_t_seeds['Seed'].apply(lambda seed: int(seed[1:3]))\n",
        "  t_wseeds = local_t_seeds.rename(columns={'TeamID':'WTeamID', 'Seed':'WSeed'})\n",
        "  t_lseeds = local_t_seeds.rename(columns={'TeamID':'LTeamID', 'Seed':'LSeed'})\n",
        "  t_compact = t_compact.drop(labels=[\"DayNum\", \"WScore\", \"LScore\", \"WLoc\", \"NumOT\"], axis=1)\n",
        "  t_compact = t_compact.rename(columns={'WTeam': 'WTeamID', 'LTeam': 'LTeamID'})\n",
        "\n",
        "  # Merge Seeds with Team ID\n",
        "  t_dummy = pd.merge(left=t_compact, right=t_wseeds, how='left', on=['Season', 'WTeamID'])\n",
        "  t_concat = pd.merge(left=t_dummy, right=t_lseeds, on=['Season', 'LTeamID'])\n",
        "  t_concat['SeedDiff'] = t_concat['WSeed'] - t_concat['LSeed']\n",
        "\n",
        "  # make DataFrame that summarizes SeedDiff and Result\n",
        "  t_concat = t_concat.drop(labels=[\"WSeed\", \"LSeed\"], axis=1)\n",
        "  t_wins = t_concat.copy()\n",
        "  t_wins['Result'] = 1\n",
        "#   t_wins = t_wins.drop(labels=[\"LTeamID\"], axis=1)\n",
        "#   t_wins = t_wins.rename(columns={'WTeamID':'TeamID'})\n",
        "\n",
        "  t_losses = t_concat.copy()\n",
        "  t_losses['SeedDiff'] = -t_concat['SeedDiff']\n",
        "  t_losses['Result'] = 0\n",
        "#   t_losses = t_losses.drop(labels=[\"WTeamID\"], axis=1)\n",
        "#   t_losses = t_losses.rename(columns={'LTeamID':'TeamID'})\n",
        "\n",
        "  # concat seediff with results into DataFrame to use for predictions\n",
        "  full_results = pd.concat((t_wins, t_losses))\n",
        "  \n",
        "  stats = ['GamesPlayed','WinPercent','PointDiff',\n",
        "           'TeamScore', 'TeamFG','TeamFG3','TeamFT', 'TeamOR', 'TeamDR', 'TeamAst_TO_Ratio', 'TeamStl', 'TeamBlk', 'TeamPF',\n",
        "           'OppScore', 'OppFG','OppFG3','OppFT', 'OppOR', 'OppDR', 'OppAst_TO_Ratio', 'OppStl', 'OppBlk', 'OppPF'\n",
        "          ]\n",
        "  for stat in stats:\n",
        "    full_results['W' + stat] = 0\n",
        "  for stat in stats:\n",
        "    full_results['L' + stat] = 0\n",
        "  full_results = full_results.apply(lambda ser: ser.astype('float64'))\n",
        "  \n",
        "  full_results = full_results.reset_index(drop=True)\n",
        "  full_results = full_results.reindex(\n",
        "      np.random.permutation(full_results.index))\n",
        "  \n",
        "  return full_results"
      ],
      "execution_count": 0,
      "outputs": []
    },
    {
      "metadata": {
        "id": "yJ-katQxJkZD",
        "colab_type": "code",
        "colab": {}
      },
      "cell_type": "code",
      "source": [
        "def lookup_reg_season(tourney_series):\n",
        "  stats = ['GamesPlayed','WinPercent','PointDiff',\n",
        "           'TeamScore', 'TeamFG','TeamFG3','TeamFT', 'TeamOR', 'TeamDR', 'TeamAst_TO_Ratio', 'TeamStl', 'TeamBlk', 'TeamPF',\n",
        "           'OppScore', 'OppFG','OppFG3','OppFT', 'OppOR', 'OppDR', 'OppAst_TO_Ratio', 'OppStl', 'OppBlk', 'OppPF'\n",
        "          ]\n",
        "  season = tourney_series['Season']\n",
        "  if season >= 2003:\n",
        "    wteam = tourney_series['WTeamID']\n",
        "    lteam = tourney_series['LTeamID']\n",
        "    w_reg_season_stats = reg_season.xs((wteam, season), level=('TeamID', 'Season'))\n",
        "    l_reg_season_stats = reg_season.xs((lteam, season), level=('TeamID', 'Season'))\n",
        "    for stat in stats:\n",
        "      tourney_series['W' + stat] = w_reg_season_stats[stat]\n",
        "    for stat in stats:\n",
        "      tourney_series['L' + stat] = l_reg_season_stats[stat]\n",
        "    return tourney_series"
      ],
      "execution_count": 0,
      "outputs": []
    },
    {
      "metadata": {
        "id": "gxWVuVlwXIc7",
        "colab_type": "text"
      },
      "cell_type": "markdown",
      "source": [
        "### Run data through pipeline to make useable"
      ]
    },
    {
      "metadata": {
        "id": "rZj2cPWCiRKL",
        "colab_type": "code",
        "colab": {}
      },
      "cell_type": "code",
      "source": [
        "reg_season = make_reg_season_data(reg_detailed)\n",
        "t_results = make_tourney_data(t_seeds, t_compact)\n",
        "display.display(reg_season.head())\n",
        "display.display(t_results.head())"
      ],
      "execution_count": 0,
      "outputs": []
    },
    {
      "metadata": {
        "id": "ilGtW7Sb1NHo",
        "colab_type": "code",
        "colab": {}
      },
      "cell_type": "code",
      "source": [
        "prediction_results = t_results.apply(lookup_reg_season, axis=1)\n",
        "prediction_results = prediction_results.dropna(axis=0, how='any')"
      ],
      "execution_count": 0,
      "outputs": []
    },
    {
      "metadata": {
        "id": "gi8IzWt6PXOc",
        "colab_type": "code",
        "colab": {
          "base_uri": "https://localhost:8080/",
          "height": 633
        },
        "outputId": "f4815290-b65b-4d48-df28-1feab6f556fe"
      },
      "cell_type": "code",
      "source": [
        "display.display(reg_season.head())\n",
        "display.display(t_results.head())\n",
        "display.display(prediction_results.head())"
      ],
      "execution_count": 124,
      "outputs": [
        {
          "output_type": "display_data",
          "data": {
            "text/html": [
              "<div>\n",
              "<style scoped>\n",
              "    .dataframe tbody tr th:only-of-type {\n",
              "        vertical-align: middle;\n",
              "    }\n",
              "\n",
              "    .dataframe tbody tr th {\n",
              "        vertical-align: top;\n",
              "    }\n",
              "\n",
              "    .dataframe thead tr th {\n",
              "        text-align: left;\n",
              "    }\n",
              "\n",
              "    .dataframe thead tr:last-of-type th {\n",
              "        text-align: right;\n",
              "    }\n",
              "</style>\n",
              "<table border=\"1\" class=\"dataframe\">\n",
              "  <thead>\n",
              "    <tr>\n",
              "      <th></th>\n",
              "      <th></th>\n",
              "      <th>GamesPlayed</th>\n",
              "      <th>WinPercent</th>\n",
              "      <th>TeamScore</th>\n",
              "      <th>OppScore</th>\n",
              "      <th>TeamOR</th>\n",
              "      <th>OppOR</th>\n",
              "      <th>TeamDR</th>\n",
              "      <th>OppDR</th>\n",
              "      <th>TeamStl</th>\n",
              "      <th>OppStl</th>\n",
              "      <th>...</th>\n",
              "      <th>OppPF</th>\n",
              "      <th>PointDiff</th>\n",
              "      <th>TeamFG</th>\n",
              "      <th>TeamFG3</th>\n",
              "      <th>TeamFT</th>\n",
              "      <th>TeamAst_TO_Ratio</th>\n",
              "      <th>OppFG</th>\n",
              "      <th>OppFG3</th>\n",
              "      <th>OppFT</th>\n",
              "      <th>OppAst_TO_Ratio</th>\n",
              "    </tr>\n",
              "    <tr>\n",
              "      <th></th>\n",
              "      <th></th>\n",
              "      <th></th>\n",
              "      <th></th>\n",
              "      <th></th>\n",
              "      <th></th>\n",
              "      <th></th>\n",
              "      <th></th>\n",
              "      <th></th>\n",
              "      <th></th>\n",
              "      <th></th>\n",
              "      <th></th>\n",
              "      <th>...</th>\n",
              "      <th></th>\n",
              "      <th></th>\n",
              "      <th></th>\n",
              "      <th></th>\n",
              "      <th></th>\n",
              "      <th></th>\n",
              "      <th></th>\n",
              "      <th></th>\n",
              "      <th></th>\n",
              "      <th></th>\n",
              "    </tr>\n",
              "    <tr>\n",
              "      <th>TeamID</th>\n",
              "      <th>Season</th>\n",
              "      <th></th>\n",
              "      <th></th>\n",
              "      <th></th>\n",
              "      <th></th>\n",
              "      <th></th>\n",
              "      <th></th>\n",
              "      <th></th>\n",
              "      <th></th>\n",
              "      <th></th>\n",
              "      <th></th>\n",
              "      <th></th>\n",
              "      <th></th>\n",
              "      <th></th>\n",
              "      <th></th>\n",
              "      <th></th>\n",
              "      <th></th>\n",
              "      <th></th>\n",
              "      <th></th>\n",
              "      <th></th>\n",
              "      <th></th>\n",
              "      <th></th>\n",
              "    </tr>\n",
              "  </thead>\n",
              "  <tbody>\n",
              "    <tr>\n",
              "      <th rowspan=\"4\" valign=\"top\">1101</th>\n",
              "      <th>2014</th>\n",
              "      <td>21.0</td>\n",
              "      <td>0.1</td>\n",
              "      <td>63.1</td>\n",
              "      <td>78.6</td>\n",
              "      <td>8.0</td>\n",
              "      <td>10.4</td>\n",
              "      <td>20.3</td>\n",
              "      <td>24.1</td>\n",
              "      <td>5.8</td>\n",
              "      <td>7.0</td>\n",
              "      <td>...</td>\n",
              "      <td>18.7</td>\n",
              "      <td>-15.5</td>\n",
              "      <td>0.4</td>\n",
              "      <td>0.4</td>\n",
              "      <td>0.7</td>\n",
              "      <td>0.7</td>\n",
              "      <td>0.5</td>\n",
              "      <td>0.4</td>\n",
              "      <td>0.7</td>\n",
              "      <td>1.3</td>\n",
              "    </tr>\n",
              "    <tr>\n",
              "      <th>2015</th>\n",
              "      <td>28.0</td>\n",
              "      <td>0.2</td>\n",
              "      <td>61.0</td>\n",
              "      <td>71.9</td>\n",
              "      <td>8.3</td>\n",
              "      <td>10.0</td>\n",
              "      <td>19.6</td>\n",
              "      <td>25.9</td>\n",
              "      <td>5.9</td>\n",
              "      <td>5.9</td>\n",
              "      <td>...</td>\n",
              "      <td>16.5</td>\n",
              "      <td>-10.9</td>\n",
              "      <td>0.4</td>\n",
              "      <td>0.4</td>\n",
              "      <td>0.7</td>\n",
              "      <td>0.9</td>\n",
              "      <td>0.5</td>\n",
              "      <td>0.4</td>\n",
              "      <td>0.7</td>\n",
              "      <td>1.0</td>\n",
              "    </tr>\n",
              "    <tr>\n",
              "      <th>2016</th>\n",
              "      <td>27.0</td>\n",
              "      <td>0.3</td>\n",
              "      <td>69.9</td>\n",
              "      <td>76.3</td>\n",
              "      <td>8.2</td>\n",
              "      <td>8.6</td>\n",
              "      <td>22.5</td>\n",
              "      <td>25.2</td>\n",
              "      <td>6.7</td>\n",
              "      <td>5.1</td>\n",
              "      <td>...</td>\n",
              "      <td>19.7</td>\n",
              "      <td>-6.4</td>\n",
              "      <td>0.4</td>\n",
              "      <td>0.4</td>\n",
              "      <td>0.7</td>\n",
              "      <td>1.0</td>\n",
              "      <td>0.5</td>\n",
              "      <td>0.4</td>\n",
              "      <td>0.7</td>\n",
              "      <td>1.0</td>\n",
              "    </tr>\n",
              "    <tr>\n",
              "      <th>2017</th>\n",
              "      <td>25.0</td>\n",
              "      <td>0.4</td>\n",
              "      <td>67.9</td>\n",
              "      <td>72.6</td>\n",
              "      <td>7.6</td>\n",
              "      <td>10.6</td>\n",
              "      <td>22.9</td>\n",
              "      <td>25.0</td>\n",
              "      <td>7.0</td>\n",
              "      <td>6.0</td>\n",
              "      <td>...</td>\n",
              "      <td>17.2</td>\n",
              "      <td>-4.8</td>\n",
              "      <td>0.5</td>\n",
              "      <td>0.4</td>\n",
              "      <td>0.6</td>\n",
              "      <td>0.9</td>\n",
              "      <td>0.5</td>\n",
              "      <td>0.4</td>\n",
              "      <td>0.7</td>\n",
              "      <td>0.9</td>\n",
              "    </tr>\n",
              "    <tr>\n",
              "      <th>1102</th>\n",
              "      <th>2003</th>\n",
              "      <td>28.0</td>\n",
              "      <td>0.4</td>\n",
              "      <td>57.2</td>\n",
              "      <td>57.0</td>\n",
              "      <td>4.2</td>\n",
              "      <td>9.6</td>\n",
              "      <td>16.8</td>\n",
              "      <td>20.1</td>\n",
              "      <td>6.0</td>\n",
              "      <td>5.4</td>\n",
              "      <td>...</td>\n",
              "      <td>18.4</td>\n",
              "      <td>0.2</td>\n",
              "      <td>0.5</td>\n",
              "      <td>0.4</td>\n",
              "      <td>0.7</td>\n",
              "      <td>1.1</td>\n",
              "      <td>0.5</td>\n",
              "      <td>0.4</td>\n",
              "      <td>0.7</td>\n",
              "      <td>0.7</td>\n",
              "    </tr>\n",
              "  </tbody>\n",
              "</table>\n",
              "<p>5 rows × 23 columns</p>\n",
              "</div>"
            ],
            "text/plain": [
              "              GamesPlayed WinPercent TeamScore OppScore TeamOR OppOR TeamDR  \\\n",
              "                                                                              \n",
              "TeamID Season                                                                 \n",
              "1101   2014          21.0        0.1      63.1     78.6    8.0  10.4   20.3   \n",
              "       2015          28.0        0.2      61.0     71.9    8.3  10.0   19.6   \n",
              "       2016          27.0        0.3      69.9     76.3    8.2   8.6   22.5   \n",
              "       2017          25.0        0.4      67.9     72.6    7.6  10.6   22.9   \n",
              "1102   2003          28.0        0.4      57.2     57.0    4.2   9.6   16.8   \n",
              "\n",
              "              OppDR TeamStl OppStl       ...       OppPF PointDiff TeamFG  \\\n",
              "                                         ...                                \n",
              "TeamID Season                            ...                                \n",
              "1101   2014    24.1     5.8    7.0       ...        18.7     -15.5    0.4   \n",
              "       2015    25.9     5.9    5.9       ...        16.5     -10.9    0.4   \n",
              "       2016    25.2     6.7    5.1       ...        19.7      -6.4    0.4   \n",
              "       2017    25.0     7.0    6.0       ...        17.2      -4.8    0.5   \n",
              "1102   2003    20.1     6.0    5.4       ...        18.4       0.2    0.5   \n",
              "\n",
              "              TeamFG3 TeamFT TeamAst_TO_Ratio OppFG OppFG3 OppFT  \\\n",
              "                                                                   \n",
              "TeamID Season                                                      \n",
              "1101   2014       0.4    0.7              0.7   0.5    0.4   0.7   \n",
              "       2015       0.4    0.7              0.9   0.5    0.4   0.7   \n",
              "       2016       0.4    0.7              1.0   0.5    0.4   0.7   \n",
              "       2017       0.4    0.6              0.9   0.5    0.4   0.7   \n",
              "1102   2003       0.4    0.7              1.1   0.5    0.4   0.7   \n",
              "\n",
              "              OppAst_TO_Ratio  \n",
              "                               \n",
              "TeamID Season                  \n",
              "1101   2014               1.3  \n",
              "       2015               1.0  \n",
              "       2016               1.0  \n",
              "       2017               0.9  \n",
              "1102   2003               0.7  \n",
              "\n",
              "[5 rows x 23 columns]"
            ]
          },
          "metadata": {
            "tags": []
          }
        },
        {
          "output_type": "display_data",
          "data": {
            "text/html": [
              "<div>\n",
              "<style scoped>\n",
              "    .dataframe tbody tr th:only-of-type {\n",
              "        vertical-align: middle;\n",
              "    }\n",
              "\n",
              "    .dataframe tbody tr th {\n",
              "        vertical-align: top;\n",
              "    }\n",
              "\n",
              "    .dataframe thead th {\n",
              "        text-align: right;\n",
              "    }\n",
              "</style>\n",
              "<table border=\"1\" class=\"dataframe\">\n",
              "  <thead>\n",
              "    <tr style=\"text-align: right;\">\n",
              "      <th></th>\n",
              "      <th>Season</th>\n",
              "      <th>WTeamID</th>\n",
              "      <th>LTeamID</th>\n",
              "      <th>SeedDiff</th>\n",
              "      <th>Result</th>\n",
              "      <th>WGamesPlayed</th>\n",
              "      <th>WWinPercent</th>\n",
              "      <th>WPointDiff</th>\n",
              "      <th>WTeamScore</th>\n",
              "      <th>WTeamFG</th>\n",
              "      <th>...</th>\n",
              "      <th>LOppScore</th>\n",
              "      <th>LOppFG</th>\n",
              "      <th>LOppFG3</th>\n",
              "      <th>LOppFT</th>\n",
              "      <th>LOppOR</th>\n",
              "      <th>LOppDR</th>\n",
              "      <th>LOppAst_TO_Ratio</th>\n",
              "      <th>LOppStl</th>\n",
              "      <th>LOppBlk</th>\n",
              "      <th>LOppPF</th>\n",
              "    </tr>\n",
              "  </thead>\n",
              "  <tbody>\n",
              "    <tr>\n",
              "      <th>2495</th>\n",
              "      <td>1991.0</td>\n",
              "      <td>1112.0</td>\n",
              "      <td>1384.0</td>\n",
              "      <td>13.0</td>\n",
              "      <td>0.0</td>\n",
              "      <td>0.0</td>\n",
              "      <td>0.0</td>\n",
              "      <td>0.0</td>\n",
              "      <td>0.0</td>\n",
              "      <td>0.0</td>\n",
              "      <td>...</td>\n",
              "      <td>0.0</td>\n",
              "      <td>0.0</td>\n",
              "      <td>0.0</td>\n",
              "      <td>0.0</td>\n",
              "      <td>0.0</td>\n",
              "      <td>0.0</td>\n",
              "      <td>0.0</td>\n",
              "      <td>0.0</td>\n",
              "      <td>0.0</td>\n",
              "      <td>0.0</td>\n",
              "    </tr>\n",
              "    <tr>\n",
              "      <th>1272</th>\n",
              "      <td>2005.0</td>\n",
              "      <td>1328.0</td>\n",
              "      <td>1310.0</td>\n",
              "      <td>-11.0</td>\n",
              "      <td>1.0</td>\n",
              "      <td>0.0</td>\n",
              "      <td>0.0</td>\n",
              "      <td>0.0</td>\n",
              "      <td>0.0</td>\n",
              "      <td>0.0</td>\n",
              "      <td>...</td>\n",
              "      <td>0.0</td>\n",
              "      <td>0.0</td>\n",
              "      <td>0.0</td>\n",
              "      <td>0.0</td>\n",
              "      <td>0.0</td>\n",
              "      <td>0.0</td>\n",
              "      <td>0.0</td>\n",
              "      <td>0.0</td>\n",
              "      <td>0.0</td>\n",
              "      <td>0.0</td>\n",
              "    </tr>\n",
              "    <tr>\n",
              "      <th>3334</th>\n",
              "      <td>2004.0</td>\n",
              "      <td>1130.0</td>\n",
              "      <td>1428.0</td>\n",
              "      <td>5.0</td>\n",
              "      <td>0.0</td>\n",
              "      <td>0.0</td>\n",
              "      <td>0.0</td>\n",
              "      <td>0.0</td>\n",
              "      <td>0.0</td>\n",
              "      <td>0.0</td>\n",
              "      <td>...</td>\n",
              "      <td>0.0</td>\n",
              "      <td>0.0</td>\n",
              "      <td>0.0</td>\n",
              "      <td>0.0</td>\n",
              "      <td>0.0</td>\n",
              "      <td>0.0</td>\n",
              "      <td>0.0</td>\n",
              "      <td>0.0</td>\n",
              "      <td>0.0</td>\n",
              "      <td>0.0</td>\n",
              "    </tr>\n",
              "    <tr>\n",
              "      <th>3863</th>\n",
              "      <td>2012.0</td>\n",
              "      <td>1325.0</td>\n",
              "      <td>1276.0</td>\n",
              "      <td>-9.0</td>\n",
              "      <td>0.0</td>\n",
              "      <td>0.0</td>\n",
              "      <td>0.0</td>\n",
              "      <td>0.0</td>\n",
              "      <td>0.0</td>\n",
              "      <td>0.0</td>\n",
              "      <td>...</td>\n",
              "      <td>0.0</td>\n",
              "      <td>0.0</td>\n",
              "      <td>0.0</td>\n",
              "      <td>0.0</td>\n",
              "      <td>0.0</td>\n",
              "      <td>0.0</td>\n",
              "      <td>0.0</td>\n",
              "      <td>0.0</td>\n",
              "      <td>0.0</td>\n",
              "      <td>0.0</td>\n",
              "    </tr>\n",
              "    <tr>\n",
              "      <th>1637</th>\n",
              "      <td>2010.0</td>\n",
              "      <td>1124.0</td>\n",
              "      <td>1388.0</td>\n",
              "      <td>-7.0</td>\n",
              "      <td>1.0</td>\n",
              "      <td>0.0</td>\n",
              "      <td>0.0</td>\n",
              "      <td>0.0</td>\n",
              "      <td>0.0</td>\n",
              "      <td>0.0</td>\n",
              "      <td>...</td>\n",
              "      <td>0.0</td>\n",
              "      <td>0.0</td>\n",
              "      <td>0.0</td>\n",
              "      <td>0.0</td>\n",
              "      <td>0.0</td>\n",
              "      <td>0.0</td>\n",
              "      <td>0.0</td>\n",
              "      <td>0.0</td>\n",
              "      <td>0.0</td>\n",
              "      <td>0.0</td>\n",
              "    </tr>\n",
              "  </tbody>\n",
              "</table>\n",
              "<p>5 rows × 51 columns</p>\n",
              "</div>"
            ],
            "text/plain": [
              "      Season  WTeamID  LTeamID  SeedDiff  Result  WGamesPlayed  WWinPercent  \\\n",
              "2495  1991.0   1112.0   1384.0      13.0     0.0           0.0          0.0   \n",
              "1272  2005.0   1328.0   1310.0     -11.0     1.0           0.0          0.0   \n",
              "3334  2004.0   1130.0   1428.0       5.0     0.0           0.0          0.0   \n",
              "3863  2012.0   1325.0   1276.0      -9.0     0.0           0.0          0.0   \n",
              "1637  2010.0   1124.0   1388.0      -7.0     1.0           0.0          0.0   \n",
              "\n",
              "      WPointDiff  WTeamScore  WTeamFG   ...    LOppScore  LOppFG  LOppFG3  \\\n",
              "2495         0.0         0.0      0.0   ...          0.0     0.0      0.0   \n",
              "1272         0.0         0.0      0.0   ...          0.0     0.0      0.0   \n",
              "3334         0.0         0.0      0.0   ...          0.0     0.0      0.0   \n",
              "3863         0.0         0.0      0.0   ...          0.0     0.0      0.0   \n",
              "1637         0.0         0.0      0.0   ...          0.0     0.0      0.0   \n",
              "\n",
              "      LOppFT  LOppOR  LOppDR  LOppAst_TO_Ratio  LOppStl  LOppBlk  LOppPF  \n",
              "2495     0.0     0.0     0.0               0.0      0.0      0.0     0.0  \n",
              "1272     0.0     0.0     0.0               0.0      0.0      0.0     0.0  \n",
              "3334     0.0     0.0     0.0               0.0      0.0      0.0     0.0  \n",
              "3863     0.0     0.0     0.0               0.0      0.0      0.0     0.0  \n",
              "1637     0.0     0.0     0.0               0.0      0.0      0.0     0.0  \n",
              "\n",
              "[5 rows x 51 columns]"
            ]
          },
          "metadata": {
            "tags": []
          }
        },
        {
          "output_type": "display_data",
          "data": {
            "text/plain": [
              "1272    [6.91355077988007e-310, 6.91355077988007e-310,...\n",
              "3334    [6.91355077988007e-310, 6.91355077988007e-310,...\n",
              "3863    [6.91355077988007e-310, 6.91355077988007e-310,...\n",
              "1637    [6.91355077988007e-310, 6.91355077988007e-310,...\n",
              "3613    [6.91355077988007e-310, 6.91355077988007e-310,...\n",
              "dtype: object"
            ]
          },
          "metadata": {
            "tags": []
          }
        }
      ]
    },
    {
      "metadata": {
        "id": "RK0NdORyfuE9",
        "colab_type": "text"
      },
      "cell_type": "markdown",
      "source": [
        "### Partition data into training, validation, and test dataframes"
      ]
    },
    {
      "metadata": {
        "id": "-9AKcxD40JL2",
        "colab_type": "code",
        "colab": {}
      },
      "cell_type": "code",
      "source": [
        "STATS = ['SeedDiff', 'WGamesPlayed', 'LGamesPlayed', 'WWinPercent', 'LWinPercent', 'WTeamScore', 'LTeamScore', \n",
        "         'WOppScore', 'LOppScore', 'WPointDiff', 'LPointDiff', 'WFG', 'LFG', 'WFG3', 'LFG3', 'WFT', 'LFT', \n",
        "         'WOR', 'LOR', 'WDR', 'LDR', 'WAst_TO_Ratio', 'LAst_TO_Ratio', 'WStl', 'LStl', 'WBlk', 'LBlk', 'WPF', 'LPF']\n",
        "# STATS = ['SeedDiff', 'PointDiff', 'WinPercent']"
      ],
      "execution_count": 0,
      "outputs": []
    },
    {
      "metadata": {
        "id": "Q1pL910Nvp5I",
        "colab_type": "code",
        "colab": {}
      },
      "cell_type": "code",
      "source": [
        "# concat seediff with results into DataFrame to use for predictions\n",
        "prediction_results = prediction_results.reindex(\n",
        "    np.random.permutation(prediction_results.index))\n",
        "\n",
        "# Calculate indices for training, validation, testing\n",
        "num_total_examples = len(prediction_results.index)\n",
        "num_training_examples = math.floor(num_total_examples*0.7)\n",
        "num_validation_examples = math.floor(num_total_examples*0.15)\n",
        "index_validation_examples = num_training_examples + num_validation_examples\n",
        "num_test_examples = math.floor(num_total_examples*0.15)\n",
        "index_test_examples = num_training_examples + num_validation_examples + num_test_examples\n",
        "\n",
        "# Choose the first 65% of examples for training  and normalize.\n",
        "training_examples = normalize_linear_scale(preprocess_features(prediction_results.iloc[0:num_training_examples]))\n",
        "training_targets = preprocess_targets(prediction_results.iloc[0:num_training_examples])\n",
        "\n",
        "# Choose 15% after training examples for validation  and normalize\n",
        "validation_examples = normalize_linear_scale(preprocess_features(prediction_results.iloc[num_training_examples:index_validation_examples]))\n",
        "validation_targets = preprocess_targets(prediction_results.iloc[num_training_examples:index_validation_examples])\n",
        "\n",
        "# Choose 15% after validation examples for testing  and normalize\n",
        "test_examples = normalize_linear_scale(preprocess_features(prediction_results.iloc[index_validation_examples:index_test_examples]))\n",
        "test_targets = preprocess_targets(prediction_results.iloc[index_validation_examples:index_test_examples])"
      ],
      "execution_count": 0,
      "outputs": []
    },
    {
      "metadata": {
        "id": "8gGe0XHnFwkF",
        "colab_type": "code",
        "colab": {}
      },
      "cell_type": "code",
      "source": [
        "_ = training_examples.hist(bins=20, figsize=(18, 12), xlabelsize=10)"
      ],
      "execution_count": 0,
      "outputs": []
    },
    {
      "metadata": {
        "id": "f-kxwoC1vrOd",
        "colab_type": "code",
        "colab": {}
      },
      "cell_type": "code",
      "source": [
        "# Double-check that we've done the right thing.\n",
        "print(\"Training examples summary:\")\n",
        "display.display(training_examples.describe())\n",
        "display.display(training_examples.isnull().values.any())\n",
        "print(\"Validation examples summary:\")\n",
        "display.display(validation_examples.describe())\n",
        "display.display(validation_examples.isnull().values.any())\n",
        "print(\"Test examples summary:\")\n",
        "display.display(test_examples.describe())\n",
        "display.display(test_examples.isnull().values.any())\n",
        "\n",
        "# print(\"Training targets summary:\") \n",
        "display.display(training_targets.describe())\n",
        "display.display(training_targets.isnull().values.any())\n",
        "print(\"Validation targets summary:\")\n",
        "display.display(validation_targets.describe())\n",
        "display.display(validation_targets.isnull().values.any())\n",
        "print(\"Test targets summary:\")\n",
        "display.display(test_targets.describe())\n",
        "display.display(test_targets.isnull().values.any())"
      ],
      "execution_count": 0,
      "outputs": []
    },
    {
      "metadata": {
        "id": "9t8f-V-VfzI7",
        "colab_type": "text"
      },
      "cell_type": "markdown",
      "source": [
        "### Test out neural network regressor"
      ]
    },
    {
      "metadata": {
        "id": "w1Ie4h8ZA7-x",
        "colab_type": "code",
        "colab": {
          "base_uri": "https://localhost:8080/",
          "height": 673
        },
        "outputId": "57cb693c-c1fb-4143-e3f5-6a47955f4601"
      },
      "cell_type": "code",
      "source": [
        "_ = train_nn_regression_model(\n",
        "    my_optimizer=tf.train.GradientDescentOptimizer(learning_rate=0.0005),\n",
        "    steps=7000,\n",
        "    batch_size=60,\n",
        "    hidden_units=[10, 10, 10, 5],\n",
        "    training_examples=training_examples,\n",
        "    training_targets=training_targets,\n",
        "    validation_examples=validation_examples,\n",
        "    validation_targets=validation_targets,\n",
        "    test_examples=test_examples,\n",
        "    test_targets=test_targets)"
      ],
      "execution_count": 303,
      "outputs": [
        {
          "output_type": "stream",
          "text": [
            "Training neural network model...\n",
            "RMSE (on training data):\n",
            "  period 00 : 0.49\n",
            "  period 01 : 0.46\n",
            "  period 02 : 0.45\n",
            "  period 03 : 0.44\n",
            "  period 04 : 0.44\n",
            "  period 05 : 0.44\n",
            "  period 06 : 0.44\n",
            "  period 07 : 0.44\n",
            "  period 08 : 0.44\n",
            "  period 09 : 0.44\n",
            "Model training finished.\n",
            "Final RMSE (on training data):   0.44\n",
            "Final RMSE (on validation data): 0.44\n",
            "Final RMSE (on test data): 0.43\n"
          ],
          "name": "stdout"
        },
        {
          "output_type": "display_data",
          "data": {
            "image/png": "[encoded data removed]",
            "text/plain": [
              "<matplotlib.figure.Figure at 0x7f8922ec1c88>"
            ]
          },
          "metadata": {
            "tags": []
          }
        }
      ]
    },
    {
      "metadata": {
        "id": "A96AEJP9-aZU",
        "colab_type": "code",
        "colab": {
          "base_uri": "https://localhost:8080/",
          "height": 854
        },
        "outputId": "377ace07-3f21-4924-d2b3-0009e3c7018c"
      },
      "cell_type": "code",
      "source": [
        "_, adagrad_training_losses, adagrad_validation_losses = train_nn_regression_model(\n",
        "    my_optimizer=tf.train.AdagradOptimizer(learning_rate=0.0006),\n",
        "    steps=10000,\n",
        "    batch_size=60,\n",
        "    hidden_units=[10, 10, 10, 5],\n",
        "    training_examples=training_examples,\n",
        "    training_targets=training_targets,\n",
        "    validation_examples=validation_examples,\n",
        "    validation_targets=validation_targets,\n",
        "    test_examples=test_examples,\n",
        "    test_targets=test_targets)"
      ],
      "execution_count": 309,
      "outputs": [
        {
          "output_type": "stream",
          "text": [
            "Training neural network model...\n",
            "RMSE (on training data):\n",
            "  period 00 : 0.50\n",
            "  period 01 : 0.45\n",
            "  period 02 : 0.45\n",
            "  period 03 : 0.44\n",
            "  period 04 : 0.44\n",
            "  period 05 : 0.44\n",
            "  period 06 : 0.44\n",
            "  period 07 : 0.44\n",
            "  period 08 : 0.44\n",
            "  period 09 : 0.44\n",
            "Model training finished.\n",
            "Final RMSE (on training data):   0.44\n",
            "Final RMSE (on validation data): 0.44\n",
            "Final RMSE (on test data): 0.43\n"
          ],
          "name": "stdout"
        },
        {
          "output_type": "error",
          "ename": "ValueError",
          "evalue": "ignored",
          "traceback": [
            "\u001b[0;31m---------------------------------------------------------------------------\u001b[0m",
            "\u001b[0;31mValueError\u001b[0m                                Traceback (most recent call last)",
            "\u001b[0;32m<ipython-input-309-c4d766c8b176>\u001b[0m in \u001b[0;36m<module>\u001b[0;34m()\u001b[0m\n\u001b[1;32m      9\u001b[0m     \u001b[0mvalidation_targets\u001b[0m\u001b[0;34m=\u001b[0m\u001b[0mvalidation_targets\u001b[0m\u001b[0;34m,\u001b[0m\u001b[0;34m\u001b[0m\u001b[0m\n\u001b[1;32m     10\u001b[0m     \u001b[0mtest_examples\u001b[0m\u001b[0;34m=\u001b[0m\u001b[0mtest_examples\u001b[0m\u001b[0;34m,\u001b[0m\u001b[0;34m\u001b[0m\u001b[0m\n\u001b[0;32m---> 11\u001b[0;31m     test_targets=test_targets)\n\u001b[0m",
            "\u001b[0;31mValueError\u001b[0m: too many values to unpack (expected 3)"
          ]
        },
        {
          "output_type": "display_data",
          "data": {
            "image/png": "[encoded data removed]",
            "text/plain": [
              "<matplotlib.figure.Figure at 0x7f89257d17f0>"
            ]
          },
          "metadata": {
            "tags": []
          }
        }
      ]
    },
    {
      "metadata": {
        "id": "UoAxDLtAAWyH",
        "colab_type": "code",
        "colab": {
          "base_uri": "https://localhost:8080/",
          "height": 854
        },
        "outputId": "eeaf62d1-cedf-466c-c50b-d4c5402eccb7"
      },
      "cell_type": "code",
      "source": [
        "_, adam_training_losses, adam_validation_losses = train_nn_regression_model(\n",
        "    my_optimizer=tf.train.AdamOptimizer(learning_rate=0.0001),\n",
        "    steps=8000,\n",
        "    batch_size=60,\n",
        "    hidden_units=[10, 10, 10, 5],\n",
        "    training_examples=training_examples,\n",
        "    training_targets=training_targets,\n",
        "    validation_examples=validation_examples,\n",
        "    validation_targets=validation_targets,\n",
        "    test_examples=test_examples,\n",
        "    test_targets=test_targets)"
      ],
      "execution_count": 310,
      "outputs": [
        {
          "output_type": "stream",
          "text": [
            "Training neural network model...\n",
            "RMSE (on training data):\n",
            "  period 00 : 0.44\n",
            "  period 01 : 0.44\n",
            "  period 02 : 0.43\n",
            "  period 03 : 0.43\n",
            "  period 04 : 0.43\n",
            "  period 05 : 0.43\n",
            "  period 06 : 0.43\n",
            "  period 07 : 0.43\n",
            "  period 08 : 0.43\n",
            "  period 09 : 0.43\n",
            "Model training finished.\n",
            "Final RMSE (on training data):   0.43\n",
            "Final RMSE (on validation data): 0.43\n",
            "Final RMSE (on test data): 0.42\n"
          ],
          "name": "stdout"
        },
        {
          "output_type": "error",
          "ename": "ValueError",
          "evalue": "ignored",
          "traceback": [
            "\u001b[0;31m---------------------------------------------------------------------------\u001b[0m",
            "\u001b[0;31mValueError\u001b[0m                                Traceback (most recent call last)",
            "\u001b[0;32m<ipython-input-310-8b49d559549a>\u001b[0m in \u001b[0;36m<module>\u001b[0;34m()\u001b[0m\n\u001b[1;32m      9\u001b[0m     \u001b[0mvalidation_targets\u001b[0m\u001b[0;34m=\u001b[0m\u001b[0mvalidation_targets\u001b[0m\u001b[0;34m,\u001b[0m\u001b[0;34m\u001b[0m\u001b[0m\n\u001b[1;32m     10\u001b[0m     \u001b[0mtest_examples\u001b[0m\u001b[0;34m=\u001b[0m\u001b[0mtest_examples\u001b[0m\u001b[0;34m,\u001b[0m\u001b[0;34m\u001b[0m\u001b[0m\n\u001b[0;32m---> 11\u001b[0;31m     test_targets=test_targets)\n\u001b[0m",
            "\u001b[0;31mValueError\u001b[0m: too many values to unpack (expected 3)"
          ]
        },
        {
          "output_type": "display_data",
          "data": {
            "image/png": "[encoded data removed]",
            "text/plain": [
              "<matplotlib.figure.Figure at 0x7f8912efe080>"
            ]
          },
          "metadata": {
            "tags": []
          }
        }
      ]
    },
    {
      "metadata": {
        "id": "_nbSu-zwf40w",
        "colab_type": "text"
      },
      "cell_type": "markdown",
      "source": [
        "### Test out neural network classifier"
      ]
    },
    {
      "metadata": {
        "id": "mnLV4TqlgCHM",
        "colab_type": "code",
        "colab": {}
      },
      "cell_type": "code",
      "source": [
        "nn_classifier = train_nn_classifier_model(\n",
        "    learning_rate=0.00025,\n",
        "    steps=6000,\n",
        "    batch_size=90,\n",
        "    hidden_units=[10, 10, 5, 5],\n",
        "    training_examples=training_examples,\n",
        "    training_targets=training_targets,\n",
        "    validation_examples=validation_examples,\n",
        "    validation_targets=validation_targets,\n",
        "    test_examples=test_examples,\n",
        "    test_targets=test_targets)\n",
        "\n",
        "evaluation_metrics = nn_classifier.evaluate(input_fn=predict_validation_input_fn)\n",
        "\n",
        "print(\"AUC on the validation set: %0.2f\" % evaluation_metrics['auc'])\n",
        "print(\"Accuracy on the validation set: %0.2f\" % evaluation_metrics['accuracy'])"
      ],
      "execution_count": 0,
      "outputs": []
    },
    {
      "metadata": {
        "id": "F9EhQP2UWISD",
        "colab_type": "code",
        "colab": {
          "base_uri": "https://localhost:8080/",
          "height": 347
        },
        "outputId": "d3ce166d-c163-411e-b2a2-51a3e0453b0b"
      },
      "cell_type": "code",
      "source": [
        "validation_probabilities = nn_classifier.predict(input_fn=predict_validation_input_fn)\n",
        "# Get just the probabilities for the positive class.\n",
        "validation_probabilities = np.array([item['probabilities'][1] for item in validation_probabilities])\n",
        "\n",
        "false_positive_rate, true_positive_rate, thresholds = metrics.roc_curve(\n",
        "    validation_targets, validation_probabilities)\n",
        "plt.plot(false_positive_rate, true_positive_rate, label=\"our model\")\n",
        "plt.plot([0, 1], [0, 1], label=\"random classifier\")\n",
        "_ = plt.legend(loc=2)"
      ],
      "execution_count": 77,
      "outputs": [
        {
          "output_type": "display_data",
          "data": {
            "image/png": "[encoded data removed]",
            "text/plain": [
              "<matplotlib.figure.Figure at 0x7fd9d8e1b278>"
            ]
          },
          "metadata": {
            "tags": []
          }
        }
      ]
    },
    {
      "metadata": {
        "id": "h7dmgQlhWi9I",
        "colab_type": "code",
        "colab": {}
      },
      "cell_type": "code",
      "source": [
        ""
      ],
      "execution_count": 0,
      "outputs": []
    }
  ]
}